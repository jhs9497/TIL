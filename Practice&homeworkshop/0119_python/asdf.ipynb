{
 "cells": [
  {
   "cell_type": "code",
   "execution_count": 8,
   "id": "joint-moses",
   "metadata": {},
   "outputs": [
    {
     "ename": "SyntaxError",
     "evalue": "invalid syntax (<ipython-input-8-6bbec8dcb33d>, line 23)",
     "output_type": "error",
     "traceback": [
      "\u001b[1;36m  File \u001b[1;32m\"<ipython-input-8-6bbec8dcb33d>\"\u001b[1;36m, line \u001b[1;32m23\u001b[0m\n\u001b[1;33m    else:\u001b[0m\n\u001b[1;37m    ^\u001b[0m\n\u001b[1;31mSyntaxError\u001b[0m\u001b[1;31m:\u001b[0m invalid syntax\n"
     ]
    }
   ],
   "source": [
    "# 2. 정중앙 문자\n",
    "\n",
    "# 'ssafy', 'coding'\n",
    "\n",
    "def get_middle_char(word):\n",
    "    \n",
    "    # 1. 들어오는 문자열의 길이를 저장한다.\n",
    "    n = len(word)\n",
    "    \n",
    "    # 2. 조건문을 통해, 문자열의 길이 홀짝 나눈다.\n",
    "    # 문자열의 길이가 홀수일 경우\n",
    "    if n % 2 == 0:\n",
    "        middle = len(word) // 2\n",
    "        return word[middle]\n",
    "    # 문자열의 길이가 짝수일경우\n",
    "     # 1) 인덱싱을 활용한 방법\n",
    "    else: \n",
    "       \n",
    "        middle = len(word) // 2\n",
    "        middle_left = len(word) // 2-1\n",
    "        return word[middle_left] + word[middle]\n",
    "    # 2) 슬라이싱을 활용한 방법\n",
    "    else:\n",
    "        return word[middle_left:midsdle+1]\n",
    "\n",
    "   \n",
    "\n",
    "get_middle_char('ssafy')\n",
    "get_middle_char('coding')"
   ]
  },
  {
   "cell_type": "code",
   "execution_count": 10,
   "id": "religious-remains",
   "metadata": {},
   "outputs": [
    {
     "data": {
      "text/plain": [
       "81.0"
      ]
     },
     "execution_count": 10,
     "metadata": {},
     "output_type": "execute_result"
    }
   ],
   "source": [
    "# 가변 인자 리스트\n",
    "\n",
    "def my_avg(*numbers):\n",
    "    total = 0\n",
    "    count = 0\n",
    "    \n",
    "    for number in numbers:\n",
    "        total += number\n",
    "        count += 1\n",
    "    \n",
    "    return total / count\n",
    "\n",
    "my_avg(77, 83, 95, 80, 70)\n",
    "        \n",
    "    "
   ]
  },
  {
   "cell_type": "code",
   "execution_count": 50,
   "id": "premier-possible",
   "metadata": {},
   "outputs": [
    {
     "data": {
      "text/plain": [
       "103"
      ]
     },
     "execution_count": 50,
     "metadata": {},
     "output_type": "execute_result"
    }
   ],
   "source": [
    "#1. list의 합 구하기\n",
    "\n",
    "    \n",
    "#1. numbers 리스트의 원소들을 반복문을 통해서 꺼낸다.\n",
    "#2. 그 원소들의 값을 어딘가에 차곡차곡 더한다.\n",
    "\n",
    "def list_sum(numbers):\n",
    "    total = 0\n",
    "    for number in numbers:\n",
    "        total += number\n",
    "        \n",
    "    return total\n",
    "\n",
    "     \n",
    "list_sum([1, 2, 100])\n"
   ]
  },
  {
   "cell_type": "code",
   "execution_count": 46,
   "id": "numerous-performance",
   "metadata": {},
   "outputs": [
    {
     "name": "stdout",
     "output_type": "stream",
     "text": [
      "{'name': 'kim', 'age': 12}\n",
      "{'name': 'lee', 'age': 4}\n"
     ]
    },
    {
     "data": {
      "text/plain": [
       "16"
      ]
     },
     "execution_count": 46,
     "metadata": {},
     "output_type": "execute_result"
    }
   ],
   "source": [
    "#2. Dict로 이뤄진 List의 합 구하기\n",
    "\n",
    "def dict_list_sum(dict_list):\n",
    "    #1. 리스트를 반복문을 통해서 하나씩 꺼내본다.\n",
    "    #2. 반복문에서 뭐가 나오는지 반드시 print로 확인.\n",
    "    #3. 딕셔너리에서 내가 원하는 값을 key로 꺼낸다.\n",
    "    #4. 꺼낸 값을 어딘가에 차곡차곡 더한다.\n",
    "    \n",
    "    total = 0\n",
    "    for each_dict in dict_list:\n",
    "        print(each_dict)\n",
    "        total += each_dict['age']\n",
    "        \n",
    "    return total\n",
    "        \n",
    "dict_list_sum([\n",
    "    {'name': 'kim', 'age': 12},\n",
    "    {'name': 'lee', 'age': 4},\n",
    "])"
   ]
  },
  {
   "cell_type": "code",
   "execution_count": 48,
   "id": "systematic-concept",
   "metadata": {},
   "outputs": [
    {
     "data": {
      "text/plain": [
       "10"
      ]
     },
     "execution_count": 48,
     "metadata": {},
     "output_type": "execute_result"
    }
   ],
   "source": [
    "#3. \n",
    "\n",
    "def all_list_sum(numbers):\n",
    "    # 1. numbers를 순회하면서 하나씩 꺼내본다. 그냥 꺼내본다.\n",
    "    # 2. 이 원소들을 꺼내서 어딘가에 차곡차곡 또 더한다.\n",
    "    \n",
    "    \n",
    "    for number_list in numbers:\n",
    "        total = 0\n",
    "        # number는 리스트.\n",
    "        # 리스트는 반복문으로 원소를 꺼낼 수 있지!\n",
    "        for number in number_list:\n",
    "            total += number\n",
    "    return total\n",
    "\n",
    "        \n",
    "all_list_sum([\n",
    "    [1],\n",
    "    [1, 2],\n",
    "    [1, 2, 3],\n",
    "    [1, 2, 3, 4],\n",
    "])\n",
    "\n"
   ]
  }
 ],
 "metadata": {
  "kernelspec": {
   "display_name": "Python 3",
   "language": "python",
   "name": "python3"
  },
  "language_info": {
   "codemirror_mode": {
    "name": "ipython",
    "version": 3
   },
   "file_extension": ".py",
   "mimetype": "text/x-python",
   "name": "python",
   "nbconvert_exporter": "python",
   "pygments_lexer": "ipython3",
   "version": "3.8.7"
  }
 },
 "nbformat": 4,
 "nbformat_minor": 5
}
