{
 "cells": [
  {
   "cell_type": "markdown",
   "id": "lined-federation",
   "metadata": {},
   "source": [
    "## Circle 인스턴스 만들기\n",
    "아래와 같은 Circle 클래스가 있을 때, 반지름이 3이고 x, y좌표가 (2, 4)인\n",
    "Circle 인스턴스를 만들어 넓이와 둘레를 출력하시오."
   ]
  },
  {
   "cell_type": "code",
   "execution_count": null,
   "id": "equal-conference",
   "metadata": {},
   "outputs": [],
   "source": [
    "class Circle:\n",
    "    \n",
    "    pi = 3.14\n",
    "    x = 0\n",
    "    y = 0\n",
    "    r = 0\n",
    "    \n",
    "    def __init__(self, r, x, y):\n",
    "        self.r = r\n",
    "        self.x = x\n",
    "        self.y = y\n",
    "        \n",
    "    def area(self):\n",
    "        return self.pi * self.r * self.r\n",
    "    \n",
    "    def circumference(self):\n",
    "        return 2 * self.pi * self.r\n",
    "    \n",
    "    def center(self):\n",
    "        return (self.x, self.y)"
   ]
  },
  {
   "cell_type": "code",
   "execution_count": null,
   "id": "plastic-plymouth",
   "metadata": {},
   "outputs": [],
   "source": [
    "my_circle = Circle(3, 2, 4)"
   ]
  },
  {
   "cell_type": "code",
   "execution_count": null,
   "id": "welcome-playlist",
   "metadata": {},
   "outputs": [],
   "source": [
    "my_circle.area()"
   ]
  },
  {
   "cell_type": "code",
   "execution_count": null,
   "id": "fifty-flood",
   "metadata": {},
   "outputs": [],
   "source": [
    "my_circle.circumference()"
   ]
  },
  {
   "cell_type": "markdown",
   "id": "smart-principal",
   "metadata": {},
   "source": [
    "## Dog과 Bird는 Animal이다\n",
    "다음과 같이 Animal 클래스가 주어질 때, 해당 클래스를 상속 받아 아래의 보기와 같이\n",
    "동작하는 Dog 클래스와 Bird 클래스를 작성하시오."
   ]
  },
  {
   "cell_type": "code",
   "execution_count": 7,
   "id": "reasonable-documentation",
   "metadata": {},
   "outputs": [],
   "source": [
    "class Animal:\n",
    "    def __init__(self, name):\n",
    "        self.name = name\n",
    "        \n",
    "    def walk(self):\n",
    "        print(f'{self.name}! 걷는다!')\n",
    "        \n",
    "    def eat(self):\n",
    "        print(f'{self.name}! 먹는다!')"
   ]
  },
  {
   "cell_type": "code",
   "execution_count": 14,
   "id": "sublime-billion",
   "metadata": {},
   "outputs": [],
   "source": [
    "class Dog(Animal):\n",
    "    def __init__(self, name):\n",
    "        self.name = name\n",
    "    \n",
    "    \n",
    "    def walk(self):\n",
    "        print(f'{self.name}! 달린다!')\n",
    "        \n",
    "        \n",
    "    def bark(self):\n",
    "        print(f'{self.name}! 짖는다!')\n",
    "        \n",
    "        \n",
    "class Bird(Animal):\n",
    "    def __init__(self, name):\n",
    "        self.name = name\n",
    "        \n",
    "        \n",
    "    def fly(self):\n",
    "        print(f'{self.name}! 푸드덕!')\n",
    "        "
   ]
  },
  {
   "cell_type": "code",
   "execution_count": null,
   "id": "compact-brunei",
   "metadata": {},
   "outputs": [],
   "source": []
  },
  {
   "cell_type": "code",
   "execution_count": 15,
   "id": "unavailable-twenty",
   "metadata": {},
   "outputs": [],
   "source": [
    "dog = Dog('멍멍이')\n",
    "bird = Bird('구구')"
   ]
  },
  {
   "cell_type": "code",
   "execution_count": 17,
   "id": "collected-columbia",
   "metadata": {
    "scrolled": true
   },
   "outputs": [
    {
     "name": "stdout",
     "output_type": "stream",
     "text": [
      "멍멍이! 달린다!\n",
      "멍멍이! 짖는다!\n"
     ]
    }
   ],
   "source": [
    "dog.walk()\n",
    "dog.bark()"
   ]
  },
  {
   "cell_type": "code",
   "execution_count": 20,
   "id": "offensive-april",
   "metadata": {
    "scrolled": true
   },
   "outputs": [
    {
     "name": "stdout",
     "output_type": "stream",
     "text": [
      "구구! 걷는다!\n",
      "구구! 먹는다!\n",
      "구구! 푸드덕!\n"
     ]
    }
   ],
   "source": [
    "bird.walk()\n",
    "bird.eat()\n",
    "bird.fly()"
   ]
  },
  {
   "cell_type": "markdown",
   "id": "seventh-market",
   "metadata": {},
   "source": [
    "## 오류의 종류\n",
    "아래에 제시된 오류들이 각각 어떠한 경우에 발생하는지 간단하게 작성하시오."
   ]
  },
  {
   "cell_type": "markdown",
   "id": "ignored-consortium",
   "metadata": {},
   "source": [
    "ZeroDivisionError : '0'으로 나눌 수 없을 때 발생\n",
    "NameError : 이름을 찾을 수 없을 때\n",
    "TypeError : 'type'이 부적절할 때\n",
    "IndexError : 시퀀스의 인덱스가 범위를 벗어날 때 발생\n",
    "KeyError : 딕셔너리 키가 보이지 않을 때\n",
    "ModuleNotFoundError : 모듈 에러\n",
    "ImportError : 'import'하려는 이름을 찾을 수 없을 때"
   ]
  },
  {
   "cell_type": "markdown",
   "id": "stuck-opinion",
   "metadata": {},
   "source": [
    "## 도형 만들기\n",
    "아래의 명세를 읽고 Python 클래스를 활용하여 점(Point)과 사각형(Rectangle)을\n",
    "표현하시오.\n"
   ]
  },
  {
   "cell_type": "code",
   "execution_count": 92,
   "id": "modified-provider",
   "metadata": {},
   "outputs": [],
   "source": [
    " class Point:\n",
    "    def __init__(self, x, y):\n",
    "        self.x = x\n",
    "        self.y = y\n",
    "\n",
    "\n",
    "class Rectangle:\n",
    "    def __init__(self, p1, p2):\n",
    "        self.p1 = p1\n",
    "        self.p2 = p2\n",
    "        \n",
    "    def get_area(self):\n",
    "        area = abs(self.p2.x-self.p1.x) * abs(self.p1.y-self.p2.y)\n",
    "        return area\n",
    "    \n",
    "    def get_perimeter(self):\n",
    "        perimeter = abs((self.p2.x-self.p1.x))*2 + abs((self.p1.y-self.p2.y))*2\n",
    "        return perimeter\n",
    "        \n",
    "    def is_square(self):\n",
    "        if abs(self.p2.x-self.p1.x) == abs(self.p1.y-self.p2.y):\n",
    "            return True\n",
    "        return False"
   ]
  },
  {
   "cell_type": "code",
   "execution_count": 93,
   "id": "satisfied-dakota",
   "metadata": {
    "scrolled": true
   },
   "outputs": [
    {
     "name": "stdout",
     "output_type": "stream",
     "text": [
      "4\n",
      "8\n",
      "True\n"
     ]
    }
   ],
   "source": [
    "p1 = Point(1, 3)\n",
    "p2 = Point(3, 1)\n",
    "r1 = Rectangle(p1, p2)\n",
    "\n",
    "print(r1.get_area())\n",
    "print(r1.get_perimeter())\n",
    "print(r1.is_square())"
   ]
  },
  {
   "cell_type": "code",
   "execution_count": 94,
   "id": "featured-project",
   "metadata": {},
   "outputs": [
    {
     "name": "stdout",
     "output_type": "stream",
     "text": [
      "9\n",
      "12\n",
      "True\n"
     ]
    }
   ],
   "source": [
    "p3 = Point(3, 7)\n",
    "p4 = Point(6, 4)\n",
    "r2 = Rectangle(p3, p4)\n",
    "\n",
    "print(r2.get_area())\n",
    "print(r2.get_perimeter())\n",
    "print(r2.is_square())"
   ]
  },
  {
   "cell_type": "code",
   "execution_count": null,
   "id": "quick-employer",
   "metadata": {},
   "outputs": [],
   "source": []
  },
  {
   "cell_type": "code",
   "execution_count": 29,
   "id": "dramatic-poison",
   "metadata": {},
   "outputs": [
    {
     "data": {
      "text/plain": [
       "-2"
      ]
     },
     "execution_count": 29,
     "metadata": {},
     "output_type": "execute_result"
    }
   ],
   "source": [
    "p1.x-p2.x"
   ]
  },
  {
   "cell_type": "code",
   "execution_count": 30,
   "id": "honest-tattoo",
   "metadata": {},
   "outputs": [
    {
     "data": {
      "text/plain": [
       "2"
      ]
     },
     "execution_count": 30,
     "metadata": {},
     "output_type": "execute_result"
    }
   ],
   "source": [
    "abs(p2.y) *2 "
   ]
  },
  {
   "cell_type": "code",
   "execution_count": 89,
   "id": "protected-equity",
   "metadata": {},
   "outputs": [],
   "source": [
    "a = 5\n",
    "b =2\n"
   ]
  },
  {
   "cell_type": "code",
   "execution_count": 91,
   "id": "substantial-player",
   "metadata": {},
   "outputs": [
    {
     "name": "stdout",
     "output_type": "stream",
     "text": [
      "12\n"
     ]
    }
   ],
   "source": [
    "perimeter = abs((a-b))*2 + abs((a-b))*2\n",
    "print(perimeter)"
   ]
  }
 ],
 "metadata": {
  "kernelspec": {
   "display_name": "Python 3",
   "language": "python",
   "name": "python3"
  },
  "language_info": {
   "codemirror_mode": {
    "name": "ipython",
    "version": 3
   },
   "file_extension": ".py",
   "mimetype": "text/x-python",
   "name": "python",
   "nbconvert_exporter": "python",
   "pygments_lexer": "ipython3",
   "version": "3.8.7"
  },
  "toc": {
   "base_numbering": 1,
   "nav_menu": {},
   "number_sections": true,
   "sideBar": true,
   "skip_h1_title": false,
   "title_cell": "Table of Contents",
   "title_sidebar": "Contents",
   "toc_cell": false,
   "toc_position": {},
   "toc_section_display": true,
   "toc_window_display": false
  }
 },
 "nbformat": 4,
 "nbformat_minor": 5
}
