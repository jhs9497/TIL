{
 "cells": [
  {
   "cell_type": "markdown",
   "id": "hired-withdrawal",
   "metadata": {},
   "source": [
    "## 1. Built-in 함수와 메서드\n",
    "sorted()와 .sort()의 차이점을 코드의 실행 결과를 활용하여 설명하시오"
   ]
  },
  {
   "cell_type": "code",
   "execution_count": null,
   "id": "declared-movement",
   "metadata": {
    "scrolled": true
   },
   "outputs": [],
   "source": [
    "# 1. sorted()\n",
    "\n",
    "A = [1, 4, 16, 7, 15, 9]\n",
    "\n",
    "B = sorted(A)\n",
    "\n",
    "print(A)\n",
    "print(B)"
   ]
  },
  {
   "cell_type": "code",
   "execution_count": null,
   "id": "infectious-music",
   "metadata": {},
   "outputs": [],
   "source": [
    "# 2. .sort()\n",
    "\n",
    "A = [1, 4, 16, 7, 15, 9]\n",
    "\n",
    "B = A.sort()\n",
    "\n",
    "print(A)\n",
    "print(B)"
   ]
  },
  {
   "cell_type": "markdown",
   "id": "quantitative-federation",
   "metadata": {},
   "source": [
    "### sorted()는 원본을 바꾸진 않지만 .sort() 는 원본 자체를 바꿉니다."
   ]
  },
  {
   "cell_type": "markdown",
   "id": "expensive-carpet",
   "metadata": {},
   "source": [
    "## 2. .extend()와 .append()\n",
    ".extend()와 .append()의 차이점을 코드의 실행 결과를 활용하여 설명하시오."
   ]
  },
  {
   "cell_type": "code",
   "execution_count": null,
   "id": "elegant-stage",
   "metadata": {},
   "outputs": [],
   "source": [
    "# 1. .append()\n",
    "\n",
    "A = [1 , 6, 3, 8]\n",
    "\n",
    "A.append(2)\n",
    "\n",
    "A.append('apple')\n",
    "\n",
    "print(A)"
   ]
  },
  {
   "cell_type": "code",
   "execution_count": null,
   "id": "personal-flavor",
   "metadata": {},
   "outputs": [],
   "source": [
    "# 2. .extend()\n",
    "\n",
    "A = [1 , 6, 3, 8]\n",
    "\n",
    "# A.extend(2) -> extend는 숫자 못넣음\n",
    "\n",
    "A.extend('apple')\n",
    "\n",
    "print(A)"
   ]
  },
  {
   "cell_type": "markdown",
   "id": "cooked-riverside",
   "metadata": {},
   "source": [
    "### append는 내용 그대로를 리스트에 추가하지만 extend는 숫자를 못넣고, 각 개별요소를 하나씩 넣습니다."
   ]
  },
  {
   "cell_type": "markdown",
   "id": "continuous-anatomy",
   "metadata": {},
   "source": [
    "## 3. 복사가 잘 된 건가?\n",
    "아래의 코드를 실행 하였을 때, 변수 a와 b에 담긴 list의 요소가 같은지 혹은 다른지\n",
    "여부를 판단하고 그 이유를 작성하시오."
   ]
  },
  {
   "cell_type": "code",
   "execution_count": null,
   "id": "historical-metabolism",
   "metadata": {},
   "outputs": [],
   "source": [
    "a = [1, 2, 3, 4, 5]\n",
    "b = a\n",
    "\n",
    "a[2] =5\n",
    "\n",
    "print(a, id(a))\n",
    "print(b, id(b))"
   ]
  },
  {
   "cell_type": "code",
   "execution_count": null,
   "id": "stunning-network",
   "metadata": {},
   "outputs": [],
   "source": [
    "# list의 주소를 통해 값을 공유하고 있는 것이기 때문에 요소가 같다고 볼 순 없다."
   ]
  },
  {
   "cell_type": "code",
   "execution_count": null,
   "id": "korean-accreditation",
   "metadata": {
    "scrolled": true
   },
   "outputs": [],
   "source": [
    "a = [1, 2, 3, 4, 5]\n",
    "b = a[:]\n",
    "\n",
    "a[2] = 5\n",
    "\n",
    "print(a, id(a))\n",
    "print(b, id(b))"
   ]
  },
  {
   "cell_type": "code",
   "execution_count": null,
   "id": "atmospheric-mozambique",
   "metadata": {},
   "outputs": [],
   "source": [
    "# 위와 같이 복사해야 id값이 아닌 요소를 복사한 것이다."
   ]
  },
  {
   "cell_type": "markdown",
   "id": "activated-coverage",
   "metadata": {},
   "source": [
    "## 1. 무엇이 중복일까\n",
    "문자열을 전달 받아 해당 문자열에서 중복해서 나타난 문자들을 담은 list를 반환하는\n",
    "duplicated_letters 함수를 작성하시오.\n"
   ]
  },
  {
   "cell_type": "code",
   "execution_count": 22,
   "id": "expanded-helicopter",
   "metadata": {
    "scrolled": true
   },
   "outputs": [],
   "source": [
    "# 빈 리스트와 알파벳의 숫자를 셀 qls dic를 만들자\n",
    "\n",
    "\n",
    "\n",
    "\n",
    "def duplicated_letters(word):\n",
    "    Alpa_dict = {}\n",
    "    # for문을 돌려서 각각의 알파벳들을 Alpa_dic에 옆에 count를 달아 넣자\n",
    "    for x in word:\n",
    "    # x가 Alpa_dict 안에 없다면 1을 넣고 중복된다면 +1을 해서 \n",
    "    # Alpa_dict에 각 알파벳의 숫자를 표기하게 만든다.\n",
    "        if x in Alpa_dict:\n",
    "            Alpa_dict[x] += 1\n",
    "        else:\n",
    "            Alpa_dict[x] = 1\n",
    "    # 잘 들어갔나 print로 확인\n",
    "    # print(Alpa_dict) 잘나온다.\n",
    "    # 그리고 만약 value 값이 2 이상이면 key값을 \n",
    "    # New_list에 추가해서 New_list를 return한다.\n",
    "    New_list = []\n",
    "    for key in Alpa_dict:\n",
    "    # Alpa_dict에서 for문을 돌리며 만약 key의 value값이\n",
    "    # 2보다 같거나 크다면 New_list에 key값을 추가하도록 설정한다.\n",
    "        if Alpa_dict[key] >= 2:\n",
    "            New_list.append(key)\n",
    "    return New_list\n",
    "    \n",
    "            "
   ]
  },
  {
   "cell_type": "code",
   "execution_count": 28,
   "id": "flexible-sampling",
   "metadata": {
    "scrolled": true
   },
   "outputs": [
    {
     "data": {
      "text/plain": [
       "['a', 'n']"
      ]
     },
     "execution_count": 28,
     "metadata": {},
     "output_type": "execute_result"
    }
   ],
   "source": [
    "duplicated_letters('banana')"
   ]
  },
  {
   "cell_type": "code",
   "execution_count": 45,
   "id": "wicked-isolation",
   "metadata": {
    "scrolled": true
   },
   "outputs": [
    {
     "data": {
      "text/plain": [
       "['p']"
      ]
     },
     "execution_count": 45,
     "metadata": {},
     "output_type": "execute_result"
    }
   ],
   "source": [
    "duplicated_letters('apple')"
   ]
  },
  {
   "cell_type": "markdown",
   "id": "every-tiger",
   "metadata": {},
   "source": [
    "## 2. 소대소대\n",
    "문자열을 전달 받아 해당 문자열을 소문자와 대문자가 번갈아 나타나도록 변환하여\n",
    "반환하는 low_and_up 함수를 작성하시오. 이때, 전달 받는 문자열은 알파벳으로만\n",
    "구성된다."
   ]
  },
  {
   "cell_type": "code",
   "execution_count": 77,
   "id": "guided-uniform",
   "metadata": {},
   "outputs": [],
   "source": [
    "# 우선 upper 함수랑 lower 함수를 확인해보자\n",
    "\n",
    "# A = 'apple'\n",
    "\n",
    "# print(A.upper())\n",
    "\n",
    "# B = 'APPLE'\n",
    "\n",
    "# print(B.lower())\n",
    "\n",
    "# 오케이 .upper , .lower로 쓰면 된다.\n",
    "\n",
    "def low_and_up(word):\n",
    "    # range를 이용한 인덱싱으로 홀짝을 구분하자\n",
    "    result = ''   # result가 스트링을 담을 수 있다는걸 생각해내는데 오래걸렸다\n",
    "    for x in range(len(word)): # -> 처음에 잘못 생각해서 range(1, len(word)+1) 했다가 계속 string out of range 뜸\n",
    "        # 만약 짝수번째 알파벳이면 lower를\n",
    "        # 아니라면 upper를 해주자\n",
    "        if x % 2 == 0:\n",
    "            result += word[x].lower()  # result가 스트링이기 때문에 하나씩 더해갈 수 있다.\n",
    "        else:\n",
    "            result += word[x].upper()\n",
    "    return result"
   ]
  },
  {
   "cell_type": "code",
   "execution_count": 78,
   "id": "dense-gospel",
   "metadata": {},
   "outputs": [
    {
     "data": {
      "text/plain": [
       "'aPpLe'"
      ]
     },
     "execution_count": 78,
     "metadata": {},
     "output_type": "execute_result"
    }
   ],
   "source": [
    "low_and_up('apple')\n"
   ]
  },
  {
   "cell_type": "code",
   "execution_count": 79,
   "id": "corresponding-document",
   "metadata": {
    "scrolled": true
   },
   "outputs": [
    {
     "data": {
      "text/plain": [
       "'bAnAnA'"
      ]
     },
     "execution_count": 79,
     "metadata": {},
     "output_type": "execute_result"
    }
   ],
   "source": [
    "low_and_up('banana')"
   ]
  },
  {
   "cell_type": "markdown",
   "id": "gross-uncle",
   "metadata": {},
   "source": [
    "## 3. 숫자의 의미\n",
    "정수 0부터 9까지로 이루어진 list를 전달 받아, 연속적으로 나타나는 숫자는 하나만 남\n",
    "기고 제거한 list를 반환하는 lonely 함수를 작성하시오. 이때, 제거된 후 남은 수들이 담\n",
    "긴 list의 요소들은 기존의 순서를 유지해야 한다."
   ]
  },
  {
   "cell_type": "code",
   "execution_count": 135,
   "id": "exclusive-embassy",
   "metadata": {},
   "outputs": [],
   "source": [
    "# 음.. 새로운 리스트를 만들고 순서대로 돌리면서\n",
    "# 없으면 추가하고 있으면 pass하는 식으로 만들어볼까 ?\n",
    "# 아 안에 있다고 물어보면 [1, 3, 0, 1]과 같은 답은 나올 수 가 없다...\n",
    "# 0부터 9까지로 이루어진 list를 전달받는다고 문제에 나와있으니\n",
    "# 빈리스트가 오는 경우는 배제한다.\n",
    "\n",
    "# 리스트를 돌면서 다음숫자랑 다르면 뽑고 같으면 넘어가는 식으로 New_list에 추가해보자\n",
    "# 단 이럴 경우 마지막 번 째 숫자는 뽑힐수가 없다.\n",
    "# 마지막 순자는 마지막 바로 전 숫자가 같던 다르던 무조건 뽑혀야 하기 때문에\n",
    "# why 1)? 만약 마지막 바로 전 숫자가 같으면 for 문의 if에 해당하지 않기 떄문에\n",
    "# 마지막 바로 전 숫자와 마지막 숫자 모두 뽑히지 않게된다.\n",
    "# why 2)? 만약 마지막 바로 전 숫자와 마지막 숫자가 다르면 마지막 바로 전 숫자는 뽑히지만\n",
    "# 마지막 숫자는 for이 끝나기 때문에 뽑히지 않는다.\n",
    "\n",
    "# 따라서 마지막 숫자는 elif로 무조건 뽑히게 만든다.\n",
    "\n",
    "\n",
    "def lonely(numbers):\n",
    "    New_list = []\n",
    "    for i in range(1, len(numbers)):\n",
    "        if numbers[i-1] != numbers[i]:\n",
    "            New_list.append(numbers[i-1])\n",
    "        elif i == len(numbers) -1:\n",
    "            New_list.append(numbers[i-1])\n",
    "        else:\n",
    "            pass\n",
    "    return New_list\n",
    "            "
   ]
  },
  {
   "cell_type": "code",
   "execution_count": 136,
   "id": "chubby-scratch",
   "metadata": {},
   "outputs": [
    {
     "data": {
      "text/plain": [
       "[1, 3, 0, 1]"
      ]
     },
     "execution_count": 136,
     "metadata": {},
     "output_type": "execute_result"
    }
   ],
   "source": [
    "lonely([1, 1, 3, 3, 0, 1, 1])"
   ]
  },
  {
   "cell_type": "code",
   "execution_count": 137,
   "id": "civil-replica",
   "metadata": {},
   "outputs": [
    {
     "data": {
      "text/plain": [
       "[4, 3]"
      ]
     },
     "execution_count": 137,
     "metadata": {},
     "output_type": "execute_result"
    }
   ],
   "source": [
    "lonely([4, 4, 4, 3, 3])"
   ]
  },
  {
   "cell_type": "code",
   "execution_count": 1,
   "id": "encouraging-palestinian",
   "metadata": {},
   "outputs": [
    {
     "name": "stdout",
     "output_type": "stream",
     "text": [
      "[1, 2, 4, 5]\n"
     ]
    }
   ],
   "source": [
    "A = [1, 2, 3, 4, 5]\n",
    "\n",
    "A.pop(2)  # 인덱싱으로 날리는 거군\n",
    "\n",
    "print(A)"
   ]
  },
  {
   "cell_type": "code",
   "execution_count": null,
   "id": "remarkable-mouse",
   "metadata": {},
   "outputs": [],
   "source": []
  }
 ],
 "metadata": {
  "kernelspec": {
   "display_name": "Python 3",
   "language": "python",
   "name": "python3"
  },
  "language_info": {
   "codemirror_mode": {
    "name": "ipython",
    "version": 3
   },
   "file_extension": ".py",
   "mimetype": "text/x-python",
   "name": "python",
   "nbconvert_exporter": "python",
   "pygments_lexer": "ipython3",
   "version": "3.8.7"
  },
  "toc": {
   "base_numbering": 1,
   "nav_menu": {},
   "number_sections": true,
   "sideBar": true,
   "skip_h1_title": false,
   "title_cell": "Table of Contents",
   "title_sidebar": "Contents",
   "toc_cell": false,
   "toc_position": {},
   "toc_section_display": true,
   "toc_window_display": false
  }
 },
 "nbformat": 4,
 "nbformat_minor": 5
}
