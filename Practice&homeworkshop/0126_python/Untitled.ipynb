{
 "cells": [
  {
   "cell_type": "code",
   "execution_count": 26,
   "id": "signed-brunei",
   "metadata": {
    "scrolled": true
   },
   "outputs": [
    {
     "name": "stdout",
     "output_type": "stream",
     "text": [
      "2\n"
     ]
    }
   ],
   "source": [
    "alph = 'ABCDEFGHIJKLMNOPQRSTUVWXYZ'\n",
    "\n",
    "alph_dict = {}\n",
    "\n",
    "\n",
    "for i in range(len(alph)):\n",
    "    \n",
    "    alph_dict[alph[i]] = i+1\n",
    "\n",
    "print(alph_dict['B'])"
   ]
  },
  {
   "cell_type": "code",
   "execution_count": 42,
   "id": "detailed-dallas",
   "metadata": {},
   "outputs": [
    {
     "name": "stdout",
     "output_type": "stream",
     "text": [
      "sdalkfjaewoifjcl\n",
      "19 4 1 12 11 6 10 1 5 23 15 9 6 10 3 12 "
     ]
    }
   ],
   "source": [
    "test_case = str(input()).upper()\n",
    "\n",
    "\n",
    "alph = 'ABCDEFGHIJKLMNOPQRSTUVWXYZ'\n",
    "\n",
    "alph_dict = {}\n",
    "\n",
    "\n",
    "for i in range(len(alph)):\n",
    "    \n",
    "    alph_dict[alph[i]] = i+1\n",
    "\n",
    "\n",
    "\n",
    "for char in test_case:\n",
    "    result = ''\n",
    "    for i in alph_dict:\n",
    "        if char == i:\n",
    "            result += str(alph_dict[char])\n",
    "            \n",
    "\n",
    "\n",
    "    print(result, end=' ')"
   ]
  },
  {
   "cell_type": "code",
   "execution_count": 52,
   "id": "electric-midwest",
   "metadata": {},
   "outputs": [
    {
     "name": "stdout",
     "output_type": "stream",
     "text": [
      "12 45\n",
      "34\n"
     ]
    }
   ],
   "source": [
    "numbers = list(map(int, input().split()))\n",
    "\n",
    "answer = abs(numbers[0]-numbers[1])+1\n",
    "\n",
    "print(answer)"
   ]
  },
  {
   "cell_type": "code",
   "execution_count": null,
   "id": "potential-summary",
   "metadata": {},
   "outputs": [],
   "source": [
    "test_case = int(input())\n",
    "\n",
    "for i in range(test_case):\n",
    "\n",
    "    numbers = list(map(int, input().split()))\n",
    "\n",
    "\n",
    "\n",
    "    q, r = divmod(numbers[0], numbers[1])\n",
    "\n",
    "    print(f'#{i+1} {q} {r}')"
   ]
  }
 ],
 "metadata": {
  "kernelspec": {
   "display_name": "Python 3",
   "language": "python",
   "name": "python3"
  },
  "language_info": {
   "codemirror_mode": {
    "name": "ipython",
    "version": 3
   },
   "file_extension": ".py",
   "mimetype": "text/x-python",
   "name": "python",
   "nbconvert_exporter": "python",
   "pygments_lexer": "ipython3",
   "version": "3.8.7"
  },
  "toc": {
   "base_numbering": 1,
   "nav_menu": {},
   "number_sections": true,
   "sideBar": true,
   "skip_h1_title": false,
   "title_cell": "Table of Contents",
   "title_sidebar": "Contents",
   "toc_cell": false,
   "toc_position": {},
   "toc_section_display": true,
   "toc_window_display": false
  }
 },
 "nbformat": 4,
 "nbformat_minor": 5
}
