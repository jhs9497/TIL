{
 "cells": [
  {
   "cell_type": "markdown",
   "id": "nutritional-yorkshire",
   "metadata": {},
   "source": [
    "## 1. 평균 점수 구하기\n",
    "key 값으로 과목명, value 값으로 점수를 가지는 dictionary를 전달 받아, 전체 과목의\n",
    "평균 점수를 반환하는 함수 get_dict_avg 함수를 작성하시오."
   ]
  },
  {
   "cell_type": "code",
   "execution_count": 23,
   "id": "level-thickness",
   "metadata": {},
   "outputs": [
    {
     "data": {
      "text/plain": [
       "85.5"
      ]
     },
     "execution_count": 23,
     "metadata": {},
     "output_type": "execute_result"
    }
   ],
   "source": [
    "def get_dict_avg(x):\n",
    "    total = 0\n",
    "    for i in x.values():\n",
    "        total += i\n",
    "    return total / len(x)\n",
    "        \n",
    "        \n",
    "        \n",
    "get_dict_avg({\n",
    "    'python' : 80,\n",
    "    'algorithm' : 90,\n",
    "    'django' : 89,\n",
    "    'web' : 83,\n",
    "})"
   ]
  },
  {
   "cell_type": "markdown",
   "id": "tight-harbor",
   "metadata": {},
   "source": [
    "## 2. 혈액형 분류하기\n",
    "여러 사람의 혈액형(A, B, AB, O)에 대한 정보가 담긴 list를 전달 받아, key는 혈액형의\n",
    "종류, value는 사람 수인 dictionary를 반환하는 count_blood 함수를 작성하시오."
   ]
  },
  {
   "cell_type": "code",
   "execution_count": 11,
   "id": "minute-rider",
   "metadata": {
    "scrolled": true
   },
   "outputs": [
    {
     "data": {
      "text/plain": [
       "{'A': 3, 'B': 3, 'O': 3, 'AB': 3}"
      ]
     },
     "execution_count": 11,
     "metadata": {},
     "output_type": "execute_result"
    }
   ],
   "source": [
    "def count_blood(x):\n",
    "    \n",
    "    new_dict = {}\n",
    "    for i in x:\n",
    "        if i in new_dict:\n",
    "            new_dict[i] += 1\n",
    "        else :\n",
    "            new_dict[i] = 1\n",
    "    return new_dict\n",
    "    \n",
    "    \n",
    "    \n",
    "    \n",
    "count_blood([\n",
    "    'A', 'B', 'A', 'O', 'AB', 'AB',\n",
    "    'O', 'A', 'B', 'O', 'B', 'AB',\n",
    "])"
   ]
  },
  {
   "cell_type": "markdown",
   "id": "aging-blank",
   "metadata": {},
   "source": [
    "## 1. 모음은 몇 개나 있을까?\n",
    "문자열을 전달 받아 해당 문자열의 모음 갯수를 반환하는 count_vowels 함수를\n",
    "작성하시오. 단, .count() 메서드를 활용하여 작성하시오."
   ]
  },
  {
   "cell_type": "code",
   "execution_count": 22,
   "id": "ordered-science",
   "metadata": {},
   "outputs": [
    {
     "name": "stdout",
     "output_type": "stream",
     "text": [
      "2\n",
      "3\n"
     ]
    }
   ],
   "source": [
    "A = ['a', 'e', 'i', 'o', 'u']\n",
    "\n",
    "def count_vowels(x):\n",
    "    count = 0\n",
    "    for word in x:\n",
    "        if word in A:\n",
    "            count += 1\n",
    "    print(count)\n",
    "\n",
    "count_vowels('apple')\n",
    "count_vowels('banana')"
   ]
  },
  {
   "cell_type": "markdown",
   "id": "polar-currency",
   "metadata": {},
   "source": [
    "## 2. 문자열 조작\n",
    "다음 중, 문자열(string)을 조작하는 방법으로 옳지 않은 것을 고르시오"
   ]
  },
  {
   "cell_type": "code",
   "execution_count": null,
   "id": "stupid-evanescence",
   "metadata": {},
   "outputs": [],
   "source": [
    "(4) stirp: 특정문자를 지정하지 않으면 공백을 제거한다."
   ]
  },
  {
   "cell_type": "code",
   "execution_count": null,
   "id": "julian-juice",
   "metadata": {},
   "outputs": [],
   "source": [
    "cafe.append('bananapresso')"
   ]
  },
  {
   "cell_type": "code",
   "execution_count": 62,
   "id": "lovely-breath",
   "metadata": {},
   "outputs": [
    {
     "data": {
      "text/plain": [
       "[1024, 3025]"
      ]
     },
     "execution_count": 62,
     "metadata": {},
     "output_type": "execute_result"
    }
   ],
   "source": [
    "def only_sqaure_area(x, y):\n",
    "    A_list = x\n",
    "    B_list = y\n",
    "    result = []\n",
    "    for i in x:\n",
    "        for j in y:\n",
    "            if i == j:\n",
    "                answer = i*j\n",
    "                result.append(answer)\n",
    "    return result\n",
    "    \n",
    "    \n",
    "only_sqaure_area([32, 55, 63], [13, 32, 40, 55])"
   ]
  }
 ],
 "metadata": {
  "kernelspec": {
   "display_name": "Python 3",
   "language": "python",
   "name": "python3"
  },
  "language_info": {
   "codemirror_mode": {
    "name": "ipython",
    "version": 3
   },
   "file_extension": ".py",
   "mimetype": "text/x-python",
   "name": "python",
   "nbconvert_exporter": "python",
   "pygments_lexer": "ipython3",
   "version": "3.8.7"
  }
 },
 "nbformat": 4,
 "nbformat_minor": 5
}
