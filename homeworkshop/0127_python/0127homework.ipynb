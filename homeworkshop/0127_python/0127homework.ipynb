{
 "cells": [
  {
   "cell_type": "markdown",
   "id": "exact-power",
   "metadata": {},
   "source": [
    "## Type Class\n",
    "Python은 객체 지향 프로그래밍 언어이다. Python에서 기본적으로 정의되어 있는\n",
    "클래스를 최소 5가지 이상 작성하시오."
   ]
  },
  {
   "cell_type": "code",
   "execution_count": null,
   "id": "leading-armenia",
   "metadata": {},
   "outputs": [],
   "source": [
    "int complex str float dict"
   ]
  },
  {
   "cell_type": "markdown",
   "id": "color-eclipse",
   "metadata": {},
   "source": [
    "## Magic Method\n",
    "아래에 제시된 매직 메서드들이 각각 어떠한 역할을 하는지 간단하게 작성하시오."
   ]
  },
  {
   "cell_type": "code",
   "execution_count": null,
   "id": "logical-runner",
   "metadata": {},
   "outputs": [],
   "source": [
    "__init__ : 인스턴스를 생성할 때 사용한다.\n",
    "__del__ : 인스턴스를 삭제할 때 사용한다.\n",
    "__str__ : 문자열로 변환하여 출력할 때 사용한다.\n",
    "__repr__ : 사용가자 이해할 수 있도록 문자열로 변환하여 출력할 때 사용한다."
   ]
  },
  {
   "cell_type": "markdown",
   "id": "organic-samba",
   "metadata": {},
   "source": [
    "## Instance Method\n",
    ".sort()와 같이 문자열, 리스트, 딕셔너리 등을 조작 할 때 사용하였던 것들은 클래스에\n",
    "정의된 메서드들이었다. 이처럼 문자열, 리스트, 딕셔너리 등을 조작하는 메서드를 최소\n",
    "3가지 이상 그 역할과 함께 작성하시오."
   ]
  },
  {
   "cell_type": "code",
   "execution_count": null,
   "id": "ruled-capitol",
   "metadata": {},
   "outputs": [],
   "source": [
    ".append() : 리스트의 뒤쪽에 항목을 추가할 때 사용한다.\n",
    ".upper() : 문자열의 모든 알파벳을 대문자로 변환할 때 사용한다.\n",
    ".count() : 리스트내의 특정 요소의 갯수를 셀 때 사용한다."
   ]
  },
  {
   "cell_type": "markdown",
   "id": "colonial-series",
   "metadata": {},
   "source": [
    "## Module Import"
   ]
  },
  {
   "cell_type": "code",
   "execution_count": null,
   "id": "graphic-combining",
   "metadata": {},
   "outputs": [],
   "source": [
    "(a) = fibo\n",
    "(b) = fibo_recursion\n",
    "(c) = recursion"
   ]
  },
  {
   "cell_type": "markdown",
   "id": "optical-monday",
   "metadata": {},
   "source": [
    "## pip\n",
    "아래 명령어는 (1) 무엇을 위한 명령인지 (2) 실행은 어디에서 해야하는지 작성 하시오."
   ]
  },
  {
   "cell_type": "code",
   "execution_count": 2,
   "id": "seeing-smile",
   "metadata": {
    "scrolled": true
   },
   "outputs": [
    {
     "name": "stdout",
     "output_type": "stream",
     "text": [
      "Requirement already satisfied: faker in c:\\users\\jhs\\appdata\\local\\programs\\python\\python38\\lib\\site-packages (5.8.0)\n",
      "Requirement already satisfied: text-unidecode==1.3 in c:\\users\\jhs\\appdata\\local\\programs\\python\\python38\\lib\\site-packages (from faker) (1.3)\n",
      "Requirement already satisfied: python-dateutil>=2.4 in c:\\users\\jhs\\appdata\\local\\programs\\python\\python38\\lib\\site-packages (from faker) (2.8.1)\n",
      "Requirement already satisfied: six>=1.5 in c:\\users\\jhs\\appdata\\local\\programs\\python\\python38\\lib\\site-packages (from python-dateutil>=2.4->faker) (1.15.0)\n"
     ]
    }
   ],
   "source": [
    "!pip install faker "
   ]
  },
  {
   "cell_type": "code",
   "execution_count": null,
   "id": "twenty-record",
   "metadata": {},
   "outputs": [],
   "source": [
    "-> 1) faker라는 패키지를 설치하기 위한 명령어이다.\n",
    "   2) cmd에서 해야한다."
   ]
  },
  {
   "cell_type": "code",
   "execution_count": 3,
   "id": "familiar-hawaii",
   "metadata": {},
   "outputs": [
    {
     "data": {
      "text/plain": [
       "'Roberto Marshall'"
      ]
     },
     "execution_count": 3,
     "metadata": {},
     "output_type": "execute_result"
    }
   ],
   "source": [
    "from faker import Faker   #1. faker 패키지에서 Faker모듈을 가져오기 위한 코드이다.\n",
    "fake = Faker()            #2. Faker는 클래스, fake는 인스턴스이다.\n",
    "fake.name()               #2. name()은 fake의 method 이다."
   ]
  },
  {
   "cell_type": "markdown",
   "id": "violent-sociology",
   "metadata": {},
   "source": [
    "## Localization(https://github.com/joke2k/faker#localization)\n",
    "Faker는 다양한 언어의 Locale을 지원한다.\n",
    "\n",
    "직접 해당하는 기능을 구현한다고 하였을 때, 빈칸 (a), (b), (c)에 들어갈 코드로 적절한\n",
    "것을 작성하시오. (힌트: 생성자 메서드와 함수의 개념)"
   ]
  },
  {
   "cell_type": "code",
   "execution_count": 4,
   "id": "invisible-wallpaper",
   "metadata": {},
   "outputs": [
    {
     "data": {
      "text/plain": [
       "'Linda Thompson'"
      ]
     },
     "execution_count": 4,
     "metadata": {},
     "output_type": "execute_result"
    }
   ],
   "source": [
    "fake = Faker()\n",
    "fake.name()"
   ]
  },
  {
   "cell_type": "code",
   "execution_count": 5,
   "id": "complex-jimmy",
   "metadata": {},
   "outputs": [
    {
     "data": {
      "text/plain": [
       "'김성진'"
      ]
     },
     "execution_count": 5,
     "metadata": {},
     "output_type": "execute_result"
    }
   ],
   "source": [
    "fake_ko =Faker('ko_KR')\n",
    "fake_ko.name()"
   ]
  },
  {
   "cell_type": "code",
   "execution_count": null,
   "id": "fixed-intensity",
   "metadata": {},
   "outputs": [],
   "source": [
    "class Faker():\n",
    "    \n",
    "    def__init__(self, locale)\n",
    "    \n",
    "# locale 정보를 통해 해당 언어를 설정 한다고 했으므로"
   ]
  },
  {
   "cell_type": "code",
   "execution_count": 6,
   "id": "renewable-organizer",
   "metadata": {},
   "outputs": [
    {
     "data": {
      "text/plain": [
       "0.8170477907294282"
      ]
     },
     "execution_count": 6,
     "metadata": {},
     "output_type": "execute_result"
    }
   ],
   "source": [
    "import random\n",
    "\n",
    "random.random()  # => 임의의 수\n",
    "random.random()  # => 임의의 수\n",
    "\n",
    "random.seed(7777)\n",
    "random.random()  # => 0.8170477907294282\n",
    "\n",
    "random.seed(7777)\n",
    "random.random()  # => 0.8170477907294282"
   ]
  },
  {
   "cell_type": "code",
   "execution_count": 7,
   "id": "diverse-beast",
   "metadata": {},
   "outputs": [
    {
     "name": "stdout",
     "output_type": "stream",
     "text": [
      "윤윤서\n"
     ]
    }
   ],
   "source": [
    "#1\n",
    "\n",
    "fake3 = Faker('ko_KR')\n",
    "print(fake3.name())"
   ]
  },
  {
   "cell_type": "code",
   "execution_count": 8,
   "id": "mighty-arabic",
   "metadata": {},
   "outputs": [
    {
     "name": "stdout",
     "output_type": "stream",
     "text": [
      "박경숙\n",
      "심은경\n"
     ]
    }
   ],
   "source": [
    "#2\n",
    "\n",
    "fake = Faker('ko_KR')\n",
    "\n",
    "Faker.seed(1234)\n",
    "\n",
    "print(fake.name())\n",
    "\n",
    "fake2 = Faker('ko_KR')\n",
    "print(fake2.name())"
   ]
  },
  {
   "cell_type": "code",
   "execution_count": 9,
   "id": "attached-timber",
   "metadata": {},
   "outputs": [
    {
     "name": "stdout",
     "output_type": "stream",
     "text": [
      "이도윤\n",
      "이지후\n"
     ]
    }
   ],
   "source": [
    "#3\n",
    "\n",
    "fake = Faker('ko_KR')\n",
    "\n",
    "Faker.seed(4321)\n",
    "\n",
    "print(fake.name())\n",
    "\n",
    "fake2 = Faker('ko_KR')\n",
    "print(fake2.name())"
   ]
  },
  {
   "cell_type": "code",
   "execution_count": null,
   "id": "driving-robertson",
   "metadata": {},
   "outputs": [],
   "source": [
    "# 1을 보면 계속 랜덤으로 이름이 나온다. faker라는 모듈이 랜덤으로 이름을\n",
    "# 반환하는 성질을 갖고 있으므로 당연하다.\n",
    "\n",
    "# 2와 3을 보면 위에 seed 숫자를 설정했을 때 각각의 인스턴스 역시 이름이 다르긴 하지만\n",
    "# 출력을 반복했을 때 동일한 이름이 나오는 것을 알 수 있다.\n",
    "\n",
    "# seed를 설정하게 되면 동일한 순서로 난수를 발생시킬 수 있다고 한다.\n",
    "# 난수는 특정한 규칙없이 '만들어진' 수이다.\n",
    "# 미루어 봤을 때 랜덤으로 나오게 보이는 난수를 도출하는 key숫자가 아닐까 생각된다.\n",
    "# Faker.seed() 에 붙는걸 봐서 클래스에 영향을 미치는 method인 것 같다."
   ]
  },
  {
   "cell_type": "markdown",
   "id": "proof-afternoon",
   "metadata": {},
   "source": [
    "## Seeding the Generator\n",
    "아래의 코드를 실행 했을 때, #1과 #2에서 출력되는 결과를 각각 작성하고,\n",
    "seed_instance()는 어떤 종류의 메서드인지 작성하시오."
   ]
  },
  {
   "cell_type": "code",
   "execution_count": 14,
   "id": "bearing-eleven",
   "metadata": {},
   "outputs": [
    {
     "name": "stdout",
     "output_type": "stream",
     "text": [
      "이도윤\n",
      "고상훈\n"
     ]
    }
   ],
   "source": [
    "fake = Faker('ko_KR')\n",
    "fake.seed_instance(4321)\n",
    "\n",
    "print(fake.name())     #1\n",
    "\n",
    "fake2 = Faker('ko_KR')\n",
    "print(fake2.name())    #2"
   ]
  },
  {
   "cell_type": "code",
   "execution_count": null,
   "id": "magnetic-terrain",
   "metadata": {},
   "outputs": [],
   "source": [
    "# fake.seed() 에 붙는걸 봐서 클래스에 영향을 미치는 method인 것 같다."
   ]
  }
 ],
 "metadata": {
  "kernelspec": {
   "display_name": "Python 3",
   "language": "python",
   "name": "python3"
  },
  "language_info": {
   "codemirror_mode": {
    "name": "ipython",
    "version": 3
   },
   "file_extension": ".py",
   "mimetype": "text/x-python",
   "name": "python",
   "nbconvert_exporter": "python",
   "pygments_lexer": "ipython3",
   "version": "3.8.7"
  },
  "toc": {
   "base_numbering": 1,
   "nav_menu": {},
   "number_sections": true,
   "sideBar": true,
   "skip_h1_title": false,
   "title_cell": "Table of Contents",
   "title_sidebar": "Contents",
   "toc_cell": false,
   "toc_position": {},
   "toc_section_display": true,
   "toc_window_display": false
  }
 },
 "nbformat": 4,
 "nbformat_minor": 5
}
