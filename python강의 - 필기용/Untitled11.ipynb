{
 "cells": [
  {
   "cell_type": "code",
   "execution_count": 21,
   "id": "expressed-quick",
   "metadata": {},
   "outputs": [
    {
     "name": "stdout",
     "output_type": "stream",
     "text": [
      "3570\n",
      "10\n"
     ]
    }
   ],
   "source": [
    "number = int(input())\n",
    "\n",
    "\n",
    "count = 0\n",
    "\n",
    "while number // 500 > 0:\n",
    "    number = number - 500\n",
    "    count += 1\n",
    "    \n",
    "while number // 100 > 0:\n",
    "    number = number - 100\n",
    "    count += 1\n",
    "    \n",
    "while number // 50 > 0:\n",
    "    number = number - 50\n",
    "    count += 1\n",
    "    \n",
    "while number //10  > 0:\n",
    "    number = number - 10\n",
    "    count += 1\n",
    "    \n",
    "print(count)\n"
   ]
  },
  {
   "cell_type": "code",
   "execution_count": 13,
   "id": "alpine-characteristic",
   "metadata": {},
   "outputs": [
    {
     "name": "stdout",
     "output_type": "stream",
     "text": [
      "1\n"
     ]
    }
   ],
   "source": [
    "N = 6 // 4\n",
    "print(N)"
   ]
  },
  {
   "cell_type": "code",
   "execution_count": null,
   "id": "ahead-wichita",
   "metadata": {},
   "outputs": [],
   "source": [
    "\n",
    "\n",
    "# n = 숫자의 갯수\n",
    "# m = 뽑는 횟수\n",
    "# k = 연속되는 가능횟수"
   ]
  },
  {
   "cell_type": "code",
   "execution_count": 56,
   "id": "handmade-tattoo",
   "metadata": {
    "scrolled": false
   },
   "outputs": [
    {
     "name": "stdout",
     "output_type": "stream",
     "text": [
      "4 6 3\n",
      "3 8 7 6\n",
      "47\n"
     ]
    }
   ],
   "source": [
    "# 제일 큰 수와 두 번째 큰 수만 가지고 노는 문제\n",
    "\n",
    "n, m, k = map(int, input().split())\n",
    "\n",
    "data_list = list(map(int, input().split()))\n",
    "\n",
    "# 제일 큰 수를 뽑자\n",
    "\n",
    "Max = max(data_list)  # 제일 큰 수\n",
    "\n",
    "# 제일 큰 수의 인덱스와 두번째로 큰 수(혹은 제일 큰 수가 2개 이상일수도)의 인덱스를 뽑자\n",
    "\n",
    "Max_index = 0\n",
    "\n",
    "# data_list를 돌면서 (range로)\n",
    "for i in range(len(data_list)):\n",
    "    # 만약 data_list의 i 인덱싱이 Max와 같다면\n",
    "    if data_list[i] == Max:\n",
    "        # Max_index에 그 인덱스값 더하고 BREAK! \n",
    "        Max_index += i\n",
    "        break\n",
    "        \n",
    "# 초기의 data_list에서 뽑힌 그 인덱싱에 해당하는 값은 지워준다         \n",
    "data_list.pop(Max_index)\n",
    "\n",
    "Second = max(data_list)  # 두 번째로 큰 수\n",
    "\n",
    "\n",
    "K_list = []\n",
    "\n",
    "for i in range(1, 1000):\n",
    "    K_list.append(i*(k+1) -1) # 두 번째로 큰 수가 나와야할 자리\n",
    "\n",
    "total = 0\n",
    "\n",
    "for j in range(m):\n",
    "    if j in K_list:\n",
    "        total += Second\n",
    "    else:\n",
    "        total += Max\n",
    "print(total)"
   ]
  },
  {
   "cell_type": "code",
   "execution_count": 30,
   "id": "balanced-chinese",
   "metadata": {
    "scrolled": true
   },
   "outputs": [
    {
     "data": {
      "text/plain": [
       "[1, 2, 3, 1, 2]"
      ]
     },
     "execution_count": 30,
     "metadata": {},
     "output_type": "execute_result"
    }
   ],
   "source": []
  }
 ],
 "metadata": {
  "kernelspec": {
   "display_name": "Python 3",
   "language": "python",
   "name": "python3"
  },
  "language_info": {
   "codemirror_mode": {
    "name": "ipython",
    "version": 3
   },
   "file_extension": ".py",
   "mimetype": "text/x-python",
   "name": "python",
   "nbconvert_exporter": "python",
   "pygments_lexer": "ipython3",
   "version": "3.8.7"
  },
  "toc": {
   "base_numbering": 1,
   "nav_menu": {},
   "number_sections": true,
   "sideBar": true,
   "skip_h1_title": false,
   "title_cell": "Table of Contents",
   "title_sidebar": "Contents",
   "toc_cell": false,
   "toc_position": {},
   "toc_section_display": true,
   "toc_window_display": false
  }
 },
 "nbformat": 4,
 "nbformat_minor": 5
}
