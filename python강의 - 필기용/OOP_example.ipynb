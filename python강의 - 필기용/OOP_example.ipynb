{
 "cells": [
  {
   "cell_type": "markdown",
   "id": "elementary-harvey",
   "metadata": {},
   "source": [
    "# Static method"
   ]
  },
  {
   "cell_type": "code",
   "execution_count": null,
   "id": "molecular-leeds",
   "metadata": {},
   "outputs": [],
   "source": [
    "import datetime"
   ]
  },
  {
   "cell_type": "code",
   "execution_count": null,
   "id": "unlike-japan",
   "metadata": {},
   "outputs": [],
   "source": [
    "now = datetime.datetime.now()"
   ]
  },
  {
   "cell_type": "code",
   "execution_count": null,
   "id": "necessary-characterization",
   "metadata": {},
   "outputs": [],
   "source": [
    "print(now, type(now))"
   ]
  },
  {
   "cell_type": "code",
   "execution_count": null,
   "id": "comic-southwest",
   "metadata": {},
   "outputs": [],
   "source": [
    "KST = datetime.timezone(datetime.timedelta(hours=9))"
   ]
  },
  {
   "cell_type": "code",
   "execution_count": null,
   "id": "gentle-picking",
   "metadata": {},
   "outputs": [],
   "source": [
    "KST"
   ]
  },
  {
   "cell_type": "code",
   "execution_count": null,
   "id": "interested-orleans",
   "metadata": {},
   "outputs": [],
   "source": [
    "oop_day = datetime.datetime(2021, 1, 27, tzinfo=KST)"
   ]
  },
  {
   "cell_type": "code",
   "execution_count": null,
   "id": "rolled-cooler",
   "metadata": {},
   "outputs": [],
   "source": [
    "oop_day"
   ]
  },
  {
   "cell_type": "code",
   "execution_count": null,
   "id": "changing-enemy",
   "metadata": {},
   "outputs": [],
   "source": [
    "oop_day.tzname()"
   ]
  },
  {
   "cell_type": "markdown",
   "id": "rubber-florist",
   "metadata": {},
   "source": [
    "# class method?"
   ]
  },
  {
   "cell_type": "code",
   "execution_count": 1,
   "id": "quarterly-coordinate",
   "metadata": {},
   "outputs": [],
   "source": [
    "class Person:\n",
    "    population = 0\n",
    "    \n",
    "    def __init__(self):\n",
    "        Person.population += 1\n",
    "        \n",
    "    @classmethod\n",
    "    def get_population(cls):\n",
    "        # 얘는 자식 클래스가 아무리 호출해도 Person의 인구\n",
    "        print(Person.population)\n",
    "        \n",
    "class Student(Person):\n",
    "    population = 0\n",
    "    \n",
    "    def __init__(self):\n",
    "        super().__init__()\n",
    "        Student.population += 1 \n",
    "\n",
    "# p1 = Person()\n",
    "# s1 = Student()\n",
    "# Person.get_population() # 결과 2\n",
    "# Student.get_population() # 결과 2"
   ]
  },
  {
   "cell_type": "code",
   "execution_count": null,
   "id": "altered-jefferson",
   "metadata": {},
   "outputs": [],
   "source": [
    "class Person:\n",
    "    population = 0\n",
    "    \n",
    "    def __init__(self):\n",
    "        Person.population += 1\n",
    "        \n",
    "    @classmethod\n",
    "    def get_population(cls):\n",
    "        # cls는 호출시 파이썬이 클래스를 넘겨줌\n",
    "        # 그래서 Student.get_population()은 Student.population을 출력할 것\n",
    "        # Person.get_population()은 Person.population을 출력할 것!\n",
    "        print(cls.population)\n",
    "        \n",
    "class Student(Person):\n",
    "    population = 0\n",
    "    \n",
    "    def __init__(self):\n",
    "        super().__init__()\n",
    "        Student.population += 1 \n",
    "\n",
    "# p1 = Person()\n",
    "# s1 = Student()\n",
    "# Person.get_population() # 결과 2\n",
    "# Student.get_population() # 결과 1 <<<<<< 다르다!"
   ]
  }
 ],
 "metadata": {
  "kernelspec": {
   "display_name": "Python 3",
   "language": "python",
   "name": "python3"
  },
  "language_info": {
   "codemirror_mode": {
    "name": "ipython",
    "version": 3
   },
   "file_extension": ".py",
   "mimetype": "text/x-python",
   "name": "python",
   "nbconvert_exporter": "python",
   "pygments_lexer": "ipython3",
   "version": "3.8.6"
  },
  "toc": {
   "base_numbering": 1,
   "nav_menu": {},
   "number_sections": true,
   "sideBar": true,
   "skip_h1_title": false,
   "title_cell": "Table of Contents",
   "title_sidebar": "Contents",
   "toc_cell": false,
   "toc_position": {},
   "toc_section_display": true,
   "toc_window_display": false
  }
 },
 "nbformat": 4,
 "nbformat_minor": 5
}
