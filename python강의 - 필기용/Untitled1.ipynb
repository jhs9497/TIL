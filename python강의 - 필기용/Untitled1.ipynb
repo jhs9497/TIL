{
 "cells": [
  {
   "cell_type": "markdown",
   "id": "younger-reform",
   "metadata": {},
   "source": [
    "## OOP_EXTRA"
   ]
  },
  {
   "cell_type": "code",
   "execution_count": null,
   "id": "equipped-setup",
   "metadata": {},
   "outputs": [],
   "source": [
    "class Parents:\n",
    "    \n",
    "    def __init__(self, name, age):\n",
    "        self.name = name                # ------> 메서드\n",
    "        self.age = age"
   ]
  },
  {
   "cell_type": "code",
   "execution_count": null,
   "id": "together-shelter",
   "metadata": {},
   "outputs": [],
   "source": [
    "def test():\n",
    "    return 'Hello, World'    # -----> 함수"
   ]
  },
  {
   "cell_type": "code",
   "execution_count": null,
   "id": "fantastic-luxembourg",
   "metadata": {},
   "outputs": [],
   "source": [
    "number = list()\n",
    "\n",
    "# number -> instance\n",
    "# .append(), .extend()  -> instance(현재는 number)를 위한 method"
   ]
  },
  {
   "cell_type": "code",
   "execution_count": null,
   "id": "other-genesis",
   "metadata": {},
   "outputs": [],
   "source": [
    "# append 예시\n",
    "\n",
    "class List:\n",
    "    \n",
    "    def append(my, num):\n",
    "        # if my 없이 나 자신을 인자로 넘겨주지 않는다면 ?\n",
    "        # 누구한테 더해줄지 방법이 없다!\n",
    "        \n",
    "        \n",
    "    @staticmethod\n",
    "    def why_use_this():\n",
    "        return 'i don`t know'\n",
    "    \n",
    "    \n",
    "    # 스태틱 메서드는 왜 쓰는가 ???"
   ]
  },
  {
   "cell_type": "code",
   "execution_count": 2,
   "id": "ranging-audience",
   "metadata": {},
   "outputs": [],
   "source": [
    "\n",
    "\n",
    "\n",
    "class Cola:\n",
    "    # 클래스는 객체를 생성하고\n",
    "    # 타입들이 가지는 공통적인 속성을 관리한다.\n",
    "    sugar = True\n",
    "    \n",
    "    def __init__(self, price):\n",
    "        # 생성될 떄 sugar에 관한 정보는 self(인스턴스)에 저장한 적 없다.\n",
    "        # 그러나 instance.sugar를 출력해보면 출력이 될 것이다.\n",
    "        # 별도로 sugar와 관한 변수를 지정하지 않아도,\n",
    "        # 호출을 하게 되면 인스턴스 변수를 찾아보고 없으면 클래스 변수를 찾아보게 된다.\n",
    "        \n",
    "        self.price = price\n",
    "        \n",
    "    def make_non_sugar(self):  # --> 인스턴스를 바꾸는 것\n",
    "        self.sugar = False\n",
    "        \n",
    "    # @classmethod에 인스턴스로 접근하더라도\n",
    "    # 클래스에 속한 모든 인스턴스들에게 공통으로 변동사항이 \n",
    "    # 발생할 수 있으니 주의해서 사용\n",
    "    @classmethod\n",
    "    def make_non_sugar(cls):  # --> 클래스 자체를 바꾸는 것\n",
    "        cls.sugar = False\n",
    "    \n",
    "    \n",
    "    # 아래의 return 값에 클래스가 뭔지, 인스턴스가 누군지 알 필요 없다\n",
    "    # 즉 대상이 필요없을 때 ex) 단순히 print할 때\n",
    "   \n",
    "    @staticmethod\n",
    "    def whatiscola():\n",
    "        return '콜라는 과일의 한 종류입니다.'"
   ]
  },
  {
   "cell_type": "code",
   "execution_count": 3,
   "id": "fatty-delay",
   "metadata": {},
   "outputs": [
    {
     "name": "stdout",
     "output_type": "stream",
     "text": [
      "1000\n",
      "1200\n"
     ]
    }
   ],
   "source": [
    "pepsi = Cola(1000)\n",
    "coke = Cola(1200)\n",
    "\n",
    "print(pepsi.price)\n",
    "print(coke.price)"
   ]
  },
  {
   "cell_type": "code",
   "execution_count": null,
   "id": "hollow-medicine",
   "metadata": {
    "scrolled": true
   },
   "outputs": [],
   "source": [
    "pepsi.price = 500\n",
    "\n",
    "print(pepsi.price)\n",
    "print(coke.price)"
   ]
  },
  {
   "cell_type": "code",
   "execution_count": null,
   "id": "sound-hearing",
   "metadata": {
    "scrolled": true
   },
   "outputs": [],
   "source": [
    "pepsi.sugar\n",
    "coke.sugar"
   ]
  },
  {
   "cell_type": "code",
   "execution_count": 34,
   "id": "binding-violation",
   "metadata": {
    "scrolled": true
   },
   "outputs": [
    {
     "ename": "AttributeError",
     "evalue": "'Cola' object has no attribute 'instance_make_non_sugar'",
     "output_type": "error",
     "traceback": [
      "\u001b[1;31m---------------------------------------------------------------------------\u001b[0m",
      "\u001b[1;31mAttributeError\u001b[0m                            Traceback (most recent call last)",
      "\u001b[1;32m<ipython-input-34-f8ea0d44ca8c>\u001b[0m in \u001b[0;36m<module>\u001b[1;34m\u001b[0m\n\u001b[1;32m----> 1\u001b[1;33m \u001b[0mpepsi\u001b[0m\u001b[1;33m.\u001b[0m\u001b[0minstance_make_non_sugar\u001b[0m\u001b[1;33m(\u001b[0m\u001b[1;33m)\u001b[0m\u001b[1;33m\u001b[0m\u001b[1;33m\u001b[0m\u001b[0m\n\u001b[0m",
      "\u001b[1;31mAttributeError\u001b[0m: 'Cola' object has no attribute 'instance_make_non_sugar'"
     ]
    }
   ],
   "source": [
    "pepsi.instance_make_non_sugar()"
   ]
  },
  {
   "cell_type": "code",
   "execution_count": null,
   "id": "sought-inspiration",
   "metadata": {},
   "outputs": [],
   "source": [
    "pepsi.make_non_sugar()"
   ]
  },
  {
   "cell_type": "code",
   "execution_count": null,
   "id": "laughing-dimension",
   "metadata": {},
   "outputs": [],
   "source": [
    "pepsi.sugar"
   ]
  },
  {
   "cell_type": "code",
   "execution_count": null,
   "id": "bearing-convention",
   "metadata": {},
   "outputs": [],
   "source": [
    "coke.sugar"
   ]
  },
  {
   "cell_type": "markdown",
   "id": "destroyed-journalism",
   "metadata": {},
   "source": [
    "## 상속"
   ]
  },
  {
   "cell_type": "code",
   "execution_count": 39,
   "id": "sunset-wrong",
   "metadata": {},
   "outputs": [],
   "source": [
    "class Pepsi(Cola):\n",
    "    \n",
    "    def __init__ (self, price, flavor, carbonic_acid, color):\n",
    "        # 내 부모 클래스가 가지고 있는 메서드를 그대로 사용하겠다.\n",
    "        # 그대로 사용을 해야 하므로 당연히 인자들도 똑같이 넘겨줘야한다.\n",
    "        super().__init__(price, flavor, carbonic_acid)\n",
    "        # 오른쪽 인자에 해당되는 함수들을 부모클래스에서 가져온다.\n",
    "        self.color = color\n",
    "        # 부모클래스에 없는 나만의 특성은 따로 명시해준다.\n",
    "        \n",
    "    \n",
    "    def whatiscola(self):\n",
    "        print('펩시는 코카콜라보다 맛있다.')\n",
    "        return super().whatiscola()  # 수퍼로 부모클래스 그대로 불러오기 "
   ]
  },
  {
   "cell_type": "code",
   "execution_count": 40,
   "id": "streaming-stationery",
   "metadata": {},
   "outputs": [
    {
     "ename": "TypeError",
     "evalue": "__init__() missing 1 required positional argument: 'color'",
     "output_type": "error",
     "traceback": [
      "\u001b[1;31m---------------------------------------------------------------------------\u001b[0m",
      "\u001b[1;31mTypeError\u001b[0m                                 Traceback (most recent call last)",
      "\u001b[1;32m<ipython-input-40-92a2c33df2fe>\u001b[0m in \u001b[0;36m<module>\u001b[1;34m\u001b[0m\n\u001b[1;32m----> 1\u001b[1;33m \u001b[0ma\u001b[0m \u001b[1;33m=\u001b[0m \u001b[0mPepsi\u001b[0m\u001b[1;33m(\u001b[0m\u001b[1;36m1000\u001b[0m\u001b[1;33m,\u001b[0m \u001b[1;36m10\u001b[0m\u001b[1;33m,\u001b[0m \u001b[1;34m'lemon'\u001b[0m\u001b[1;33m)\u001b[0m\u001b[1;33m\u001b[0m\u001b[1;33m\u001b[0m\u001b[0m\n\u001b[0m",
      "\u001b[1;31mTypeError\u001b[0m: __init__() missing 1 required positional argument: 'color'"
     ]
    }
   ],
   "source": [
    "a = Pepsi(1000, 10, 'lemon')"
   ]
  },
  {
   "cell_type": "code",
   "execution_count": 36,
   "id": "burning-spell",
   "metadata": {
    "scrolled": false
   },
   "outputs": [
    {
     "ename": "NameError",
     "evalue": "name 'a' is not defined",
     "output_type": "error",
     "traceback": [
      "\u001b[1;31m---------------------------------------------------------------------------\u001b[0m",
      "\u001b[1;31mNameError\u001b[0m                                 Traceback (most recent call last)",
      "\u001b[1;32m<ipython-input-36-ccea5457838e>\u001b[0m in \u001b[0;36m<module>\u001b[1;34m\u001b[0m\n\u001b[1;32m----> 1\u001b[1;33m \u001b[0mprint\u001b[0m\u001b[1;33m(\u001b[0m\u001b[0ma\u001b[0m\u001b[1;33m.\u001b[0m\u001b[0mwhatiscoal\u001b[0m\u001b[1;33m(\u001b[0m\u001b[1;33m)\u001b[0m\u001b[1;33m)\u001b[0m\u001b[1;33m\u001b[0m\u001b[1;33m\u001b[0m\u001b[0m\n\u001b[0m",
      "\u001b[1;31mNameError\u001b[0m: name 'a' is not defined"
     ]
    }
   ],
   "source": [
    "print(a.whatiscoal())"
   ]
  },
  {
   "cell_type": "markdown",
   "id": "painted-military",
   "metadata": {},
   "source": [
    "## 가변인자\n"
   ]
  },
  {
   "cell_type": "code",
   "execution_count": 44,
   "id": "wired-voice",
   "metadata": {},
   "outputs": [
    {
     "name": "stdout",
     "output_type": "stream",
     "text": [
      "1 2 3 5\n"
     ]
    },
    {
     "data": {
      "text/plain": [
       "(1, 2, 3, 4, 6, [1, 2], 'asdf')"
      ]
     },
     "execution_count": 44,
     "metadata": {},
     "output_type": "execute_result"
    }
   ],
   "source": [
    "def test(num):\n",
    "    return num ** 2\n",
    "\n",
    "test(3)\n",
    "\n",
    "print(1, 2, 3, 5)  #---> 프린트가 정의될 때 가변인자를 받을 수 있도록\n",
    "                   # 되어 있기 때문에 맘껏 넣더라도 넣은 만큼 프린트 실행해줌\n",
    "\n",
    "    \n",
    "def my_args(*args):\n",
    "    return args\n",
    "\n",
    "my_args(1, 2, 3, 4, 6, [1, 2], 'asdf')"
   ]
  },
  {
   "cell_type": "markdown",
   "id": "charming-imagination",
   "metadata": {},
   "source": [
    "## 키워드 가변인자"
   ]
  },
  {
   "cell_type": "code",
   "execution_count": 45,
   "id": "junior-martial",
   "metadata": {},
   "outputs": [
    {
     "data": {
      "text/plain": [
       "{'이름': '김구현', '언어': '파이썬'}"
      ]
     },
     "execution_count": 45,
     "metadata": {},
     "output_type": "execute_result"
    }
   ],
   "source": [
    "def my_kwargs(**kwargs):\n",
    "    # kwargs에 든 값을 dict 형태로 만들어준다.\n",
    "    return kwargs\n",
    "\n",
    "# 딕셔너리로 만들려면 필요한건 ???\n",
    "# 키, 벨류\n",
    "\n",
    "my_kwargs(이름='김구현', 언어='파이썬')"
   ]
  }
 ],
 "metadata": {
  "kernelspec": {
   "display_name": "Python 3",
   "language": "python",
   "name": "python3"
  },
  "language_info": {
   "codemirror_mode": {
    "name": "ipython",
    "version": 3
   },
   "file_extension": ".py",
   "mimetype": "text/x-python",
   "name": "python",
   "nbconvert_exporter": "python",
   "pygments_lexer": "ipython3",
   "version": "3.8.7"
  },
  "toc": {
   "base_numbering": 1,
   "nav_menu": {},
   "number_sections": true,
   "sideBar": true,
   "skip_h1_title": false,
   "title_cell": "Table of Contents",
   "title_sidebar": "Contents",
   "toc_cell": false,
   "toc_position": {},
   "toc_section_display": true,
   "toc_window_display": false
  }
 },
 "nbformat": 4,
 "nbformat_minor": 5
}
