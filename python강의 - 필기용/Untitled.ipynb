{
 "cells": [
  {
   "cell_type": "markdown",
   "id": "functioning-liver",
   "metadata": {},
   "source": [
    "## Type Class\n",
    "Python은 객체 지향 프로그래밍 언어이다. Python에서 기본적으로 정의되어 있는\n",
    "클래스를 최소 5가지 이상 작성하시오.## "
   ]
  },
  {
   "cell_type": "code",
   "execution_count": null,
   "id": "bronze-subdivision",
   "metadata": {},
   "outputs": [],
   "source": [
    "int str complex float dict"
   ]
  },
  {
   "cell_type": "markdown",
   "id": "genetic-balloon",
   "metadata": {},
   "source": [
    "## Magic Method\n",
    "아래에 제시된 매직 메서드들이 각각 어떠한 역할을 하는지 간단하게 작성하시오."
   ]
  },
  {
   "cell_type": "code",
   "execution_count": null,
   "id": "sized-engineer",
   "metadata": {},
   "outputs": [],
   "source": [
    "__init__ : 인스턴스를 생성할 때 사용하는 매직 메서드이다.\n",
    "__del__ : 인스턴스를 삭제할 때 사용하는 매직 메서드이다.\n",
    "__str__ : 출력하며 문자열로 바꿀 때 사용하는 매직 메서드이다.\n",
    "__repr__ : object를 이해할 수 있는 문자열로 반환하는 매직 메서드이다."
   ]
  },
  {
   "cell_type": "markdown",
   "id": "sound-surgeon",
   "metadata": {},
   "source": [
    "## instance Method\n",
    ".sort()와 같이 문자열, 리스트, 딕셔너리 등을 조작 할 때 사용하였던 것들은 클래스에\n",
    "정의된 메서드들이었다. 이처럼 문자열, 리스트, 딕셔너리 등을 조작하는 메서드를 최소\n",
    "3가지 이상 그 역할과 함께 작성하시오."
   ]
  },
  {
   "cell_type": "code",
   "execution_count": null,
   "id": "impressive-picture",
   "metadata": {},
   "outputs": [],
   "source": [
    ".append() : 리스트에 뒤쪽에 항목을 추가할 때 쓰인다.\n",
    ".upper() : 문자열의 모든 글자를 대문자로 변환할 때 쓰인다.\n",
    ".pop() : 딕셔너리에서 쓰일 때 해당되는 key값의 value값을 반환한 다음 기존 딕셔너리에서 key : value 값 모두 삭제할 때 쓰인다."
   ]
  },
  {
   "cell_type": "markdown",
   "id": "intense-single",
   "metadata": {},
   "source": [
    "##  Module Import"
   ]
  },
  {
   "cell_type": "code",
   "execution_count": null,
   "id": "beneficial-earth",
   "metadata": {},
   "outputs": [],
   "source": []
  }
 ],
 "metadata": {
  "kernelspec": {
   "display_name": "Python 3",
   "language": "python",
   "name": "python3"
  },
  "language_info": {
   "codemirror_mode": {
    "name": "ipython",
    "version": 3
   },
   "file_extension": ".py",
   "mimetype": "text/x-python",
   "name": "python",
   "nbconvert_exporter": "python",
   "pygments_lexer": "ipython3",
   "version": "3.8.7"
  },
  "toc": {
   "base_numbering": 1,
   "nav_menu": {},
   "number_sections": true,
   "sideBar": true,
   "skip_h1_title": false,
   "title_cell": "Table of Contents",
   "title_sidebar": "Contents",
   "toc_cell": false,
   "toc_position": {},
   "toc_section_display": true,
   "toc_window_display": false
  }
 },
 "nbformat": 4,
 "nbformat_minor": 5
}
