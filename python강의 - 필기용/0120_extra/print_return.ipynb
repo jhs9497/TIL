{
 "cells": [
  {
   "cell_type": "markdown",
   "id": "hired-record",
   "metadata": {},
   "source": [
    "# print : 출력하기 위하여\n",
    "# return : 함수의 결과를 반환\n",
    "\n",
    "> 두 내용은 전혀 다른 것이다."
   ]
  },
  {
   "cell_type": "code",
   "execution_count": 16,
   "id": "architectural-kruger",
   "metadata": {},
   "outputs": [],
   "source": [
    "def cube_return(n):\n",
    "    result = n**3\n",
    "    return result"
   ]
  },
  {
   "cell_type": "code",
   "execution_count": 1,
   "id": "dimensional-blair",
   "metadata": {},
   "outputs": [],
   "source": [
    "def cube_print(n):\n",
    "    result = n**3\n",
    "    print(result)"
   ]
  },
  {
   "cell_type": "markdown",
   "id": "sized-montana",
   "metadata": {},
   "source": [
    "* Out\n",
    "* 개발하기 편하도록.. \n",
    "* 마지막 줄의 내용을 보여줌!!"
   ]
  },
  {
   "cell_type": "code",
   "execution_count": 3,
   "id": "fifty-optimum",
   "metadata": {
    "scrolled": true
   },
   "outputs": [
    {
     "data": {
      "text/plain": [
       "8"
      ]
     },
     "execution_count": 3,
     "metadata": {},
     "output_type": "execute_result"
    }
   ],
   "source": [
    "cube_return(2)"
   ]
  },
  {
   "cell_type": "code",
   "execution_count": 9,
   "id": "unknown-kuwait",
   "metadata": {},
   "outputs": [
    {
     "data": {
      "text/plain": [
       "7"
      ]
     },
     "execution_count": 9,
     "metadata": {},
     "output_type": "execute_result"
    }
   ],
   "source": [
    "# Jupyter notebook이 마지막 결과를 그냥 보여주는거였음!\n",
    "cube_return(2)\n",
    "2 + 5"
   ]
  },
  {
   "cell_type": "code",
   "execution_count": 6,
   "id": "blond-herald",
   "metadata": {},
   "outputs": [
    {
     "name": "stdout",
     "output_type": "stream",
     "text": [
      "8\n"
     ]
    }
   ],
   "source": [
    "# 출력하고 싶어?\n",
    "# print를 써!\n",
    "print(cube_return(2))"
   ]
  },
  {
   "cell_type": "code",
   "execution_count": 11,
   "id": "excited-advantage",
   "metadata": {},
   "outputs": [
    {
     "name": "stdout",
     "output_type": "stream",
     "text": [
      "8\n"
     ]
    },
    {
     "data": {
      "text/plain": [
       "7"
      ]
     },
     "execution_count": 11,
     "metadata": {},
     "output_type": "execute_result"
    }
   ],
   "source": [
    "cube_print(2)\n",
    "2 + 5"
   ]
  },
  {
   "cell_type": "markdown",
   "id": "available-joseph",
   "metadata": {},
   "source": [
    "[라이브] return 유무의 차이 예시\n",
    "\n",
    "* 파이썬에 리스트를 정렬하기 위한 두 가지 방법이 있다. \n",
    "* 둘은 어떻게 다를까?"
   ]
  },
  {
   "cell_type": "code",
   "execution_count": 12,
   "id": "exposed-formula",
   "metadata": {},
   "outputs": [
    {
     "name": "stdout",
     "output_type": "stream",
     "text": [
      "[5, 1, 3, 2]\n"
     ]
    }
   ],
   "source": [
    "a = [5, 1, 3, 2]\n",
    "print(a)"
   ]
  },
  {
   "cell_type": "code",
   "execution_count": 13,
   "id": "studied-conversation",
   "metadata": {},
   "outputs": [
    {
     "name": "stdout",
     "output_type": "stream",
     "text": [
      "[1, 2, 3, 5]\n",
      "None\n"
     ]
    }
   ],
   "source": [
    "a = [5, 1, 3, 2]\n",
    "b = a.sort() # 원본을 바꿔버리고, return이 값이 없음!\n",
    "# 원본 리스트\n",
    "print(a)\n",
    "# a.sort() 결과\n",
    "print(b)"
   ]
  },
  {
   "cell_type": "code",
   "execution_count": 14,
   "id": "demographic-pantyhose",
   "metadata": {},
   "outputs": [
    {
     "name": "stdout",
     "output_type": "stream",
     "text": [
      "[5, 1, 3, 2]\n",
      "[1, 2, 3, 5]\n"
     ]
    }
   ],
   "source": [
    "a = [5, 1, 3, 2]\n",
    "b = sorted(a) # 원본은 변화X, return으로 정렬 리스트! \n",
    "# 원본 리스트\n",
    "print(a)\n",
    "# sorted(a) 결과\n",
    "print(b)"
   ]
  },
  {
   "cell_type": "code",
   "execution_count": 15,
   "id": "grateful-truck",
   "metadata": {},
   "outputs": [
    {
     "name": "stdout",
     "output_type": "stream",
     "text": [
      "[1, 2, 3, 5]\n",
      "[1, 2, 3, 5]\n"
     ]
    }
   ],
   "source": [
    "# 동일한 기능을 하는 코드를 작성하려면!\n",
    "a = [5, 1, 3, 2]\n",
    "a.sort()\n",
    "print(a)\n",
    "\n",
    "# sorted는 결과를 저장해서 써야한다.\n",
    "a = [5, 1, 3, 2]\n",
    "a = sorted(a)\n",
    "print(a)"
   ]
  }
 ],
 "metadata": {
  "kernelspec": {
   "display_name": "Python 3",
   "language": "python",
   "name": "python3"
  },
  "language_info": {
   "codemirror_mode": {
    "name": "ipython",
    "version": 3
   },
   "file_extension": ".py",
   "mimetype": "text/x-python",
   "name": "python",
   "nbconvert_exporter": "python",
   "pygments_lexer": "ipython3",
   "version": "3.8.6"
  },
  "toc": {
   "base_numbering": 1,
   "nav_menu": {},
   "number_sections": true,
   "sideBar": true,
   "skip_h1_title": false,
   "title_cell": "Table of Contents",
   "title_sidebar": "Contents",
   "toc_cell": false,
   "toc_position": {},
   "toc_section_display": true,
   "toc_window_display": false
  }
 },
 "nbformat": 4,
 "nbformat_minor": 5
}
