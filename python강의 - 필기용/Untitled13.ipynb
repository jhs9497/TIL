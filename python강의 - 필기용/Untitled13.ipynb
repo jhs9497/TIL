{
 "cells": [
  {
   "cell_type": "code",
   "execution_count": null,
   "id": "pretty-recorder",
   "metadata": {},
   "outputs": [],
   "source": [
    "test_case = int(input())\n",
    "\n",
    "for i in range(test_case):\n",
    "    sample = str(input())\n",
    "    \n",
    "    if len(sample) % 2 == 0:\n",
    "        print(f'#{i} 0')\n",
    "    \n",
    "    else:\n",
    "        A_list = []\n",
    "        \n",
    "        for a in range(len(sample)//2):\n",
    "            A_list.append(a)\n",
    "        \n",
    "        B_list = []\n",
    "        for b in range(len(sample)//2, len(sample)):\n",
    "            B_list.append(b)\n",
    "            \n",
    "        B_list.reverse()\n",
    "        \n",
    "    if A_list == B_list:\n",
    "        print(f'#{i} 1')\n",
    "            "
   ]
  },
  {
   "cell_type": "code",
   "execution_count": null,
   "id": "multiple-double",
   "metadata": {},
   "outputs": [],
   "source": []
  }
 ],
 "metadata": {
  "kernelspec": {
   "display_name": "Python 3",
   "language": "python",
   "name": "python3"
  },
  "language_info": {
   "codemirror_mode": {
    "name": "ipython",
    "version": 3
   },
   "file_extension": ".py",
   "mimetype": "text/x-python",
   "name": "python",
   "nbconvert_exporter": "python",
   "pygments_lexer": "ipython3",
   "version": "3.8.7"
  },
  "toc": {
   "base_numbering": 1,
   "nav_menu": {},
   "number_sections": true,
   "sideBar": true,
   "skip_h1_title": false,
   "title_cell": "Table of Contents",
   "title_sidebar": "Contents",
   "toc_cell": false,
   "toc_position": {},
   "toc_section_display": true,
   "toc_window_display": false
  }
 },
 "nbformat": 4,
 "nbformat_minor": 5
}
