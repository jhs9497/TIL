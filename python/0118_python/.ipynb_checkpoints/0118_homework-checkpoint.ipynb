{
 "cells": [
  {
   "cell_type": "code",
   "execution_count": 2,
   "id": "anticipated-section",
   "metadata": {},
   "outputs": [
    {
     "ename": "SyntaxError",
     "evalue": "invalid syntax (<ipython-input-2-43a8bad23176>, line 3)",
     "output_type": "error",
     "traceback": [
      "\u001b[1;36m  File \u001b[1;32m\"<ipython-input-2-43a8bad23176>\"\u001b[1;36m, line \u001b[1;32m3\u001b[0m\n\u001b[1;33m    print(print, import, False, None, Ture, ...)\u001b[0m\n\u001b[1;37m                 ^\u001b[0m\n\u001b[1;31mSyntaxError\u001b[0m\u001b[1;31m:\u001b[0m invalid syntax\n"
     ]
    }
   ],
   "source": [
    "# 1. 파이썬 예약어 목록은 다음과 같습니다.\n",
    "\n",
    "print(print, import, False, None, Ture, ...)"
   ]
  },
  {
   "cell_type": "code",
   "execution_count": 3,
   "id": "adjusted-quarter",
   "metadata": {},
   "outputs": [
    {
     "name": "stdout",
     "output_type": "stream",
     "text": [
      "False\n",
      "True\n"
     ]
    }
   ],
   "source": [
    "# 2. 두 실수 값을 올바르게 비교하기 위한 코드를 작성하시오.\n",
    "\n",
    "num1 = 0.1* 3\n",
    "num2 = 0.3\n",
    "\n",
    "# wrong\n",
    "print(num1 == num2)\n",
    "\n",
    "# correct\n",
    "import math\n",
    "\n",
    "print(math.isclose(num1, num2))\n",
    "\n"
   ]
  },
  {
   "cell_type": "code",
   "execution_count": null,
   "id": "supreme-bridge",
   "metadata": {},
   "outputs": [],
   "source": [
    "# 3. 줄바꿈, 탭, 백슬래쉬를 의미하는 이스케이프 시퀀시를 작성하시오.\n",
    "\n",
    "줄바꿈 = \\n\n",
    "\n",
    "탭 = \\t\n",
    "\n",
    "백슬래쉬 = \\\\"
   ]
  },
  {
   "cell_type": "code",
   "execution_count": 8,
   "id": "checked-decade",
   "metadata": {},
   "outputs": [
    {
     "name": "stdout",
     "output_type": "stream",
     "text": [
      "안녕, 철수야\n",
      "안녕, 미진아\n"
     ]
    }
   ],
   "source": [
    "# 4. '안녕, 철수야'를 string interpolation 을 이용해 출력하시오.\n",
    "\n",
    "name = '철수'\n",
    "\n",
    "print(f'안녕, {name}야')\n",
    "\n",
    "name = '미진'\n",
    "\n",
    "print('안녕, {}아'.format(name))"
   ]
  },
  {
   "cell_type": "code",
   "execution_count": 10,
   "id": "answering-tomorrow",
   "metadata": {},
   "outputs": [
    {
     "ename": "ValueError",
     "evalue": "invalid literal for int() with base 10: '3.5'",
     "output_type": "error",
     "traceback": [
      "\u001b[1;31m---------------------------------------------------------------------------\u001b[0m",
      "\u001b[1;31mValueError\u001b[0m                                Traceback (most recent call last)",
      "\u001b[1;32m<ipython-input-10-4df9fdbd525f>\u001b[0m in \u001b[0;36m<module>\u001b[1;34m\u001b[0m\n\u001b[0;32m      5\u001b[0m \u001b[0mint\u001b[0m\u001b[1;33m(\u001b[0m\u001b[1;36m5\u001b[0m\u001b[1;33m)\u001b[0m \u001b[1;31m#3\u001b[0m\u001b[1;33m\u001b[0m\u001b[1;33m\u001b[0m\u001b[0m\n\u001b[0;32m      6\u001b[0m \u001b[0mbool\u001b[0m\u001b[1;33m(\u001b[0m\u001b[1;34m'50'\u001b[0m\u001b[1;33m)\u001b[0m \u001b[1;31m#4\u001b[0m\u001b[1;33m\u001b[0m\u001b[1;33m\u001b[0m\u001b[0m\n\u001b[1;32m----> 7\u001b[1;33m \u001b[0mint\u001b[0m\u001b[1;33m(\u001b[0m\u001b[1;34m'3.5'\u001b[0m\u001b[1;33m)\u001b[0m \u001b[1;31m#5\u001b[0m\u001b[1;33m\u001b[0m\u001b[1;33m\u001b[0m\u001b[0m\n\u001b[0m",
      "\u001b[1;31mValueError\u001b[0m: invalid literal for int() with base 10: '3.5'"
     ]
    }
   ],
   "source": [
    "# 5. 다음 중 실행시 오류가 발생하는 코드를 고르시오.\n",
    "\n",
    "str(1) #1\n",
    "int('30') #2\n",
    "int(5) #3\n",
    "bool('50') #4\n",
    "int('3.5') #5"
   ]
  },
  {
   "cell_type": "code",
   "execution_count": null,
   "id": "entitled-canvas",
   "metadata": {},
   "outputs": [],
   "source": [
    "# 6. 두 개의 정수 n과 m이 주어졌을 때, 가로의 길이가 n, 세로의 길이가 m인\n",
    "# 직사각형 형태를 별(*) 문자를 이용하여 출력하시오. 단, 반복문 X\n",
    "\n",
    "#무슨 말이지..?\n",
    "\n",
    "n = 5\n",
    "m = 9"
   ]
  },
  {
   "cell_type": "code",
   "execution_count": null,
   "id": "collective-beach",
   "metadata": {},
   "outputs": [],
   "source": []
  }
 ],
 "metadata": {
  "kernelspec": {
   "display_name": "Python 3",
   "language": "python",
   "name": "python3"
  },
  "language_info": {
   "codemirror_mode": {
    "name": "ipython",
    "version": 3
   },
   "file_extension": ".py",
   "mimetype": "text/x-python",
   "name": "python",
   "nbconvert_exporter": "python",
   "pygments_lexer": "ipython3",
   "version": "3.8.7"
  }
 },
 "nbformat": 4,
 "nbformat_minor": 5
}
