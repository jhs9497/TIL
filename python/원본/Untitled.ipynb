{
 "cells": [
  {
   "cell_type": "code",
   "execution_count": 2,
   "id": "corporate-experience",
   "metadata": {},
   "outputs": [],
   "source": [
    "# 초록 수정모드\n",
    "# 파랑 명령어모드\n",
    "\n",
    "# 단축키 : h!!"
   ]
  },
  {
   "cell_type": "code",
   "execution_count": null,
   "id": "different-figure",
   "metadata": {},
   "outputs": [],
   "source": [
    "# 입력\n",
    "name = input()\n",
    "print(name)"
   ]
  },
  {
   "cell_type": "code",
   "execution_count": 3,
   "id": "parallel-arthur",
   "metadata": {},
   "outputs": [
    {
     "name": "stdout",
     "output_type": "stream",
     "text": [
      "5\n",
      "5 <class 'str'>\n"
     ]
    }
   ],
   "source": [
    "# 입력은 string 타입으로 받는다.\n",
    "number = input()\n",
    "print(number, type(number))"
   ]
  },
  {
   "cell_type": "code",
   "execution_count": 4,
   "id": "presidential-portrait",
   "metadata": {},
   "outputs": [
    {
     "name": "stdout",
     "output_type": "stream",
     "text": [
      "3\n",
      "3 <class 'int'>\n"
     ]
    }
   ],
   "source": [
    "# 숫자로 활용하고 싶으면..\n",
    "number = int(input())\n",
    "print(number, type(number))"
   ]
  }
 ],
 "metadata": {
  "kernelspec": {
   "display_name": "Python 3",
   "language": "python",
   "name": "python3"
  },
  "language_info": {
   "codemirror_mode": {
    "name": "ipython",
    "version": 3
   },
   "file_extension": ".py",
   "mimetype": "text/x-python",
   "name": "python",
   "nbconvert_exporter": "python",
   "pygments_lexer": "ipython3",
   "version": "3.8.7"
  }
 },
 "nbformat": 4,
 "nbformat_minor": 5
}
