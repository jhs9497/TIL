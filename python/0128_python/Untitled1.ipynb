{
 "cells": [
  {
   "cell_type": "code",
   "execution_count": 7,
   "id": "perceived-camping",
   "metadata": {},
   "outputs": [
    {
     "name": "stdout",
     "output_type": "stream",
     "text": [
      "1\n",
      "5\n",
      "#1\n",
      "1 2 3 4 5 \n",
      "16 17 18 19 6 \n",
      "15 24 25 20 7 \n",
      "14 23 22 21 8 \n",
      "13 12 11 10 9 \n"
     ]
    }
   ],
   "source": [
    "# 방향을 정해놓고 더 이상 4방향에 갈 공간이 없을때까지\n",
    "\n",
    "# 오른쪽 -> 아래 -> 왼쪽 -> 위 순서\n",
    "\n",
    "for tc in range(1, int(input())+1):\n",
    "    N = int(input())\n",
    "\n",
    "    # 우선 0으로 이루어진 2차원 배열을 만들자\n",
    "\n",
    "    snail = [[0]*N for _ in range(N)]\n",
    "\n",
    "    # 어렵게 생각하지 말자\n",
    "\n",
    "    x = 0\n",
    "    y = -1\n",
    "    trans = 1\n",
    "    cnt = 1\n",
    "\n",
    "    while N > 0:\n",
    "        for _ in range(N):\n",
    "            y += trans\n",
    "            snail[x][y] = cnt\n",
    "            cnt += 1\n",
    "\n",
    "        N -= 1\n",
    "        for _ in range(N):\n",
    "            x += trans\n",
    "            snail[x][y] = cnt\n",
    "            cnt += 1\n",
    "            \n",
    "        trans *= -1\n",
    "\n",
    "\n",
    "    print('#{}'.format(tc))\n",
    "    \n",
    "    \n",
    "    \n",
    "    for i in range(len(snail)):\n",
    "        snail_answer = ''\n",
    "        for j in range(len(snail)):\n",
    "            snail_answer += str(snail[i][j])\n",
    "            snail_answer += ' '\n",
    "        print(snail_answer)"
   ]
  }
 ],
 "metadata": {
  "kernelspec": {
   "display_name": "Python 3",
   "language": "python",
   "name": "python3"
  },
  "language_info": {
   "codemirror_mode": {
    "name": "ipython",
    "version": 3
   },
   "file_extension": ".py",
   "mimetype": "text/x-python",
   "name": "python",
   "nbconvert_exporter": "python",
   "pygments_lexer": "ipython3",
   "version": "3.8.7"
  },
  "toc": {
   "base_numbering": 1,
   "nav_menu": {},
   "number_sections": true,
   "sideBar": true,
   "skip_h1_title": false,
   "title_cell": "Table of Contents",
   "title_sidebar": "Contents",
   "toc_cell": false,
   "toc_position": {},
   "toc_section_display": true,
   "toc_window_display": false
  }
 },
 "nbformat": 4,
 "nbformat_minor": 5
}
