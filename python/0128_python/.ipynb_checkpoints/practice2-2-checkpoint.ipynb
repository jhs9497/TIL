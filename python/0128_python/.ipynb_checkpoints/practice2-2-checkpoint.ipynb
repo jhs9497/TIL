{
 "cells": [
  {
   "cell_type": "markdown",
   "id": "regional-interval",
   "metadata": {},
   "source": [
    "# Practice 2-2(선택)\n",
    "\n",
    "> OOP(Object-Oriented-Programming)"
   ]
  },
  {
   "cell_type": "markdown",
   "id": "economic-holly",
   "metadata": {},
   "source": [
    "## 포켓몬\n",
    "\n",
    "> 피카츄를 클래스-인스턴스로 구현하세요.\n",
    ">\n",
    "> 게임을 만든다면 아래와 같이 먼저 기획을 하고 코드로 구현하게 됩니다.\n",
    ">\n",
    "> 우선 아래와 같이 구현해 보고, 추가로 앞서 배운 모든 지식을 활용하여 본인이 원하는 대로 구현 및 수정하세요.\n",
    ">\n",
    "> (선택적 도전과제: 랜덤 모듈, 조건문 그리고 반복문 등을 활용하여 전투를 구현해보세요.)\n",
    "---\n",
    "\n",
    "피카츄를 예시로 \n",
    "\n",
    "**모든** 피카츄는 다음과 같은 속성을 갖습니다. \n",
    "* `name`: 이름\n",
    "\n",
    "\n",
    "* `level`: 레벨\n",
    "    * 레벨은 시작할 때 모두 5 입니다.\n",
    "    \n",
    "    \n",
    "* `hp`: 체력\n",
    "    * 체력은 `level` * 20 입니다.\n",
    "    \n",
    "    \n",
    "* `exp`: 경험치\n",
    "    * 상대방을 쓰러뜨리면 상대방 `level` * 15 를 획득합니다.\n",
    "    * 경험치는 `level` * 100 이 되면, 레벨이 하나 올라가고 0부터 추가 됩니다. \n",
    "\n",
    "**모든** 피카츄는 다음과 같은 행동(메서드)을 할 수 있습니다.\n",
    "\n",
    "\n",
    "* `bark()`: 울기. `'pikachu'` 를 출력합니다.\n",
    "\n",
    "\n",
    "* `body_attack()`: 몸통박치기. 상대방의 hp 를 내 `level` * 5 만큼 차감합니다.\n",
    "\n",
    "\n",
    "* `thousond_volt()`: 십만볼트. 상대방의 hp 를 내 `level` * 7 만큼 차감합니다."
   ]
  },
  {
   "cell_type": "code",
   "execution_count": 4,
   "id": "binding-optics",
   "metadata": {},
   "outputs": [],
   "source": [
    "# 아래에 코드를 작성하세요.\n",
    "\n",
    "class Pokemon:\n",
    "    \n",
    "    \n",
    "    def __init__ (self, name, level, hp, exp):\n",
    "        \n",
    "        self.name = name\n",
    "        self.level = 5\n",
    "        self.hp = self.level*20\n",
    "        self.exp = 0\n",
    "        \n",
    "        \n",
    "    def bark(self):\n",
    "        \n",
    "        print('pikachu')\n",
    "        \n",
    "    def body_attack(self, enemy):\n",
    "        enemy.hp -= self.level * 5\n",
    "        print('바디 어택')\n",
    "        \n",
    "        \n",
    "    def thousond_volt(self, enemy):\n",
    "        enemy.hp -= self.level * 7\n",
    "        print('천만볼트!')\n",
    "        \n",
    "p1 = Pokemon('원종몬', 5, 1, 0)\n",
    "p2 = Pokemon('현식몬', 5, 1, 0)"
   ]
  },
  {
   "cell_type": "code",
   "execution_count": null,
   "id": "global-holmes",
   "metadata": {},
   "outputs": [],
   "source": [
    "p1.bark()"
   ]
  },
  {
   "cell_type": "code",
   "execution_count": 5,
   "id": "meaningful-remedy",
   "metadata": {},
   "outputs": [
    {
     "name": "stdout",
     "output_type": "stream",
     "text": [
      "바디 어택\n"
     ]
    }
   ],
   "source": [
    "p1.body_attack(p2)"
   ]
  },
  {
   "cell_type": "code",
   "execution_count": null,
   "id": "impressive-movie",
   "metadata": {},
   "outputs": [],
   "source": [
    "p2.hp"
   ]
  },
  {
   "cell_type": "code",
   "execution_count": null,
   "id": "tutorial-sequence",
   "metadata": {},
   "outputs": [],
   "source": [
    "p1.body_attack(p2)"
   ]
  },
  {
   "cell_type": "code",
   "execution_count": null,
   "id": "postal-luxury",
   "metadata": {},
   "outputs": [],
   "source": [
    "p2.hp"
   ]
  },
  {
   "cell_type": "code",
   "execution_count": 6,
   "id": "minus-thumb",
   "metadata": {
    "scrolled": true
   },
   "outputs": [
    {
     "name": "stdout",
     "output_type": "stream",
     "text": [
      "레디 파이트!!\n",
      "바디 어택\n",
      "pikachu\n",
      "바디 어택\n",
      "pikachu\n",
      "바디 어택\n",
      "끝?\n"
     ]
    }
   ],
   "source": [
    "import random\n",
    "\n",
    "def fight(p1, p2):\n",
    "    print('레디 파이트!!')\n",
    "    \n",
    "    while p1.hp > 0 and p2.hp > 0:\n",
    "        \n",
    "    \n",
    "    \n",
    "        fight_member = [p1, p2]\n",
    "    \n",
    "        skills = ['bark', 'body_attack', 'thousand_volt']\n",
    "        \n",
    "    # p1 이랑 p2 중에 랜덤으로 한명을 뽑아야 한다.\n",
    "    \n",
    "        attack_mon = random.choice(fight_member)\n",
    "        \n",
    "        if attack_mon == p1:\n",
    "            \n",
    "            defense_mon = p2\n",
    "        else:\n",
    "            defense_mon = p1  # 어떻게 정하지 ?\n",
    "        \n",
    "     # 스킬도 하나 고른다.\n",
    "        attack_skill = random.choice(skills)\n",
    "        \n",
    "        if attack_skill == 'bark':\n",
    "            attack_mon.bark() # 허공에 날리는 공격\n",
    "            \n",
    "        elif attack_skill == 'body_attack':\n",
    "            attack_mon.body_attack(defense_mon)  # 아 대상이 필요함\n",
    "            \n",
    "        else:\n",
    "            attack_mon.thousond_volt(defense_mon)\n",
    "            \n",
    "    print('끝?')\n",
    "    \n",
    "    \n",
    "fight(p1, p2)\n",
    "    \n",
    "    \n",
    "    "
   ]
  },
  {
   "cell_type": "code",
   "execution_count": null,
   "id": "incomplete-individual",
   "metadata": {},
   "outputs": [],
   "source": [
    "p1.hp"
   ]
  },
  {
   "cell_type": "code",
   "execution_count": null,
   "id": "graduate-airport",
   "metadata": {},
   "outputs": [],
   "source": [
    "p2.hp"
   ]
  },
  {
   "cell_type": "code",
   "execution_count": null,
   "id": "constitutional-eleven",
   "metadata": {},
   "outputs": [],
   "source": [
    "# (선택적 도전과제) 전투 코드 예시\n",
    "\n",
    "while 두 포켓몬 중 하나가 쓰러지기 전까지:\n",
    "    1. random을 이용하여 무작위로 공격권 선정\n",
    "    2. 공격권 가진 포켓몬이 상대방 공격!\n",
    "    3. 둘 중 하나가 쓰러질 때까지 1~2번 계속 반복"
   ]
  },
  {
   "cell_type": "code",
   "execution_count": null,
   "id": "exempt-degree",
   "metadata": {},
   "outputs": [],
   "source": [
    "import random\n",
    "\n",
    "A = [1, 2, 3, 4]\n",
    "\n",
    "B = random.choice(A)\n",
    "\n",
    "print(B, type(B))"
   ]
  },
  {
   "cell_type": "code",
   "execution_count": null,
   "id": "informative-explosion",
   "metadata": {},
   "outputs": [],
   "source": [
    "f1 = lambda x: x * x"
   ]
  },
  {
   "cell_type": "code",
   "execution_count": null,
   "id": "chubby-commerce",
   "metadata": {},
   "outputs": [],
   "source": [
    "A_list = [1,2,3,4,5,6,7,8,9]\n",
    "\n",
    "list(map(f1, A_list))"
   ]
  },
  {
   "cell_type": "code",
   "execution_count": null,
   "id": "dimensional-phoenix",
   "metadata": {
    "scrolled": true
   },
   "outputs": [],
   "source": [
    "f2 = lambda x : x % 2 == 0\n",
    "\n",
    "for i in list(filter(f2, A_list)):\n",
    "    print(i)"
   ]
  },
  {
   "cell_type": "code",
   "execution_count": null,
   "id": "unexpected-avenue",
   "metadata": {},
   "outputs": [],
   "source": [
    "A = ''\n",
    "\n",
    "for i in range(5):\n",
    "    A += str(i)\n",
    "print(A)"
   ]
  },
  {
   "cell_type": "code",
   "execution_count": null,
   "id": "stock-fetish",
   "metadata": {},
   "outputs": [],
   "source": [
    "# 22220228 -> 2222/02/28\n",
    "# 날짜가 정확하다면 뽑고 아니면 -1 반환\n",
    "# 8자리임은 고정\n",
    "\n",
    "# 1,3,5,7,8,10,12 -> 31일까지\n",
    "# 2 -> 28일까지\n",
    "# 4, 6, 9, 11 -> 30일까지\n",
    "\n",
    "# 연도는 0101도 출력되는 것으로 보아 신경쓰지 않아도 됨\n",
    "  \n",
    "    \n",
    "# 3가지 종류의 월을 3종류의 리스트에 담아서 if/elif/else문으로 짜볼까 ?\n",
    "# 반복문이 str으로 도니깐 list가 아닌 str으로 만들자\n",
    "# 두자릿수를 인덱싱해서 비교하자\n",
    "\n",
    "month_A_str = '01', '03', '05', '07', '08', '10', '12'\n",
    "month_B_str = '04', '06', '09', '11'\n",
    "month_C_str = '02'\n",
    "\n",
    "#date_A_str = str(range(1,32))\n",
    "#date_B_str = str(range(1,31))\n",
    "#date_C_str = str(range(1,29))  #str(range)를 사용했는데 '27'이 date_C_str안에 있냐 물어봐도 false가 뜬다... \n",
    "                                #노가다 시작 할 뻔 하다가 range를 list로 가져와서 str화 하니깐 된다 굳!\n",
    "\n",
    "date_A_str = str(list(range(1, 32)))\n",
    "date_B_str = str(list(range(1, 31)))\n",
    "date_C_str = str(list(range(1, 29)))\n",
    "\n",
    "\n",
    "def month(origin_number):\n",
    "    \n",
    "    original = '' # original을 만들어서 인덱싱을 하자\n",
    "    \n",
    "    for i in str(origin_number):# 입력받은 8개 숫자를 문자화 한후에 why? 빈 스트링에 넣으려고 + int는 순회가 안됨\n",
    "        original += i #우선 오리지날 스트링에 함수로 받은 int를 str화 해서 넣는다\n",
    "    \n",
    "    if original[4:6] in A_str and original[6:8] in date_A_str:  # original str숫자에 인덱싱으로 두 가지 조건에 충족하는지 묻는다\n",
    "        result = original[0:4] + '/' + original[4:6] + '/' + original[6:]\n",
    "        return result   # original 사이에 '/' 넣어서 출력\n",
    "    \n",
    "    elif original[4:6] in B_str and original[6:8] in date_B_str:\n",
    "        result = original[0:4] + '/' + original[4:6] + '/' + original[6:]\n",
    "        return result\n",
    "    \n",
    "    elif original[4:6] in C_str and original[6:8] in date_C_str:\n",
    "        result = original[0:4] + '/' + original[4:6] + '/' + original[6:]\n",
    "        return result\n",
    "    \n",
    "    else:    # 위 세개의 조건 중 하나에도 들어가지 못한다면 -1 출력\n",
    "        return -1     \n",
    "\n",
    "\n",
    "print(month(20127724))\n",
    "print(month(15369901))\n",
    "print(month(2020101))\n"
   ]
  },
  {
   "cell_type": "code",
   "execution_count": null,
   "id": "placed-biography",
   "metadata": {},
   "outputs": [],
   "source": [
    "A = '123456'\n",
    "\n",
    "A[2]"
   ]
  },
  {
   "cell_type": "code",
   "execution_count": null,
   "id": "herbal-classification",
   "metadata": {
    "scrolled": true
   },
   "outputs": [],
   "source": [
    "A = str(range(1,31))\n",
    "\n",
    "print(A)\n",
    "\n",
    "'3' in A"
   ]
  },
  {
   "cell_type": "code",
   "execution_count": null,
   "id": "arctic-correction",
   "metadata": {
    "scrolled": true
   },
   "outputs": [],
   "source": [
    "date_A_str = str(list(range(1, 88)))\n",
    "\n",
    "\n",
    "A = '123456'\n",
    "\n",
    "A[3:5]\n",
    "\n",
    "A[3:5] in date_A_str"
   ]
  },
  {
   "cell_type": "code",
   "execution_count": 3,
   "id": "available-progress",
   "metadata": {},
   "outputs": [
    {
     "name": "stdout",
     "output_type": "stream",
     "text": [
      "123/45\n"
     ]
    }
   ],
   "source": [
    "A = '123456789'\n",
    "\n",
    "\n",
    "B = A[0:3] + '/' + A[3:5]\n",
    "\n",
    "print(B)"
   ]
  },
  {
   "cell_type": "code",
   "execution_count": 7,
   "id": "connected-tactics",
   "metadata": {},
   "outputs": [
    {
     "name": "stdout",
     "output_type": "stream",
     "text": [
      "5\n",
      "64\n"
     ]
    },
    {
     "ename": "TypeError",
     "evalue": "int() argument must be a string, a bytes-like object or a number, not 'list'",
     "output_type": "error",
     "traceback": [
      "\u001b[1;31m---------------------------------------------------------------------------\u001b[0m",
      "\u001b[1;31mTypeError\u001b[0m                                 Traceback (most recent call last)",
      "\u001b[1;32m<ipython-input-7-ee45170e2f67>\u001b[0m in \u001b[0;36m<module>\u001b[1;34m\u001b[0m\n\u001b[0;32m      4\u001b[0m \u001b[1;32mfor\u001b[0m \u001b[0mi\u001b[0m \u001b[1;32min\u001b[0m \u001b[0mrange\u001b[0m\u001b[1;33m(\u001b[0m\u001b[0mtest_case\u001b[0m\u001b[1;33m)\u001b[0m\u001b[1;33m:\u001b[0m\u001b[1;33m\u001b[0m\u001b[1;33m\u001b[0m\u001b[0m\n\u001b[0;32m      5\u001b[0m \u001b[1;33m\u001b[0m\u001b[0m\n\u001b[1;32m----> 6\u001b[1;33m     \u001b[0mnumbers\u001b[0m \u001b[1;33m=\u001b[0m \u001b[0mint\u001b[0m\u001b[1;33m(\u001b[0m\u001b[0minput\u001b[0m\u001b[1;33m(\u001b[0m\u001b[1;33m)\u001b[0m\u001b[1;33m.\u001b[0m\u001b[0msplit\u001b[0m\u001b[1;33m(\u001b[0m\u001b[1;33m)\u001b[0m\u001b[1;33m)\u001b[0m\u001b[1;33m\u001b[0m\u001b[1;33m\u001b[0m\u001b[0m\n\u001b[0m\u001b[0;32m      7\u001b[0m \u001b[1;33m\u001b[0m\u001b[0m\n\u001b[0;32m      8\u001b[0m \u001b[1;33m\u001b[0m\u001b[0m\n",
      "\u001b[1;31mTypeError\u001b[0m: int() argument must be a string, a bytes-like object or a number, not 'list'"
     ]
    }
   ],
   "source": [
    "test_case = int(input())\n",
    "\n",
    "\n",
    "for i in range(test_case):\n",
    "\n",
    "    numbers = int(input().split())\n",
    "\n",
    "\n",
    "    print(numbers, type(numbers))\n"
   ]
  },
  {
   "cell_type": "code",
   "execution_count": 8,
   "id": "hawaiian-serial",
   "metadata": {},
   "outputs": [
    {
     "ename": "SyntaxError",
     "evalue": "unexpected EOF while parsing (<ipython-input-8-21b0105284f4>, line 3)",
     "output_type": "error",
     "traceback": [
      "\u001b[1;36m  File \u001b[1;32m\"<ipython-input-8-21b0105284f4>\"\u001b[1;36m, line \u001b[1;32m3\u001b[0m\n\u001b[1;33m    for i in range(test_case):\u001b[0m\n\u001b[1;37m                              ^\u001b[0m\n\u001b[1;31mSyntaxError\u001b[0m\u001b[1;31m:\u001b[0m unexpected EOF while parsing\n"
     ]
    }
   ],
   "source": [
    "test_case = int(input())\n",
    "\n",
    "for i in range(test_case):"
   ]
  }
 ],
 "metadata": {
  "kernelspec": {
   "display_name": "Python 3",
   "language": "python",
   "name": "python3"
  },
  "language_info": {
   "codemirror_mode": {
    "name": "ipython",
    "version": 3
   },
   "file_extension": ".py",
   "mimetype": "text/x-python",
   "name": "python",
   "nbconvert_exporter": "python",
   "pygments_lexer": "ipython3",
   "version": "3.8.7"
  },
  "toc": {
   "base_numbering": 1,
   "nav_menu": {},
   "number_sections": true,
   "sideBar": true,
   "skip_h1_title": false,
   "title_cell": "Table of Contents",
   "title_sidebar": "Contents",
   "toc_cell": false,
   "toc_position": {},
   "toc_section_display": true,
   "toc_window_display": false
  }
 },
 "nbformat": 4,
 "nbformat_minor": 5
}
