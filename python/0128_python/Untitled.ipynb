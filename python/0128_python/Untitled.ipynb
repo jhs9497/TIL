{
 "cells": [
  {
   "cell_type": "code",
   "execution_count": 5,
   "id": "beginning-valuation",
   "metadata": {},
   "outputs": [
    {
     "name": "stdout",
     "output_type": "stream",
     "text": [
      "3\n",
      "3\n",
      "#1\n",
      "1 2 3 \n",
      "0 0 0 \n",
      "0 0 0 \n",
      "4\n",
      "#2\n",
      "1 2 3 4 \n",
      "0 0 0 0 \n",
      "0 0 0 0 \n",
      "0 0 0 0 \n",
      "5\n",
      "#3\n",
      "1 2 3 4 5 \n",
      "0 0 0 0 0 \n",
      "0 0 0 0 0 \n",
      "0 0 0 0 0 \n",
      "0 0 0 0 0 \n"
     ]
    }
   ],
   "source": [
    "# 방향을 정해놓고 더 이상 4방향에 갈 공간이 없을때까지\n",
    "\n",
    "# 오른쪽 -> 아래 -> 왼쪽 -> 위 순서\n",
    "\n",
    "for tc in range(1, int(input())+1):\n",
    "    N = int(input())\n",
    "\n",
    "    # 우선 0으로 이루어진 2차원 배열을 만들자\n",
    "\n",
    "    snail = [[0]*N for _ in range(N)]\n",
    "\n",
    "    x, y = 0, 0 # 달팽이의 스타트 점은 왼쪽 맨 위\n",
    "    number = 1 # 달팽이가 지나가며 적을 숫자\n",
    "    d = 0 # 마지막 else인 경우에 while문 빠져나오게 하는 용도 + 방향 설정\n",
    "    while d < 4 : # 갈 곳이 없을때까지\n",
    "        # 오른쪽 먼저 확인\n",
    "        if x+1 < N and snail[x+1][y] == 0 and (d == 0 or d == 1):  # 달팽이 오른쪽에 0이라는 공간이 있다면\n",
    "            snail[x][y] = number # 지금 서있는 자리에 number 박고\n",
    "            x = x+1 # x 한칸 움직여주고\n",
    "            number += 1 # number도 하나 증가\n",
    "            d = 0\n",
    "\n",
    "        # 오른쪽에 0이 없다면 아래 확인\n",
    "        elif y+1 < N and snail[x][y+1] == 0 and (d == 1 or d == 2):\n",
    "            snail[x][y] = number\n",
    "            y = y+1\n",
    "            number += 1\n",
    "            d = 1\n",
    "\n",
    "        # 아래에도 0이 없다면 왼쪽 확인\n",
    "        elif x-1 >= 0 and snail[x-1][y] == 0 and (d == 2 or d == 3):\n",
    "            snail[x][y] = number\n",
    "            x = x-1\n",
    "            number += 1\n",
    "            d = 2\n",
    "\n",
    "        # 왼쪽에도 0이 없다면 위쪽 확인\n",
    "        elif y-1 >= 0 and snail[x][y-1] == 0 and (d ==3 or d == 0):\n",
    "            snail[x][y] = number\n",
    "            y = y-1\n",
    "            number += 1\n",
    "            d = 3\n",
    "\n",
    "        # 어느쪽에도 0이 없다면\n",
    "        else:\n",
    "            snail[x][y] = number\n",
    "            d = 4 # while문 나오기\n",
    "\n",
    "    print('#{}'.format(tc))\n",
    "\n",
    "    for i in range(len(snail)):\n",
    "        snail_answer = ''\n",
    "        for j in range(len(snail)):\n",
    "            snail_answer += str(snail[j][i])\n",
    "            snail_answer += ' '\n",
    "        print(snail_answer)"
   ]
  }
 ],
 "metadata": {
  "kernelspec": {
   "display_name": "Python 3",
   "language": "python",
   "name": "python3"
  },
  "language_info": {
   "codemirror_mode": {
    "name": "ipython",
    "version": 3
   },
   "file_extension": ".py",
   "mimetype": "text/x-python",
   "name": "python",
   "nbconvert_exporter": "python",
   "pygments_lexer": "ipython3",
   "version": "3.8.7"
  },
  "toc": {
   "base_numbering": 1,
   "nav_menu": {},
   "number_sections": true,
   "sideBar": true,
   "skip_h1_title": false,
   "title_cell": "Table of Contents",
   "title_sidebar": "Contents",
   "toc_cell": false,
   "toc_position": {},
   "toc_section_display": true,
   "toc_window_display": false
  }
 },
 "nbformat": 4,
 "nbformat_minor": 5
}
