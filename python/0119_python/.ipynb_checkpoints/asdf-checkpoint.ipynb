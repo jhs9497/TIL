{
 "cells": [
  {
   "cell_type": "code",
   "execution_count": 8,
   "id": "light-single",
   "metadata": {},
   "outputs": [
    {
     "ename": "SyntaxError",
     "evalue": "invalid syntax (<ipython-input-8-6bbec8dcb33d>, line 23)",
     "output_type": "error",
     "traceback": [
      "\u001b[1;36m  File \u001b[1;32m\"<ipython-input-8-6bbec8dcb33d>\"\u001b[1;36m, line \u001b[1;32m23\u001b[0m\n\u001b[1;33m    else:\u001b[0m\n\u001b[1;37m    ^\u001b[0m\n\u001b[1;31mSyntaxError\u001b[0m\u001b[1;31m:\u001b[0m invalid syntax\n"
     ]
    }
   ],
   "source": [
    "# 2. 정중앙 문자\n",
    "\n",
    "# 'ssafy', 'coding'\n",
    "\n",
    "def get_middle_char(word):\n",
    "    \n",
    "    # 1. 들어오는 문자열의 길이를 저장한다.\n",
    "    n = len(word)\n",
    "    \n",
    "    # 2. 조건문을 통해, 문자열의 길이 홀짝 나눈다.\n",
    "    # 문자열의 길이가 홀수일 경우\n",
    "    if n % 2 == 0:\n",
    "        middle = len(word) // 2\n",
    "        return word[middle]\n",
    "    # 문자열의 길이가 짝수일경우\n",
    "     # 1) 인덱싱을 활용한 방법\n",
    "    else: \n",
    "       \n",
    "        middle = len(word) // 2\n",
    "        middle_left = len(word) // 2-1\n",
    "        return word[middle_left] + word[middle]\n",
    "    # 2) 슬라이싱을 활용한 방법\n",
    "    else:\n",
    "        return word[middle_left:midsdle+1]\n",
    "\n",
    "   \n",
    "\n",
    "get_middle_char('ssafy')\n",
    "get_middle_char('coding')"
   ]
  },
  {
   "cell_type": "code",
   "execution_count": 10,
   "id": "marine-credits",
   "metadata": {},
   "outputs": [
    {
     "data": {
      "text/plain": [
       "81.0"
      ]
     },
     "execution_count": 10,
     "metadata": {},
     "output_type": "execute_result"
    }
   ],
   "source": [
    "# 가변 인자 리스트\n",
    "\n",
    "def my_avg(*numbers):\n",
    "    total = 0\n",
    "    count = 0\n",
    "    \n",
    "    for number in numbers:\n",
    "        total += number\n",
    "        count += 1\n",
    "    \n",
    "    return total / count\n",
    "\n",
    "my_avg(77, 83, 95, 80, 70)\n",
    "        \n",
    "    "
   ]
  },
  {
   "cell_type": "code",
   "execution_count": null,
   "id": "adopted-course",
   "metadata": {},
   "outputs": [],
   "source": []
  }
 ],
 "metadata": {
  "kernelspec": {
   "display_name": "Python 3",
   "language": "python",
   "name": "python3"
  },
  "language_info": {
   "codemirror_mode": {
    "name": "ipython",
    "version": 3
   },
   "file_extension": ".py",
   "mimetype": "text/x-python",
   "name": "python",
   "nbconvert_exporter": "python",
   "pygments_lexer": "ipython3",
   "version": "3.8.7"
  }
 },
 "nbformat": 4,
 "nbformat_minor": 5
}
