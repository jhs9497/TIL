{
 "cells": [
  {
   "cell_type": "markdown",
   "metadata": {},
   "source": [
    "<p style=\"font-size: 33px; font-weight: 700; margin-bottom: 3rem\">OOP I</p>\n",
    "\n",
    "\n",
    "\n",
    "- 객체(Object)\n",
    "- 객체지향프로그래밍(Object Oriented Programming)\n",
    "- 클래스(Class)와 객체(Object)\n"
   ]
  },
  {
   "cell_type": "code",
   "execution_count": 126,
   "metadata": {
    "code_folding": [
     13
    ]
   },
   "outputs": [],
   "source": [
    "# 객체 ?\n",
    "\n",
    "# 1) 속성,  2) 행동\n",
    "\n",
    "# calss & instance\n",
    "\n",
    "class Person:\n",
    "    # 1. 인간이라면 모두 \"공통적으로\" 가지고 있는 것.\n",
    "    species = '호모 사피엔스'\n",
    "    lifespan = 80\n",
    "    \n",
    "    # 2. 모든 인간이 갖고는 있지만, 서로 다를 수 있는 것들\n",
    "    # instance (ex 현식, 미진 등) 가 생설될 때 자동으로 호출되는 함수\n",
    "    def __init__(self, name, age, gender):\n",
    "        self.name = name\n",
    "        self.age = age\n",
    "        self.gender = gender\n",
    "        \n",
    "    def swimming(self):\n",
    "        print('첨벙첨벙')"
   ]
  },
  {
   "cell_type": "code",
   "execution_count": 127,
   "metadata": {},
   "outputs": [
    {
     "name": "stdout",
     "output_type": "stream",
     "text": [
      "현식 용재\n"
     ]
    }
   ],
   "source": [
    "현식 = Person('현식', 28, 'male')\n",
    "용재 = Person('용재', 27, 'male')\n",
    "\n",
    "print(현식.name, 용재.name)"
   ]
  },
  {
   "cell_type": "code",
   "execution_count": 128,
   "metadata": {},
   "outputs": [
    {
     "name": "stdout",
     "output_type": "stream",
     "text": [
      "첨벙첨벙\n"
     ]
    }
   ],
   "source": [
    "현식.swimming()"
   ]
  },
  {
   "cell_type": "code",
   "execution_count": 129,
   "metadata": {},
   "outputs": [
    {
     "name": "stdout",
     "output_type": "stream",
     "text": [
      "80 80\n"
     ]
    }
   ],
   "source": [
    "print(현식.lifespan, 용재.lifespan)"
   ]
  },
  {
   "cell_type": "code",
   "execution_count": 130,
   "metadata": {},
   "outputs": [
    {
     "name": "stdout",
     "output_type": "stream",
     "text": [
      "125\n"
     ]
    }
   ],
   "source": [
    "string_number = '125'\n",
    "\n",
    "number = int(string_number)\n",
    "print(number)"
   ]
  },
  {
   "cell_type": "code",
   "execution_count": 140,
   "metadata": {},
   "outputs": [],
   "source": [
    "# 인스턴스, 클래스 & 스태틱 메소드\n",
    "\n",
    "class Person:\n",
    "    # 클래스 변수\n",
    "    lifespan = 80\n",
    "    species = '호모 사피엔스'\n",
    "    \n",
    "    # 생성자 (인스턴스 생성시 자동으로 호출)\n",
    "    def __init__(self, name, is_swimmer):\n",
    "        self.name = name\n",
    "        self.is_swimmer = is_swimmer\n",
    "        \n",
    "    # 인스턴스 메소드\n",
    "    # 실제 존재하는 객채에서 사용합니다.\n",
    "    # 인스턴스는 서로 다른 정보를 갖고 있습니다.\n",
    "    # 그러한 개별 정보를 이용해야할 때 인스턴스 메서드를 사용합니다. \n",
    "    \n",
    "    def swimming(self):\n",
    "        if self.is_swimmer:\n",
    "            print('첨벙첨벙')\n",
    "        else:\n",
    "            print('꼬르륵... 구해주세요')        \n",
    "    \n",
    "    # 클래스 메소드\n",
    "    # 클래스가 \"자기만\" 사용하기위해 만드는 메소드입니다.\n",
    "    # 스스로의 정보 \"클래스 변수\" 등을 이용하여 무언가 할 때 사용합니다.\n",
    "    @classmethod\n",
    "    def show_traits(cls):\n",
    "        lifespan = cls.lifespan\n",
    "        species = cls.species\n",
    "        return f'인간의 종은 {species}이며, 평균수명은 {lifespan}입니다.'\n",
    "    \n",
    "    # 스태틱 메소드 (정적 메소드)\n",
    "    # 일반 함수와 동일합니다.\n",
    "    # 인스턴스나 클래스의 정보가 필요 없을 때 사용합니다.\n",
    "    # '이 클래스에 넣어두면 편하겠다..' 싶을 때 사용합니다.\n",
    "    @staticmethod\n",
    "    def walk():\n",
    "        return '뚜벅뚜벅'"
   ]
  },
  {
   "cell_type": "code",
   "execution_count": 141,
   "metadata": {},
   "outputs": [],
   "source": [
    "현식 = Person('현식', False)\n",
    "동윤 = Person('동윤', True)"
   ]
  },
  {
   "cell_type": "code",
   "execution_count": 142,
   "metadata": {
    "scrolled": true
   },
   "outputs": [
    {
     "name": "stdout",
     "output_type": "stream",
     "text": [
      "꼬르륵... 구해주세요\n",
      "첨벙첨벙\n"
     ]
    }
   ],
   "source": [
    "현식.swimming()\n",
    "동윤.swimming()"
   ]
  },
  {
   "cell_type": "code",
   "execution_count": 143,
   "metadata": {
    "scrolled": true
   },
   "outputs": [
    {
     "data": {
      "text/plain": [
       "'인간의 종은 호모 사피엔스이며, 평균수명은 80입니다.'"
      ]
     },
     "execution_count": 143,
     "metadata": {},
     "output_type": "execute_result"
    }
   ],
   "source": [
    "Person.show_traits()"
   ]
  },
  {
   "cell_type": "code",
   "execution_count": 157,
   "metadata": {},
   "outputs": [
    {
     "data": {
      "text/plain": [
       "'뚜벅뚜벅'"
      ]
     },
     "execution_count": 157,
     "metadata": {},
     "output_type": "execute_result"
    }
   ],
   "source": [
    "# 스태틱은 메서드는 클래스와 인스턴스 모두에서 호출 가능합니다.\n",
    "현식.walk()\n",
    "Person.walk()"
   ]
  },
  {
   "cell_type": "code",
   "execution_count": 165,
   "metadata": {},
   "outputs": [],
   "source": [
    "# 상속 예습\n",
    "\n",
    "class Student(Person):    # class 'Person'이 같고있는 내용을 모두 물려받을 수 있음\n",
    "    \n",
    "    def __init__(self, name):\n",
    "        self.name = name"
   ]
  },
  {
   "cell_type": "code",
   "execution_count": 167,
   "metadata": {},
   "outputs": [
    {
     "name": "stdout",
     "output_type": "stream",
     "text": [
      "수현\n"
     ]
    }
   ],
   "source": [
    "수현 = Student('수현')\n",
    "print(수현.name)"
   ]
  },
  {
   "cell_type": "code",
   "execution_count": 162,
   "metadata": {},
   "outputs": [
    {
     "data": {
      "text/plain": [
       "'뚜벅뚜벅'"
      ]
     },
     "execution_count": 162,
     "metadata": {},
     "output_type": "execute_result"
    }
   ],
   "source": [
    "# walk가 없지만!\n",
    "수현.walk()"
   ]
  },
  {
   "cell_type": "markdown",
   "metadata": {},
   "source": [
    "# 객체(Object)\n",
    "\n",
    "> Python에서 **모든 것은 객체(object)**이다.\n",
    "\n",
    "> 모든 객체는 **타입(type), 속성(attribute), 조작법(method)**을 가진다.\n"
   ]
  },
  {
   "cell_type": "markdown",
   "metadata": {},
   "source": [
    "객체(Object)의 특징\n",
    "\n",
    "- **타입(type)**: 어떤 연산자(operator)와 조작(method)이 가능한가? \n",
    "- **속성(attribute)**: 어떤 상태(데이터)를 가지는가?\n",
    "- **조작법(method)**: 어떤 행위(함수)를 할 수 있는가?"
   ]
  },
  {
   "cell_type": "markdown",
   "metadata": {},
   "source": [
    "## 타입(Type)과 인스턴스(Instance)\n",
    "\n",
    "| type         | instance                 | \n",
    "| -------------| ------------------------ | \n",
    "| `int`        | `0`, `1`, `2`            |\n",
    "| `str`        | `''`, `'hello'`, `'123'` | \n",
    "| `list`       | `[]`, `['a', 'b']`       | \n",
    "| `dict`       | `{}`, `{'key': 'value'}` | "
   ]
  },
  {
   "cell_type": "markdown",
   "metadata": {},
   "source": [
    "### 타입(Type)\n",
    "\n",
    "- 공통된 속성(attribute)과 조작법(method)을 가진 객체들의 분류"
   ]
  },
  {
   "cell_type": "markdown",
   "metadata": {},
   "source": [
    "### 인스턴스(Instance)\n",
    "- 특정 타입(type)의 실제 데이터 예시(instance)이다. \n",
    "- 파이썬에서 모든 것은 객체이고, **모든 객체는 특정 타입의 인스턴스**이다.\n",
    "\n",
    "```python\n",
    "a = 10\n",
    "b = 20\n",
    "# a, b 는 객체\n",
    "# a, b 는 int 타입(type)의 인스턴스\n",
    "```"
   ]
  },
  {
   "cell_type": "code",
   "execution_count": 2,
   "metadata": {},
   "outputs": [],
   "source": [
    "# a 가 int 의 인스턴스인지 확인해봅시다.\n",
    "a = 10"
   ]
  },
  {
   "cell_type": "code",
   "execution_count": 4,
   "metadata": {},
   "outputs": [
    {
     "name": "stdout",
     "output_type": "stream",
     "text": [
      "<class 'int'>\n"
     ]
    }
   ],
   "source": [
    "print(type(a))"
   ]
  },
  {
   "cell_type": "code",
   "execution_count": 5,
   "metadata": {},
   "outputs": [
    {
     "data": {
      "text/plain": [
       "True"
      ]
     },
     "execution_count": 5,
     "metadata": {},
     "output_type": "execute_result"
    }
   ],
   "source": [
    "type(a) is int"
   ]
  },
  {
   "cell_type": "code",
   "execution_count": 7,
   "metadata": {},
   "outputs": [
    {
     "data": {
      "text/plain": [
       "True"
      ]
     },
     "execution_count": 7,
     "metadata": {},
     "output_type": "execute_result"
    }
   ],
   "source": [
    "type(a) == int"
   ]
  },
  {
   "cell_type": "code",
   "execution_count": 9,
   "metadata": {},
   "outputs": [
    {
     "data": {
      "text/plain": [
       "True"
      ]
     },
     "execution_count": 9,
     "metadata": {},
     "output_type": "execute_result"
    }
   ],
   "source": [
    "isinstance(a, int)   # 가장 추천"
   ]
  },
  {
   "cell_type": "markdown",
   "metadata": {},
   "source": [
    "## 속성(Attribute)과 메서드(Method)\n",
    "\n",
    "객체의 속성(상태, 데이터)과 조작법(함수)을 명확히 구분해 봅시다.\n",
    "\n",
    "\n",
    "| type         | attributes       | methods                                |\n",
    "| -------------| ---------------- | -------------------------------------- |\n",
    "| `complex`    | `.real`, `.imag` |                                        |\n",
    "| `str`        |       _          | `.capitalize()`, `.join()`, `.split()` |\n",
    "| `list`       |       _          | `.append()`, `.reverse()`, `.sort()`   |\n",
    "| `dict`       |       _          | `.keys()`, `.values()`, `.items()`     |"
   ]
  },
  {
   "cell_type": "markdown",
   "metadata": {},
   "source": [
    "### 속성(Attribute)\n",
    "\n",
    "- 속성(attribute)은 객체(object)의 상태/데이터를 뜻한다.\n",
    "\n",
    "\n",
    "**활용법**\n",
    "\n",
    "```py\n",
    "<객체>.<속성>\n",
    "```\n",
    "\n",
    "**예시**\n",
    "\n",
    "```py\n",
    "3+4j.real\n",
    "```\n",
    "\n",
    "- `complex` 타입 인스턴스가 가진 속성을 확인해봅시다."
   ]
  },
  {
   "cell_type": "code",
   "execution_count": null,
   "metadata": {},
   "outputs": [],
   "source": [
    "# 복소수를 만들어보고, 타입을 출력해봅시다."
   ]
  },
  {
   "cell_type": "code",
   "execution_count": 11,
   "metadata": {},
   "outputs": [],
   "source": [
    "complex_number = 3 + 4j"
   ]
  },
  {
   "cell_type": "code",
   "execution_count": 12,
   "metadata": {},
   "outputs": [
    {
     "data": {
      "text/plain": [
       "complex"
      ]
     },
     "execution_count": 12,
     "metadata": {},
     "output_type": "execute_result"
    }
   ],
   "source": [
    "type(complex_number)"
   ]
  },
  {
   "cell_type": "code",
   "execution_count": 13,
   "metadata": {},
   "outputs": [
    {
     "data": {
      "text/plain": [
       "3.0"
      ]
     },
     "execution_count": 13,
     "metadata": {},
     "output_type": "execute_result"
    }
   ],
   "source": [
    "complex_number.real"
   ]
  },
  {
   "cell_type": "code",
   "execution_count": 14,
   "metadata": {},
   "outputs": [
    {
     "data": {
      "text/plain": [
       "4.0"
      ]
     },
     "execution_count": 14,
     "metadata": {},
     "output_type": "execute_result"
    }
   ],
   "source": [
    "complex_number.imag"
   ]
  },
  {
   "cell_type": "code",
   "execution_count": null,
   "metadata": {},
   "outputs": [],
   "source": [
    "# 허수부랑 실수부를 각각 출력해봅시다. complex 객체의 실수 속성과 허수 속성이라고도 표현 가능합니다."
   ]
  },
  {
   "cell_type": "code",
   "execution_count": null,
   "metadata": {},
   "outputs": [],
   "source": []
  },
  {
   "cell_type": "markdown",
   "metadata": {},
   "source": [
    "### 메서드(Method)\n",
    "\n",
    "- 특정 객체에 적용할 수 있는 행위(behavior)를 뜻 한다.\n",
    "\n",
    "**활용법**\n",
    "```py\n",
    "<객체>.<조작법>()\n",
    "```\n",
    "\n",
    "**예시**\n",
    "```py\n",
    "[3, 2, 1].sort()\n",
    "```\n",
    "\n",
    "- `list` type의 인스턴스에 적용 가능한 조작법(method)을 확인해 봅시다."
   ]
  },
  {
   "cell_type": "code",
   "execution_count": null,
   "metadata": {},
   "outputs": [],
   "source": [
    "# 리스트를 하나 만들고 정렬해봅시다. list 타입 객체의 sort() 메서드로 정렬 가능합니다."
   ]
  },
  {
   "cell_type": "code",
   "execution_count": 15,
   "metadata": {
    "scrolled": true
   },
   "outputs": [],
   "source": [
    "a = [3, 2, 1]"
   ]
  },
  {
   "cell_type": "code",
   "execution_count": 16,
   "metadata": {},
   "outputs": [
    {
     "data": {
      "text/plain": [
       "list"
      ]
     },
     "execution_count": 16,
     "metadata": {},
     "output_type": "execute_result"
    }
   ],
   "source": [
    "type(a)"
   ]
  },
  {
   "cell_type": "code",
   "execution_count": 17,
   "metadata": {},
   "outputs": [],
   "source": [
    "a.sort()"
   ]
  },
  {
   "cell_type": "code",
   "execution_count": 18,
   "metadata": {},
   "outputs": [
    {
     "data": {
      "text/plain": [
       "[1, 2, 3]"
      ]
     },
     "execution_count": 18,
     "metadata": {},
     "output_type": "execute_result"
    }
   ],
   "source": [
    "a"
   ]
  },
  {
   "cell_type": "code",
   "execution_count": null,
   "metadata": {},
   "outputs": [],
   "source": [
    "# list 타입의 객체들이 할 수 있는 것들을 알아봅시다. (list 타입 객체가 가지고 있는 모든 속성과 메서드를 보여줍니다.)"
   ]
  },
  {
   "cell_type": "code",
   "execution_count": 19,
   "metadata": {},
   "outputs": [
    {
     "name": "stdout",
     "output_type": "stream",
     "text": [
      "['__add__', '__class__', '__contains__', '__delattr__', '__delitem__', '__dir__', '__doc__', '__eq__', '__format__', '__ge__', '__getattribute__', '__getitem__', '__gt__', '__hash__', '__iadd__', '__imul__', '__init__', '__init_subclass__', '__iter__', '__le__', '__len__', '__lt__', '__mul__', '__ne__', '__new__', '__reduce__', '__reduce_ex__', '__repr__', '__reversed__', '__rmul__', '__setattr__', '__setitem__', '__sizeof__', '__str__', '__subclasshook__', 'append', 'clear', 'copy', 'count', 'extend', 'index', 'insert', 'pop', 'remove', 'reverse', 'sort']\n"
     ]
    }
   ],
   "source": [
    "print(dir(a))"
   ]
  },
  {
   "cell_type": "code",
   "execution_count": 20,
   "metadata": {},
   "outputs": [
    {
     "name": "stdout",
     "output_type": "stream",
     "text": [
      "['__abs__', '__add__', '__bool__', '__class__', '__delattr__', '__dir__', '__divmod__', '__doc__', '__eq__', '__float__', '__floordiv__', '__format__', '__ge__', '__getattribute__', '__getnewargs__', '__gt__', '__hash__', '__init__', '__init_subclass__', '__int__', '__le__', '__lt__', '__mod__', '__mul__', '__ne__', '__neg__', '__new__', '__pos__', '__pow__', '__radd__', '__rdivmod__', '__reduce__', '__reduce_ex__', '__repr__', '__rfloordiv__', '__rmod__', '__rmul__', '__rpow__', '__rsub__', '__rtruediv__', '__setattr__', '__sizeof__', '__str__', '__sub__', '__subclasshook__', '__truediv__', 'conjugate', 'imag', 'real']\n"
     ]
    }
   ],
   "source": [
    "print(dir(3+4j))"
   ]
  },
  {
   "cell_type": "markdown",
   "metadata": {},
   "source": [
    "---"
   ]
  },
  {
   "cell_type": "code",
   "execution_count": 22,
   "metadata": {},
   "outputs": [
    {
     "data": {
      "text/plain": [
       "1"
      ]
     },
     "execution_count": 22,
     "metadata": {},
     "output_type": "execute_result"
    }
   ],
   "source": [
    "a =[3, 2, 1]\n",
    "a.pop()"
   ]
  },
  {
   "cell_type": "code",
   "execution_count": 23,
   "metadata": {},
   "outputs": [
    {
     "ename": "AttributeError",
     "evalue": "'NoneType' object has no attribute 'pop'",
     "output_type": "error",
     "traceback": [
      "\u001b[1;31m---------------------------------------------------------------------------\u001b[0m",
      "\u001b[1;31mAttributeError\u001b[0m                            Traceback (most recent call last)",
      "\u001b[1;32m<ipython-input-23-989d6d892c85>\u001b[0m in \u001b[0;36m<module>\u001b[1;34m\u001b[0m\n\u001b[1;32m----> 1\u001b[1;33m \u001b[0ma\u001b[0m\u001b[1;33m.\u001b[0m\u001b[0msort\u001b[0m\u001b[1;33m(\u001b[0m\u001b[1;33m)\u001b[0m\u001b[1;33m.\u001b[0m\u001b[0mpop\u001b[0m\u001b[1;33m(\u001b[0m\u001b[1;33m)\u001b[0m\u001b[1;33m\u001b[0m\u001b[1;33m\u001b[0m\u001b[0m\n\u001b[0m",
      "\u001b[1;31mAttributeError\u001b[0m: 'NoneType' object has no attribute 'pop'"
     ]
    }
   ],
   "source": [
    "a.sort().pop()"
   ]
  },
  {
   "cell_type": "code",
   "execution_count": 24,
   "metadata": {},
   "outputs": [
    {
     "data": {
      "text/plain": [
       "3"
      ]
     },
     "execution_count": 24,
     "metadata": {},
     "output_type": "execute_result"
    }
   ],
   "source": [
    "sorted(a).pop()"
   ]
  },
  {
   "cell_type": "code",
   "execution_count": null,
   "metadata": {},
   "outputs": [],
   "source": []
  },
  {
   "cell_type": "markdown",
   "metadata": {},
   "source": [
    "# 객체 지향 프로그래밍(Object-Oriented Programming)\n",
    "\n",
    "Object가 중심(oriented)이 되는 프로그래밍\n",
    "\n",
    "**<wikipedia - 객체지향 프로그래밍>**\n",
    ">\n",
    "> 객체 지향 프로그래밍(영어: Object-Oriented Programming, OOP)은 컴퓨터 프로그래밍의 패러다임의 하나이다. \n",
    ">\n",
    "> 객체 지향 프로그래밍은 컴퓨터 프로그램을 명령어의 목록으로 보는 시각에서 벗어나 여러 개의 독립된 단위, 즉 \"객체\"들의 모임으로 파악하고자 하는 것이다.\n",
    "\n",
    "\n"
   ]
  },
  {
   "cell_type": "markdown",
   "metadata": {},
   "source": [
    "## 절차 중심 vs. Object 중심\n",
    "\n",
    "> 프로그래밍 패러다임: 어떻게 프로그램을 작성할 것인가"
   ]
  },
  {
   "cell_type": "markdown",
   "metadata": {},
   "source": [
    "## Object 중심의 장점\n",
    "\n",
    "\n",
    "**<wikipedia - 객체지향 프로그래밍>**\n",
    "> 객체 지향 프로그래밍은 프로그램을 유연하고 변경이 용이하게 만들기 때문에 대규모 소프트웨어 개발에 많이 사용된다. \n",
    ">\n",
    "> 또한 프로그래밍을 더 배우기 쉽게 하고 소프트웨어 개발과 보수를 간편하게 하며,\n",
    ">\n",
    "> 보다 직관적인 코드 분석을 가능하게 하는 장점을 갖고 있다.\n",
    "\n",
    "- 코드의 **직관성**\n",
    "\n",
    "- 활용의 **용이성**\n",
    "\n",
    "- 변경의 **유연성**"
   ]
  },
  {
   "cell_type": "markdown",
   "metadata": {},
   "source": [
    "---"
   ]
  },
  {
   "cell_type": "markdown",
   "metadata": {},
   "source": [
    "# 클래스(Class)와 객체(Object)\n",
    "\n",
    "> `type`: 공통 속성을 가진 객체들의 분류(class)\n",
    "\n",
    "> `class`: 객체들의 분류(class)를 정의할 때 쓰이는 키워드"
   ]
  },
  {
   "cell_type": "markdown",
   "metadata": {},
   "source": [
    "## 클래스(Class) 생성\n",
    "\n",
    "* 클래스 생성은 `class` 키워드와 정의하고자 하는 `<클래스의 이름>`으로 가능하다.\n",
    "\n",
    "* `<클래스의 이름>`은 `PascalCase`로 정의한다.\n",
    "\n",
    "* 클래스 내부에는 데이터와 함수를 정의할 수 있고, 이때 데이터는 **속성(attribute)** 정의된 함수는 **메서드(method)**로 불린다.\n",
    "\n",
    "---\n",
    "\n",
    "**활용법**\n",
    "\n",
    "```python\n",
    "class <클래스이름>:\n",
    "    <statement>\n",
    "```\n",
    "\n",
    "```python\n",
    "class ClassName:\n",
    "    statement\n",
    "```"
   ]
  },
  {
   "cell_type": "code",
   "execution_count": null,
   "metadata": {},
   "outputs": [],
   "source": [
    "# class를 만들고 type을 출력해 봅시다."
   ]
  },
  {
   "cell_type": "code",
   "execution_count": 32,
   "metadata": {},
   "outputs": [],
   "source": [
    "class Person:\n",
    "    pass"
   ]
  },
  {
   "cell_type": "code",
   "execution_count": 33,
   "metadata": {},
   "outputs": [
    {
     "name": "stdout",
     "output_type": "stream",
     "text": [
      "<class 'type'>\n"
     ]
    }
   ],
   "source": [
    "print(type(Person))"
   ]
  },
  {
   "cell_type": "code",
   "execution_count": 34,
   "metadata": {},
   "outputs": [
    {
     "data": {
      "text/plain": [
       "type"
      ]
     },
     "execution_count": 34,
     "metadata": {},
     "output_type": "execute_result"
    }
   ],
   "source": [
    "type(int)"
   ]
  },
  {
   "cell_type": "markdown",
   "metadata": {},
   "source": [
    "## 인스턴스(Instance) 생성\n",
    "* 정의된 클래스(`class`)에 속하는 객체를 해당 클래스의 인스턴스(instance)라고 한다.\n",
    "\n",
    "* `Person` 클래스의 인스턴스는 `Person()`을 호출함으로써 생성된다.\n",
    "\n",
    "* `type()` 함수를 통해 생성된 객체의 클래스를 확인할 수 있다.\n",
    "\n",
    "\n",
    "**활용법**\n",
    "\n",
    "\n",
    "```python\n",
    "# 인스턴스 = 클래스()\n",
    "person1 = Person()\n",
    "```\n",
    "\n",
    "- `person1`은 사용자가 정의한(user-defined) `Person`이라는 데이터 타입(data type)의 인스턴스이다."
   ]
  },
  {
   "cell_type": "code",
   "execution_count": null,
   "metadata": {},
   "outputs": [],
   "source": [
    "# Person 클래스의 인스턴스를 만들어 봅시다.\n",
    "# 인스턴스의 type과 우리가 위에서 정의한 클래스의 doc의 출력해 봅시다."
   ]
  },
  {
   "cell_type": "code",
   "execution_count": 37,
   "metadata": {},
   "outputs": [],
   "source": [
    "jimin = Person()"
   ]
  },
  {
   "cell_type": "code",
   "execution_count": 38,
   "metadata": {},
   "outputs": [
    {
     "data": {
      "text/plain": [
       "__main__.Person"
      ]
     },
     "execution_count": 38,
     "metadata": {},
     "output_type": "execute_result"
    }
   ],
   "source": [
    "type(jimin)"
   ]
  },
  {
   "cell_type": "markdown",
   "metadata": {},
   "source": [
    "## 메서드(Method) 정의\n",
    "\n",
    "특정 데이터 타입(또는 클래스)의 객체에 공통적으로 적용 가능한 행위(behavior)들을 의미한다.\n",
    "\n",
    "---\n",
    "**활용법**\n",
    "```py\n",
    "class Person:\n",
    "    # 메서드(method)\n",
    "    def talk(self):    # 첫번째 인자로 self를 정의해봅시다.\n",
    "        return '안녕'\n",
    "```"
   ]
  },
  {
   "cell_type": "code",
   "execution_count": null,
   "metadata": {},
   "outputs": [],
   "source": [
    "# Person 클래스에 talk() 메서드를 정의해봅시다."
   ]
  },
  {
   "cell_type": "code",
   "execution_count": 40,
   "metadata": {},
   "outputs": [],
   "source": [
    "class Person:\n",
    "    \n",
    "    # 클래스 내부에서 정의된 함수 => 메서드\n",
    "    def talk(self):\n",
    "        print('안녕')"
   ]
  },
  {
   "cell_type": "code",
   "execution_count": 41,
   "metadata": {},
   "outputs": [],
   "source": [
    "iu = Person()"
   ]
  },
  {
   "cell_type": "code",
   "execution_count": 42,
   "metadata": {},
   "outputs": [
    {
     "name": "stdout",
     "output_type": "stream",
     "text": [
      "안녕\n"
     ]
    }
   ],
   "source": [
    "iu.talk()"
   ]
  },
  {
   "cell_type": "code",
   "execution_count": null,
   "metadata": {},
   "outputs": [],
   "source": [
    "# 메서드도 함수이기 때문에 추가적인 인자를 받을 수 있습니다."
   ]
  },
  {
   "cell_type": "code",
   "execution_count": 49,
   "metadata": {},
   "outputs": [],
   "source": [
    "class Person:\n",
    "    def talk(self):\n",
    "        print('안녕')\n",
    "    \n",
    "    def eat(self, food):\n",
    "        print(f'냠냠 {food}')"
   ]
  },
  {
   "cell_type": "code",
   "execution_count": 60,
   "metadata": {},
   "outputs": [
    {
     "name": "stdout",
     "output_type": "stream",
     "text": [
      "냠냠 \n",
      "냠냠 햄버거\n"
     ]
    }
   ],
   "source": [
    "lee = Person()\n",
    "lee.eat('')\n",
    "lee.eat('햄버거')"
   ]
  },
  {
   "cell_type": "code",
   "execution_count": 58,
   "metadata": {},
   "outputs": [
    {
     "name": "stdout",
     "output_type": "stream",
     "text": [
      "안녕\n",
      "냠냠 치킨\n"
     ]
    }
   ],
   "source": [
    "wonyoung = Person()\n",
    "wonyoung.talk()\n",
    "wonyoung.eat('치킨')"
   ]
  },
  {
   "cell_type": "code",
   "execution_count": null,
   "metadata": {},
   "outputs": [],
   "source": [
    "# 기본 인자, 가변 인자 리스트 등 함수의 인자와 동일하게 매개변수를 정의할 수 있습니다."
   ]
  },
  {
   "cell_type": "code",
   "execution_count": null,
   "metadata": {},
   "outputs": [],
   "source": []
  },
  {
   "cell_type": "code",
   "execution_count": null,
   "metadata": {},
   "outputs": [],
   "source": []
  },
  {
   "cell_type": "markdown",
   "metadata": {},
   "source": [
    "###  `self` \n",
    "\n",
    "> 인스턴스 자신(self)\n",
    "\n",
    "* Python에서 인스턴스 메서드는 **호출 시 첫번째 인자로 인스턴스 자신이 전달**되게 설계되었다. \n",
    "\n",
    "\n",
    "* 보통 매개변수명으로 `self`를 첫번째 인자로 설정 (다른 이름도 가능하지만 추천하지는 않는다.)"
   ]
  },
  {
   "cell_type": "code",
   "execution_count": 61,
   "metadata": {},
   "outputs": [],
   "source": [
    "class Person:\n",
    "    def __init__(self, name):\n",
    "        self.name = name\n",
    "    \n",
    "    def talk(self):\n",
    "        return f'안녕, 나는 {self.name}'"
   ]
  },
  {
   "cell_type": "code",
   "execution_count": null,
   "metadata": {},
   "outputs": [],
   "source": [
    "# 자신의 이름으로 Person의 인스턴스를 생성해봅시다."
   ]
  },
  {
   "cell_type": "code",
   "execution_count": 72,
   "metadata": {},
   "outputs": [],
   "source": [
    "john = Person('john')"
   ]
  },
  {
   "cell_type": "code",
   "execution_count": null,
   "metadata": {},
   "outputs": [],
   "source": [
    "# talk() 메서드를 호출해 봅시다."
   ]
  },
  {
   "cell_type": "code",
   "execution_count": 64,
   "metadata": {
    "scrolled": true
   },
   "outputs": [
    {
     "data": {
      "text/plain": [
       "'안녕, 나는 john'"
      ]
     },
     "execution_count": 64,
     "metadata": {},
     "output_type": "execute_result"
    }
   ],
   "source": [
    "john.talk()"
   ]
  },
  {
   "cell_type": "code",
   "execution_count": 73,
   "metadata": {},
   "outputs": [
    {
     "data": {
      "text/plain": [
       "'안녕, 나는 iu'"
      ]
     },
     "execution_count": 73,
     "metadata": {},
     "output_type": "execute_result"
    }
   ],
   "source": [
    "iu = Person('iu')\n",
    "iu.talk()"
   ]
  },
  {
   "cell_type": "code",
   "execution_count": null,
   "metadata": {},
   "outputs": [],
   "source": [
    "# talk 메서드의 첫번째 인자 self는 아래와 같은 뜻입니다."
   ]
  },
  {
   "cell_type": "code",
   "execution_count": null,
   "metadata": {},
   "outputs": [],
   "source": []
  },
  {
   "cell_type": "markdown",
   "metadata": {},
   "source": [
    "### 생성자(constructor) 메서드\n",
    "인스턴스 객체가 생성될 때 호출되는 함수.    \n",
    "\n",
    "---\n",
    "**활용법**\n",
    "\n",
    "```python\n",
    "def __init__(self):\n",
    "    print('생성될 때 자동으로 호출되는 메서드입니다.')\n",
    "```\n",
    "\n",
    "- 생성자를 활용하면 인스턴스가 생성될 때 인스턴스의 속성을 정의할 수 있다.\n"
   ]
  },
  {
   "cell_type": "markdown",
   "metadata": {},
   "source": [
    "### 소멸자(destructor) 메서드\n",
    "- 인스턴스 객체가 소멸(파괴)되기 직전에 호출되는 함수.\n",
    "\n",
    "---\n",
    "\n",
    "**활용법**\n",
    "\n",
    "```py\n",
    "def __del__(self):\n",
    "    print('소멸될 때 자동으로 호출되는 메서드입니다.')\n",
    "```"
   ]
  },
  {
   "cell_type": "code",
   "execution_count": null,
   "metadata": {},
   "outputs": [],
   "source": [
    "# 생성자와 소멸자를 만들어봅시다."
   ]
  },
  {
   "cell_type": "code",
   "execution_count": 74,
   "metadata": {},
   "outputs": [],
   "source": [
    "class Person:\n",
    "    pass"
   ]
  },
  {
   "cell_type": "code",
   "execution_count": 76,
   "metadata": {},
   "outputs": [],
   "source": [
    "iu = Person()"
   ]
  },
  {
   "cell_type": "code",
   "execution_count": 94,
   "metadata": {},
   "outputs": [],
   "source": [
    "class Person:\n",
    "    \n",
    "    def __init__(self, name):\n",
    "        self.name = name\n",
    "        print(f'응애 난 아기 {name}')\n",
    "    \n",
    "    def __del__(self):\n",
    "        print(f'저는 갑니다..{self.name}')"
   ]
  },
  {
   "cell_type": "code",
   "execution_count": null,
   "metadata": {},
   "outputs": [],
   "source": [
    "# 생성해 봅시다."
   ]
  },
  {
   "cell_type": "code",
   "execution_count": 95,
   "metadata": {},
   "outputs": [
    {
     "name": "stdout",
     "output_type": "stream",
     "text": [
      "응애 난 아기 길동\n"
     ]
    }
   ],
   "source": [
    "hong = Person('길동')"
   ]
  },
  {
   "cell_type": "code",
   "execution_count": null,
   "metadata": {},
   "outputs": [],
   "source": [
    "# 소멸시켜 봅시다."
   ]
  },
  {
   "cell_type": "code",
   "execution_count": 96,
   "metadata": {},
   "outputs": [
    {
     "name": "stdout",
     "output_type": "stream",
     "text": [
      "저는 갑니다..길동\n"
     ]
    }
   ],
   "source": [
    "del hong"
   ]
  },
  {
   "cell_type": "markdown",
   "metadata": {},
   "source": [
    "## 속성(Attribute) 정의\n",
    "\n",
    "특정 데이터 타입(또는 클래스)의 객체들이 가지게 될 상태/데이터를 의미한다.\n",
    "\n",
    "---\n",
    "**활용법**\n",
    "\n",
    "```python\n",
    "class Person:\n",
    "    def __init__(self, name):\n",
    "        self.name = name\n",
    "        \n",
    "    def talk(self):\n",
    "        print(f'안녕, 나는 {self.name}')\n",
    "```"
   ]
  },
  {
   "cell_type": "code",
   "execution_count": null,
   "metadata": {},
   "outputs": [],
   "source": [
    "# 인스턴스의 속성, 즉 개별 인스턴스들이 사용할 데이터를 정의해봅시다."
   ]
  },
  {
   "cell_type": "code",
   "execution_count": 100,
   "metadata": {},
   "outputs": [],
   "source": [
    "class Person:\n",
    "    def __init__(self, name):\n",
    "        self.name = name\n",
    "        \n",
    "    def talk(self):\n",
    "        print(f'안녕, 나는 {self.name}')"
   ]
  },
  {
   "cell_type": "code",
   "execution_count": null,
   "metadata": {},
   "outputs": [],
   "source": [
    "# 생성자 함수를 통해 생성과 동시에 인스턴스 속성에 값을 할당할 수 있습니다."
   ]
  },
  {
   "cell_type": "code",
   "execution_count": 101,
   "metadata": {},
   "outputs": [
    {
     "name": "stdout",
     "output_type": "stream",
     "text": [
      "안녕, 나는 jun\n"
     ]
    }
   ],
   "source": [
    "jun = Person('jun')\n",
    "jun.talk()"
   ]
  },
  {
   "cell_type": "code",
   "execution_count": null,
   "metadata": {},
   "outputs": [],
   "source": [
    "# 인스턴스 변수의 값을 변경할 수도 있습니다."
   ]
  },
  {
   "cell_type": "code",
   "execution_count": 102,
   "metadata": {},
   "outputs": [],
   "source": [
    "jun.name = '준성'"
   ]
  },
  {
   "cell_type": "code",
   "execution_count": 104,
   "metadata": {},
   "outputs": [
    {
     "name": "stdout",
     "output_type": "stream",
     "text": [
      "안녕, 나는 준성\n"
     ]
    }
   ],
   "source": [
    "jun.talk()"
   ]
  },
  {
   "cell_type": "markdown",
   "metadata": {},
   "source": [
    "## 매직메서드\n",
    "- 더블언더스코어(`__`)가 있는 메서드는 특별한 일을 하기 위해 만들어진 메서드이기 때문에 `스페셜 메서드` 혹은 `매직 메서드`라고 불립니다.\n",
    "- 매직(스페셜) 메서드 형태: `__someting__`\n",
    "```\n",
    " '__new__',\n",
    " '__reduce__',\n",
    " '__reduce_ex__',\n",
    " '__repr__',\n",
    " '__rmod__',\n",
    " '__rmul__',\n",
    " '__setattr__',\n",
    " '__sizeof__',\n",
    " '__str__',\n",
    "```"
   ]
  },
  {
   "cell_type": "markdown",
   "metadata": {},
   "source": [
    "### `__str__(self)` \n",
    "\n",
    "```py\n",
    "class Person:\n",
    "    def __str__(self):\n",
    "        return '객체 출력(print)시 보여줄 내용'\n",
    "```\n",
    "\n",
    "- 특정 객체를 출력(`print()`) 할 때 보여줄 내용을 정의할 수 있음"
   ]
  },
  {
   "cell_type": "code",
   "execution_count": null,
   "metadata": {},
   "outputs": [],
   "source": [
    "# dir() 함수를 통해 해당 객체가 활용 가능한 메서드를 확인해봅시다."
   ]
  },
  {
   "cell_type": "code",
   "execution_count": null,
   "metadata": {},
   "outputs": [],
   "source": [
    "dir('')"
   ]
  },
  {
   "cell_type": "code",
   "execution_count": null,
   "metadata": {},
   "outputs": [],
   "source": [
    "# Person의 인스턴스 person1을 생성 후 출력해봅시다."
   ]
  },
  {
   "cell_type": "code",
   "execution_count": 105,
   "metadata": {},
   "outputs": [],
   "source": [
    "class Person:\n",
    "    def __init__(self, name):\n",
    "        self.name = name"
   ]
  },
  {
   "cell_type": "code",
   "execution_count": null,
   "metadata": {},
   "outputs": [],
   "source": [
    "# Person의 인스턴스 person1을 생성 후 출력해봅시다."
   ]
  },
  {
   "cell_type": "code",
   "execution_count": 107,
   "metadata": {},
   "outputs": [
    {
     "name": "stdout",
     "output_type": "stream",
     "text": [
      "<__main__.Person object at 0x000001CE21553A30>\n"
     ]
    }
   ],
   "source": [
    "john = Person('john')\n",
    "print(john)"
   ]
  },
  {
   "cell_type": "code",
   "execution_count": null,
   "metadata": {},
   "outputs": [],
   "source": [
    "# __str__() 매직메서드를 정의해봅시다."
   ]
  },
  {
   "cell_type": "code",
   "execution_count": null,
   "metadata": {},
   "outputs": [],
   "source": []
  },
  {
   "cell_type": "code",
   "execution_count": null,
   "metadata": {},
   "outputs": [],
   "source": [
    "# Person의 인스턴스 person1을 생성 후 출력해봅시다.\n",
    "person1 = Person('john')\n",
    "print(person1)"
   ]
  },
  {
   "cell_type": "markdown",
   "metadata": {},
   "source": [
    "# 정리\n",
    "\n",
    "## 객체(Object)\n",
    "- 객체는 자신 고유의 **속성(attribute)**을 가지며 클래스에서 정의한 **행위(behavior)**를 수행할 수 있다.\n",
    "\n",
    "## 클래스(Class) \n",
    "- 공통된 속성(attribute)과 행위(behavior)를 정의한 것으로 객체지향 프로그램의 기본적인 **사용자 정의 데이터형(user-defined data type)**\n",
    "\n",
    "## 인스턴스(Instance) \n",
    "- 특정 `class`로부터 생성된 해당 클래스의 실체/예시(instance) \n",
    "\n",
    "## 속성(Attribute) \n",
    "- 클래스/인스턴스가 가지는 속성(값/데이터)\n",
    "\n",
    "## 메서드(Method) \n",
    "-  클래스/인스턴스에 적용 가능한 조작법(method) & 클래스/인스턴스가 할 수 있는 행위(함수)"
   ]
  }
 ],
 "metadata": {
  "kernelspec": {
   "display_name": "Python 3",
   "language": "python",
   "name": "python3"
  },
  "language_info": {
   "codemirror_mode": {
    "name": "ipython",
    "version": 3
   },
   "file_extension": ".py",
   "mimetype": "text/x-python",
   "name": "python",
   "nbconvert_exporter": "python",
   "pygments_lexer": "ipython3",
   "version": "3.8.7"
  },
  "latex_envs": {
   "LaTeX_envs_menu_present": true,
   "autoclose": false,
   "autocomplete": true,
   "bibliofile": "biblio.bib",
   "cite_by": "apalike",
   "current_citInitial": 1,
   "eqLabelWithNumbers": true,
   "eqNumInitial": 1,
   "hotkeys": {
    "equation": "Ctrl-E",
    "itemize": "Ctrl-I"
   },
   "labels_anchors": false,
   "latex_user_defs": false,
   "report_style_numbering": false,
   "user_envs_cfg": false
  },
  "toc": {
   "base_numbering": 1,
   "nav_menu": {},
   "number_sections": true,
   "sideBar": true,
   "skip_h1_title": false,
   "title_cell": "Table of Contents",
   "title_sidebar": "OOP I",
   "toc_cell": false,
   "toc_position": {
    "height": "calc(100% - 180px)",
    "left": "10px",
    "top": "150px",
    "width": "351px"
   },
   "toc_section_display": true,
   "toc_window_display": false
  }
 },
 "nbformat": 4,
 "nbformat_minor": 2
}
