{
 "cells": [
  {
   "cell_type": "code",
   "execution_count": 56,
   "id": "respected-understanding",
   "metadata": {
    "scrolled": true
   },
   "outputs": [
    {
     "name": "stdout",
     "output_type": "stream",
     "text": [
      "4 5 6\n",
      "아웃~~~~~~~!\n",
      "4 5 6\n",
      "아웃~~~~~~~!\n",
      "4 5 6\n",
      "아웃~~~~~~~!\n",
      "GAME OVER!!!! You Lose\n",
      "당신은 3번 만에 졌습니다ㅜ\n"
     ]
    }
   ],
   "source": [
    "# 숫자는 맞지만 위치가 틀렸을 때는 볼.\n",
    "# 숫자와 위치가 전부 맞으면 스트라이크.\n",
    "# 숫자와 위치가 전부 틀리면 아웃\n",
    "\n",
    "import random\n",
    "\n",
    "\n",
    "\n",
    "Lotte_pitching = list(random.sample(range(1, 11), 3))\n",
    "\n",
    "out = 3\n",
    "strike = 0\n",
    "ball = 0\n",
    "win_count = 0\n",
    "\n",
    "while out > 0 or strike < 3:\n",
    "    \n",
    "    \n",
    "    Kia_hitting = list(map(int, input().split()))\n",
    "\n",
    "\n",
    "    potential_strike_A = 0                      \n",
    "    for i in range(0, 3):\n",
    "        if Kia_hitting[i] == Lotte_pitching[i]:\n",
    "            potential_strike_A += 1\n",
    "    if potential_strike_A >= 1:\n",
    "        strike += 1\n",
    "        win_count += 1\n",
    "        print(\"스트~~~~~라이크!\")\n",
    "                \n",
    "            \n",
    "    potential_strike_B = 0\n",
    "    potential_ball_B = 0\n",
    "    for i in range(0, 3):\n",
    "        if Kia_hitting[i] == Lotte_pitching[i]:\n",
    "            potential_strike_B += 1\n",
    "        if Kia_hitting[i] in Lotte_pitching:\n",
    "            potential_ball_B += 1\n",
    "    if potential_strike_B == 0 and potential_ball_B >= 1:\n",
    "            \n",
    "        ball += 1\n",
    "        win_count += 1\n",
    "        print(\"보올 볼입니다!\")\n",
    "            \n",
    "\n",
    "    potential_strike_C = 0\n",
    "    potential_ball_C = 0\n",
    "    for i in range(0, 3):\n",
    "        if Kia_hitting[i] == Lotte_pitching[i]:\n",
    "            potential_strike_C += 1\n",
    "        if Kia_hitting[i] in Lotte_pitching:\n",
    "            potential_ball_C += 1\n",
    "    if potential_strike_C == 0 and potential_ball_C == 0:\n",
    "            \n",
    "        out -= 1\n",
    "        win_count += 1\n",
    "        print(\"아웃~~~~~~~!\")\n",
    "        \n",
    "        \n",
    "    if strike == 3:\n",
    "        \n",
    "        print(\"You win!\")\n",
    "        print(f'당신은 {win_count}번 만에 이겼습니다!')\n",
    "        break\n",
    "    \n",
    "    if out == 0:\n",
    "        print('GAME OVER!!!! You Lose')\n",
    "        print(f'당신은 {win_count}번 만에 졌습니다ㅜ')\n",
    "        break \n",
    "                \n"
   ]
  },
  {
   "cell_type": "code",
   "execution_count": 26,
   "id": "patient-zimbabwe",
   "metadata": {},
   "outputs": [],
   "source": [
    "Lotte_pitching = list(random.sample(range(1, 11), 3))"
   ]
  }
 ],
 "metadata": {
  "kernelspec": {
   "display_name": "Python 3",
   "language": "python",
   "name": "python3"
  },
  "language_info": {
   "codemirror_mode": {
    "name": "ipython",
    "version": 3
   },
   "file_extension": ".py",
   "mimetype": "text/x-python",
   "name": "python",
   "nbconvert_exporter": "python",
   "pygments_lexer": "ipython3",
   "version": "3.8.7"
  },
  "toc": {
   "base_numbering": 1,
   "nav_menu": {},
   "number_sections": true,
   "sideBar": true,
   "skip_h1_title": false,
   "title_cell": "Table of Contents",
   "title_sidebar": "Contents",
   "toc_cell": false,
   "toc_position": {},
   "toc_section_display": true,
   "toc_window_display": false
  }
 },
 "nbformat": 4,
 "nbformat_minor": 5
}
