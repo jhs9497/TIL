{
 "cells": [
  {
   "cell_type": "markdown",
   "id": "contrary-murray",
   "metadata": {},
   "source": [
    "# 기본 오류"
   ]
  },
  {
   "cell_type": "code",
   "execution_count": 2,
   "id": "universal-catalog",
   "metadata": {},
   "outputs": [
    {
     "name": "stdout",
     "output_type": "stream",
     "text": [
      "프로그램 시작..\n",
      "96.66666666666667\n"
     ]
    },
    {
     "ename": "ZeroDivisionError",
     "evalue": "division by zero",
     "output_type": "error",
     "traceback": [
      "\u001b[1;31m---------------------------------------------------------------------------\u001b[0m",
      "\u001b[1;31mZeroDivisionError\u001b[0m                         Traceback (most recent call last)",
      "\u001b[1;32m<ipython-input-2-445c20d7f3ca>\u001b[0m in \u001b[0;36m<module>\u001b[1;34m\u001b[0m\n\u001b[0;32m     11\u001b[0m } \n\u001b[0;32m     12\u001b[0m \u001b[0mprint\u001b[0m\u001b[1;33m(\u001b[0m\u001b[1;34m'프로그램 시작..'\u001b[0m\u001b[1;33m)\u001b[0m\u001b[1;33m\u001b[0m\u001b[1;33m\u001b[0m\u001b[0m\n\u001b[1;32m---> 13\u001b[1;33m \u001b[0mclass_avg\u001b[0m\u001b[1;33m(\u001b[0m\u001b[0mdokdo_1\u001b[0m\u001b[1;33m)\u001b[0m\u001b[1;33m\u001b[0m\u001b[1;33m\u001b[0m\u001b[0m\n\u001b[0m\u001b[0;32m     14\u001b[0m \u001b[0mprint\u001b[0m\u001b[1;33m(\u001b[0m\u001b[1;34m'프로그램 종료..'\u001b[0m\u001b[1;33m)\u001b[0m\u001b[1;33m\u001b[0m\u001b[1;33m\u001b[0m\u001b[0m\n",
      "\u001b[1;32m<ipython-input-2-445c20d7f3ca>\u001b[0m in \u001b[0;36mclass_avg\u001b[1;34m(students)\u001b[0m\n\u001b[0;32m      4\u001b[0m \u001b[1;32mdef\u001b[0m \u001b[0mclass_avg\u001b[0m\u001b[1;33m(\u001b[0m\u001b[0mstudents\u001b[0m\u001b[1;33m)\u001b[0m\u001b[1;33m:\u001b[0m\u001b[1;33m\u001b[0m\u001b[1;33m\u001b[0m\u001b[0m\n\u001b[0;32m      5\u001b[0m     \u001b[1;32mfor\u001b[0m \u001b[0mscores\u001b[0m \u001b[1;32min\u001b[0m \u001b[0mstudents\u001b[0m\u001b[1;33m.\u001b[0m\u001b[0mvalues\u001b[0m\u001b[1;33m(\u001b[0m\u001b[1;33m)\u001b[0m\u001b[1;33m:\u001b[0m\u001b[1;33m\u001b[0m\u001b[1;33m\u001b[0m\u001b[0m\n\u001b[1;32m----> 6\u001b[1;33m         \u001b[0mprint\u001b[0m\u001b[1;33m(\u001b[0m\u001b[0m_avg\u001b[0m\u001b[1;33m(\u001b[0m\u001b[0mscores\u001b[0m\u001b[1;33m)\u001b[0m\u001b[1;33m)\u001b[0m\u001b[1;33m\u001b[0m\u001b[1;33m\u001b[0m\u001b[0m\n\u001b[0m\u001b[0;32m      7\u001b[0m \u001b[1;33m\u001b[0m\u001b[0m\n\u001b[0;32m      8\u001b[0m dokdo_1 = {\n",
      "\u001b[1;32m<ipython-input-2-445c20d7f3ca>\u001b[0m in \u001b[0;36m_avg\u001b[1;34m(scores)\u001b[0m\n\u001b[0;32m      1\u001b[0m \u001b[1;32mdef\u001b[0m \u001b[0m_avg\u001b[0m\u001b[1;33m(\u001b[0m\u001b[0mscores\u001b[0m\u001b[1;33m)\u001b[0m\u001b[1;33m:\u001b[0m\u001b[1;33m\u001b[0m\u001b[1;33m\u001b[0m\u001b[0m\n\u001b[1;32m----> 2\u001b[1;33m     \u001b[1;32mreturn\u001b[0m \u001b[0msum\u001b[0m\u001b[1;33m(\u001b[0m\u001b[0mscores\u001b[0m\u001b[1;33m)\u001b[0m \u001b[1;33m/\u001b[0m \u001b[0mlen\u001b[0m\u001b[1;33m(\u001b[0m\u001b[0mscores\u001b[0m\u001b[1;33m)\u001b[0m\u001b[1;33m\u001b[0m\u001b[1;33m\u001b[0m\u001b[0m\n\u001b[0m\u001b[0;32m      3\u001b[0m \u001b[1;33m\u001b[0m\u001b[0m\n\u001b[0;32m      4\u001b[0m \u001b[1;32mdef\u001b[0m \u001b[0mclass_avg\u001b[0m\u001b[1;33m(\u001b[0m\u001b[0mstudents\u001b[0m\u001b[1;33m)\u001b[0m\u001b[1;33m:\u001b[0m\u001b[1;33m\u001b[0m\u001b[1;33m\u001b[0m\u001b[0m\n\u001b[0;32m      5\u001b[0m     \u001b[1;32mfor\u001b[0m \u001b[0mscores\u001b[0m \u001b[1;32min\u001b[0m \u001b[0mstudents\u001b[0m\u001b[1;33m.\u001b[0m\u001b[0mvalues\u001b[0m\u001b[1;33m(\u001b[0m\u001b[1;33m)\u001b[0m\u001b[1;33m:\u001b[0m\u001b[1;33m\u001b[0m\u001b[1;33m\u001b[0m\u001b[0m\n",
      "\u001b[1;31mZeroDivisionError\u001b[0m: division by zero"
     ]
    }
   ],
   "source": [
    "def _avg(scores):\n",
    "    return sum(scores) / len(scores)\n",
    "\n",
    "def class_avg(students):\n",
    "    for scores in students.values():\n",
    "        print(_avg(scores))\n",
    "        \n",
    "dokdo_1 = {\n",
    "    '김독도': [100, 90, 100],\n",
    "    '민바다': [] # len([]) => 0\n",
    "} \n",
    "print('프로그램 시작..')\n",
    "class_avg(dokdo_1)\n",
    "print('프로그램 종료..')\n"
   ]
  },
  {
   "cell_type": "markdown",
   "id": "satisfied-knife",
   "metadata": {},
   "source": [
    "# 예외 처리\n",
    "\n",
    "> 오류를 발생 시키지 않고, 특정 오류일때 처리"
   ]
  },
  {
   "cell_type": "code",
   "execution_count": 3,
   "id": "spare-proportion",
   "metadata": {
    "scrolled": true
   },
   "outputs": [
    {
     "name": "stdout",
     "output_type": "stream",
     "text": [
      "프로그램 시작..\n",
      "96.66666666666667\n",
      "0\n",
      "프로그램 종료..\n"
     ]
    }
   ],
   "source": [
    "# 예외처리!\n",
    "# 평균을 내는 함수!\n",
    "def _avg(scores):\n",
    "    try:\n",
    "        # 실행 해보고.. try...\n",
    "        return sum(scores) / len(scores)\n",
    "    # 특정한 오류가 발생하면\n",
    "    except ZeroDivisionError:\n",
    "        # 이렇게 할래..\n",
    "        # 지금은 \n",
    "        return 0\n",
    "\n",
    "def class_avg(students):\n",
    "    for scores in students.values():\n",
    "        print(_avg(scores))\n",
    "\n",
    "dokdo_1 = {\n",
    "    '김독도': [100, 90, 100],\n",
    "    '민바다': [] # len([]) => 0\n",
    "} \n",
    "print('프로그램 시작..')\n",
    "class_avg(dokdo_1)\n",
    "print('프로그램 종료..')"
   ]
  },
  {
   "cell_type": "markdown",
   "id": "lovely-express",
   "metadata": {},
   "source": [
    "# 예외 발생\n",
    "\n",
    "> 직접 예외를 발생시키고 싶을 때\n",
    "\n",
    "예시 ) 0으로 나누는 에러를 시험 안본 학생이 있다고 에러!!"
   ]
  },
  {
   "cell_type": "code",
   "execution_count": 4,
   "id": "allied-absence",
   "metadata": {
    "scrolled": true
   },
   "outputs": [
    {
     "name": "stdout",
     "output_type": "stream",
     "text": [
      "프로그램 시작..\n",
      "96.66666666666667\n"
     ]
    },
    {
     "ename": "NoTestError",
     "evalue": "시험 안본 학생이 있습니다.",
     "output_type": "error",
     "traceback": [
      "\u001b[1;31m---------------------------------------------------------------------------\u001b[0m",
      "\u001b[1;31mNoTestError\u001b[0m                               Traceback (most recent call last)",
      "\u001b[1;32m<ipython-input-4-aba1496b2215>\u001b[0m in \u001b[0;36m<module>\u001b[1;34m\u001b[0m\n\u001b[0;32m     16\u001b[0m } \n\u001b[0;32m     17\u001b[0m \u001b[0mprint\u001b[0m\u001b[1;33m(\u001b[0m\u001b[1;34m'프로그램 시작..'\u001b[0m\u001b[1;33m)\u001b[0m\u001b[1;33m\u001b[0m\u001b[1;33m\u001b[0m\u001b[0m\n\u001b[1;32m---> 18\u001b[1;33m \u001b[0mclass_avg\u001b[0m\u001b[1;33m(\u001b[0m\u001b[0mdokdo_1\u001b[0m\u001b[1;33m)\u001b[0m\u001b[1;33m\u001b[0m\u001b[1;33m\u001b[0m\u001b[0m\n\u001b[0m\u001b[0;32m     19\u001b[0m \u001b[0mprint\u001b[0m\u001b[1;33m(\u001b[0m\u001b[1;34m'프로그램 종료..'\u001b[0m\u001b[1;33m)\u001b[0m\u001b[1;33m\u001b[0m\u001b[1;33m\u001b[0m\u001b[0m\n",
      "\u001b[1;32m<ipython-input-4-aba1496b2215>\u001b[0m in \u001b[0;36mclass_avg\u001b[1;34m(students)\u001b[0m\n\u001b[0;32m      9\u001b[0m \u001b[1;32mdef\u001b[0m \u001b[0mclass_avg\u001b[0m\u001b[1;33m(\u001b[0m\u001b[0mstudents\u001b[0m\u001b[1;33m)\u001b[0m\u001b[1;33m:\u001b[0m\u001b[1;33m\u001b[0m\u001b[1;33m\u001b[0m\u001b[0m\n\u001b[0;32m     10\u001b[0m     \u001b[1;32mfor\u001b[0m \u001b[0mscores\u001b[0m \u001b[1;32min\u001b[0m \u001b[0mstudents\u001b[0m\u001b[1;33m.\u001b[0m\u001b[0mvalues\u001b[0m\u001b[1;33m(\u001b[0m\u001b[1;33m)\u001b[0m\u001b[1;33m:\u001b[0m\u001b[1;33m\u001b[0m\u001b[1;33m\u001b[0m\u001b[0m\n\u001b[1;32m---> 11\u001b[1;33m         \u001b[0mprint\u001b[0m\u001b[1;33m(\u001b[0m\u001b[0m_avg\u001b[0m\u001b[1;33m(\u001b[0m\u001b[0mscores\u001b[0m\u001b[1;33m)\u001b[0m\u001b[1;33m)\u001b[0m\u001b[1;33m\u001b[0m\u001b[1;33m\u001b[0m\u001b[0m\n\u001b[0m\u001b[0;32m     12\u001b[0m \u001b[1;33m\u001b[0m\u001b[0m\n\u001b[0;32m     13\u001b[0m dokdo_1 = {\n",
      "\u001b[1;32m<ipython-input-4-aba1496b2215>\u001b[0m in \u001b[0;36m_avg\u001b[1;34m(scores)\u001b[0m\n\u001b[0;32m      4\u001b[0m \u001b[1;32mdef\u001b[0m \u001b[0m_avg\u001b[0m\u001b[1;33m(\u001b[0m\u001b[0mscores\u001b[0m\u001b[1;33m)\u001b[0m\u001b[1;33m:\u001b[0m\u001b[1;33m\u001b[0m\u001b[1;33m\u001b[0m\u001b[0m\n\u001b[0;32m      5\u001b[0m     \u001b[1;32mif\u001b[0m \u001b[0mlen\u001b[0m\u001b[1;33m(\u001b[0m\u001b[0mscores\u001b[0m\u001b[1;33m)\u001b[0m \u001b[1;33m==\u001b[0m \u001b[1;36m0\u001b[0m\u001b[1;33m:\u001b[0m\u001b[1;33m\u001b[0m\u001b[1;33m\u001b[0m\u001b[0m\n\u001b[1;32m----> 6\u001b[1;33m         \u001b[1;32mraise\u001b[0m \u001b[0mNoTestError\u001b[0m\u001b[1;33m(\u001b[0m\u001b[1;34m'시험 안본 학생이 있습니다.'\u001b[0m\u001b[1;33m)\u001b[0m\u001b[1;33m\u001b[0m\u001b[1;33m\u001b[0m\u001b[0m\n\u001b[0m\u001b[0;32m      7\u001b[0m     \u001b[1;32mreturn\u001b[0m \u001b[0msum\u001b[0m\u001b[1;33m(\u001b[0m\u001b[0mscores\u001b[0m\u001b[1;33m)\u001b[0m \u001b[1;33m/\u001b[0m \u001b[0mlen\u001b[0m\u001b[1;33m(\u001b[0m\u001b[0mscores\u001b[0m\u001b[1;33m)\u001b[0m\u001b[1;33m\u001b[0m\u001b[1;33m\u001b[0m\u001b[0m\n\u001b[0;32m      8\u001b[0m \u001b[1;33m\u001b[0m\u001b[0m\n",
      "\u001b[1;31mNoTestError\u001b[0m: 시험 안본 학생이 있습니다."
     ]
    }
   ],
   "source": [
    "# 이 코드는 나중에 이해..!\n",
    "class NoTestError(ZeroDivisionError):\n",
    "    pass\n",
    "\n",
    "def _avg(scores):\n",
    "    if len(scores) == 0:\n",
    "        raise NoTestError('시험 안본 학생이 있습니다.')\n",
    "    return sum(scores) / len(scores)\n",
    "\n",
    "def class_avg(students):\n",
    "    for scores in students.values():\n",
    "        print(_avg(scores))\n",
    "        \n",
    "dokdo_1 = {\n",
    "    '김독도': [100, 90, 100],\n",
    "    '민바다': [] # len([]) => 0\n",
    "} \n",
    "print('프로그램 시작..')\n",
    "class_avg(dokdo_1)\n",
    "print('프로그램 종료..')"
   ]
  },
  {
   "cell_type": "markdown",
   "id": "mature-passenger",
   "metadata": {},
   "source": [
    "## 예외 발생 혹은 에러가 발생하였다는 것..\n",
    "\n",
    "* 반드시 에러 발생이 나쁘다는 것은 아님.\n",
    "* 설계하기에 따라, 시험 안본 학생이 있다는 에러를 발생시키는 것도 의미가 있음."
   ]
  },
  {
   "cell_type": "code",
   "execution_count": 5,
   "id": "studied-manual",
   "metadata": {},
   "outputs": [
    {
     "name": "stdout",
     "output_type": "stream",
     "text": [
      "시작\n"
     ]
    },
    {
     "ename": "ZeroDivisionError",
     "evalue": "division by zero",
     "output_type": "error",
     "traceback": [
      "\u001b[1;31m---------------------------------------------------------------------------\u001b[0m",
      "\u001b[1;31mZeroDivisionError\u001b[0m                         Traceback (most recent call last)",
      "\u001b[1;32m<ipython-input-5-f959eab62646>\u001b[0m in \u001b[0;36m<module>\u001b[1;34m\u001b[0m\n\u001b[0;32m      1\u001b[0m \u001b[0mprint\u001b[0m\u001b[1;33m(\u001b[0m\u001b[1;34m'시작'\u001b[0m\u001b[1;33m)\u001b[0m\u001b[1;33m\u001b[0m\u001b[1;33m\u001b[0m\u001b[0m\n\u001b[1;32m----> 2\u001b[1;33m \u001b[1;36m1\u001b[0m\u001b[1;33m/\u001b[0m\u001b[1;36m0\u001b[0m\u001b[1;33m\u001b[0m\u001b[1;33m\u001b[0m\u001b[0m\n\u001b[0m\u001b[0;32m      3\u001b[0m \u001b[0mprint\u001b[0m\u001b[1;33m(\u001b[0m\u001b[1;34m'끝'\u001b[0m\u001b[1;33m)\u001b[0m\u001b[1;33m\u001b[0m\u001b[1;33m\u001b[0m\u001b[0m\n",
      "\u001b[1;31mZeroDivisionError\u001b[0m: division by zero"
     ]
    }
   ],
   "source": [
    "print('시작')\n",
    "1/0\n",
    "print('끝')"
   ]
  },
  {
   "cell_type": "code",
   "execution_count": 6,
   "id": "intensive-hormone",
   "metadata": {},
   "outputs": [
    {
     "name": "stdout",
     "output_type": "stream",
     "text": [
      "시작\n",
      "0으로 나누고 있어요\n",
      "끝\n"
     ]
    }
   ],
   "source": [
    "print('시작')\n",
    "try:\n",
    "    1/0\n",
    "except:\n",
    "    print('0으로 나누고 있어요')\n",
    "print('끝')"
   ]
  }
 ],
 "metadata": {
  "kernelspec": {
   "display_name": "Python 3",
   "language": "python",
   "name": "python3"
  },
  "language_info": {
   "codemirror_mode": {
    "name": "ipython",
    "version": 3
   },
   "file_extension": ".py",
   "mimetype": "text/x-python",
   "name": "python",
   "nbconvert_exporter": "python",
   "pygments_lexer": "ipython3",
   "version": "3.8.6"
  },
  "toc": {
   "base_numbering": 1,
   "nav_menu": {},
   "number_sections": true,
   "sideBar": true,
   "skip_h1_title": false,
   "title_cell": "Table of Contents",
   "title_sidebar": "Contents",
   "toc_cell": false,
   "toc_position": {},
   "toc_section_display": true,
   "toc_window_display": false
  }
 },
 "nbformat": 4,
 "nbformat_minor": 5
}
