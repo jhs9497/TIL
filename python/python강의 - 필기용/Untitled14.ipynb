{
 "cells": [
  {
   "cell_type": "code",
   "execution_count": 14,
   "id": "leading-allen",
   "metadata": {},
   "outputs": [
    {
     "name": "stdout",
     "output_type": "stream",
     "text": [
      "6 4\n",
      "4 1\n",
      "13\n",
      "[0, 1, 2, 3, 4, 5, 6, 5, 4, 3, 2, 1]\n",
      "[0, 1, 2, 3, 4, 3, 2, 1]\n",
      "5 2\n"
     ]
    }
   ],
   "source": [
    "# 간단하게 생각하자 반사고 나발이고\n",
    "# 결국 x는 x축 위에서만 왔다갔다 하고\n",
    "# y는 y축 위에서만 왔다갔다 한다.\n",
    "\n",
    "w, h = map(int, input().split())\n",
    "x, y = map(int, input().split())\n",
    "t = int(input())\n",
    "\n",
    "# w가 6이라고 치면 결국 x는 [0,1,2,3,4,5,6,5,4,3,2,1] 으로 움직인다\n",
    "# 우선 w와 h에 따라서 x, y가 움직이는 리스트를 만들어주자\n",
    "\n",
    "w_list = []\n",
    "h_list = []\n",
    "\n",
    "# w_list 만들기\n",
    "for i in range(w):\n",
    "    w_list.append(i)\n",
    "for j in range(w, 0, -1):\n",
    "    w_list.append(j)\n",
    "print(w_list)\n",
    "# h_list 만들기\n",
    "for i in range(h):\n",
    "    h_list.append(i)\n",
    "for j in range(h, 0, -1):\n",
    "    h_list.append(j)\n",
    "print(h_list)\n",
    "# x의 인덱스 값은 초기 x값 + 움직인 횟수 t값을 w_list의 전체길이 (=2h)로 나눈 것의 나머지값을 인덱스로 한다\n",
    "# y도 마찬가지\n",
    "\n",
    "x_t = w_list[(x+t) % (2*w)]\n",
    "y_t = h_list[(y+t) % (2*h)]\n",
    "\n",
    "print(x_t, y_t)"
   ]
  }
 ],
 "metadata": {
  "kernelspec": {
   "display_name": "Python 3",
   "language": "python",
   "name": "python3"
  },
  "language_info": {
   "codemirror_mode": {
    "name": "ipython",
    "version": 3
   },
   "file_extension": ".py",
   "mimetype": "text/x-python",
   "name": "python",
   "nbconvert_exporter": "python",
   "pygments_lexer": "ipython3",
   "version": "3.8.7"
  },
  "toc": {
   "base_numbering": 1,
   "nav_menu": {},
   "number_sections": true,
   "sideBar": true,
   "skip_h1_title": false,
   "title_cell": "Table of Contents",
   "title_sidebar": "Contents",
   "toc_cell": false,
   "toc_position": {},
   "toc_section_display": true,
   "toc_window_display": false
  }
 },
 "nbformat": 4,
 "nbformat_minor": 5
}
