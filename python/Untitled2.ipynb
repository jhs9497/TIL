{
 "cells": [
  {
   "cell_type": "code",
   "execution_count": 1,
   "id": "adult-malta",
   "metadata": {},
   "outputs": [
    {
     "name": "stdout",
     "output_type": "stream",
     "text": [
      "1 <class 'int'>\n"
     ]
    }
   ],
   "source": [
    "a = 1\n",
    "print(a, type(1))"
   ]
  },
  {
   "cell_type": "code",
   "execution_count": 2,
   "id": "rational-gardening",
   "metadata": {},
   "outputs": [
    {
     "name": "stdout",
     "output_type": "stream",
     "text": [
      "pythonfun\n"
     ]
    }
   ],
   "source": [
    "a = 'python'\n",
    "b = 'fun'\n",
    "\n"
   ]
  },
  {
   "cell_type": "code",
   "execution_count": 11,
   "id": "amazing-suggestion",
   "metadata": {},
   "outputs": [
    {
     "name": "stdout",
     "output_type": "stream",
     "text": [
      "dcba\n"
     ]
    }
   ],
   "source": [
    "a = 'abcd'\n",
    "\n",
    "print(a[::-1])"
   ]
  },
  {
   "cell_type": "code",
   "execution_count": 12,
   "id": "fifteen-encyclopedia",
   "metadata": {},
   "outputs": [
    {
     "name": "stdout",
     "output_type": "stream",
     "text": [
      "랄라라라라라라라라 안녕\n"
     ]
    }
   ],
   "source": [
    "a = \"랄라라라라라라라라 {}\".format(\"안녕\")\n",
    "\n",
    "print(a)"
   ]
  },
  {
   "cell_type": "code",
   "execution_count": 14,
   "id": "joint-habitat",
   "metadata": {
    "scrolled": true
   },
   "outputs": [
    {
     "name": "stdout",
     "output_type": "stream",
     "text": [
      "라라라라라라라안녕\n"
     ]
    }
   ],
   "source": [
    "a = '안녕'\n",
    "\n",
    "\n",
    "print(f'라라라라라라라{a}')"
   ]
  },
  {
   "cell_type": "code",
   "execution_count": 17,
   "id": "oriental-sewing",
   "metadata": {
    "scrolled": true
   },
   "outputs": [
    {
     "name": "stdout",
     "output_type": "stream",
     "text": [
      "1\n"
     ]
    }
   ],
   "source": [
    "a = [1, 2, 3, 4, [1,2]]\n",
    "\n",
    "print(a[4][0])"
   ]
  },
  {
   "cell_type": "code",
   "execution_count": 19,
   "id": "secure-alias",
   "metadata": {
    "scrolled": true
   },
   "outputs": [
    {
     "name": "stdout",
     "output_type": "stream",
     "text": [
      "['b', 'b', 'c']\n"
     ]
    }
   ],
   "source": [
    "a = ['a', 'b', 'c']\n",
    "a[0] ='b'\n",
    "print(a)"
   ]
  },
  {
   "cell_type": "code",
   "execution_count": 24,
   "id": "transparent-squad",
   "metadata": {},
   "outputs": [
    {
     "name": "stdout",
     "output_type": "stream",
     "text": [
      "[2, 3, 6, 1]\n"
     ]
    }
   ],
   "source": [
    "a = [1, 6, 3, 2]\n",
    "\n",
    "a.reverse()\n",
    "\n",
    "print(a)"
   ]
  }
 ],
 "metadata": {
  "kernelspec": {
   "display_name": "Python 3",
   "language": "python",
   "name": "python3"
  },
  "language_info": {
   "codemirror_mode": {
    "name": "ipython",
    "version": 3
   },
   "file_extension": ".py",
   "mimetype": "text/x-python",
   "name": "python",
   "nbconvert_exporter": "python",
   "pygments_lexer": "ipython3",
   "version": "3.8.7"
  }
 },
 "nbformat": 4,
 "nbformat_minor": 5
}
