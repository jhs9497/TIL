{
 "cells": [
  {
   "cell_type": "markdown",
   "id": "naughty-greek",
   "metadata": {},
   "source": [
    "연월일 순으로 구성된 8자리의 날짜가 입력으로 주어진다.\n",
    "\n",
    "해당 날짜의 유효성을 판단한 후, 날짜가 유효하다면\n",
    "\n",
    "[그림1] 과 같이 ”YYYY/MM/DD”형식으로 출력하고,\n",
    "\n",
    "날짜가 유효하지 않을 경우, -1 을 출력하는 프로그램을 작성하라."
   ]
  },
  {
   "cell_type": "code",
   "execution_count": 9,
   "id": "stainless-checklist",
   "metadata": {},
   "outputs": [
    {
     "ename": "TypeError",
     "evalue": "can only concatenate str (not \"int\") to str",
     "output_type": "error",
     "traceback": [
      "\u001b[1;31m---------------------------------------------------------------------------\u001b[0m",
      "\u001b[1;31mTypeError\u001b[0m                                 Traceback (most recent call last)",
      "\u001b[1;32m<ipython-input-9-b9e999bf124f>\u001b[0m in \u001b[0;36m<module>\u001b[1;34m\u001b[0m\n\u001b[0;32m     51\u001b[0m \u001b[1;33m\u001b[0m\u001b[0m\n\u001b[0;32m     52\u001b[0m \u001b[1;33m\u001b[0m\u001b[0m\n\u001b[1;32m---> 53\u001b[1;33m \u001b[0mprint\u001b[0m\u001b[1;33m(\u001b[0m\u001b[0mmonth\u001b[0m\u001b[1;33m(\u001b[0m\u001b[1;36m12330124\u001b[0m\u001b[1;33m)\u001b[0m\u001b[1;33m)\u001b[0m\u001b[1;33m\u001b[0m\u001b[1;33m\u001b[0m\u001b[0m\n\u001b[0m\u001b[0;32m     54\u001b[0m \u001b[0mprint\u001b[0m\u001b[1;33m(\u001b[0m\u001b[0mmonth\u001b[0m\u001b[1;33m(\u001b[0m\u001b[1;36m15369901\u001b[0m\u001b[1;33m)\u001b[0m\u001b[1;33m)\u001b[0m\u001b[1;33m\u001b[0m\u001b[1;33m\u001b[0m\u001b[0m\n\u001b[0;32m     55\u001b[0m \u001b[0mprint\u001b[0m\u001b[1;33m(\u001b[0m\u001b[0mmonth\u001b[0m\u001b[1;33m(\u001b[0m\u001b[1;36m11240023\u001b[0m\u001b[1;33m)\u001b[0m\u001b[1;33m)\u001b[0m\u001b[1;33m\u001b[0m\u001b[1;33m\u001b[0m\u001b[0m\n",
      "\u001b[1;32m<ipython-input-9-b9e999bf124f>\u001b[0m in \u001b[0;36mmonth\u001b[1;34m(origin_number)\u001b[0m\n\u001b[0;32m     37\u001b[0m     \u001b[1;32mif\u001b[0m \u001b[0moriginal\u001b[0m\u001b[1;33m[\u001b[0m\u001b[1;36m4\u001b[0m\u001b[1;33m:\u001b[0m\u001b[1;36m6\u001b[0m\u001b[1;33m]\u001b[0m \u001b[1;32min\u001b[0m \u001b[0mmonth_A_str\u001b[0m \u001b[1;32mand\u001b[0m \u001b[0moriginal\u001b[0m\u001b[1;33m[\u001b[0m\u001b[1;36m6\u001b[0m\u001b[1;33m:\u001b[0m\u001b[1;36m8\u001b[0m\u001b[1;33m]\u001b[0m \u001b[1;32min\u001b[0m \u001b[0mdate_A_str\u001b[0m\u001b[1;33m:\u001b[0m  \u001b[1;31m# original str숫자에 인덱싱으로 두 가지 조건에 충족하는지 묻는다\u001b[0m\u001b[1;33m\u001b[0m\u001b[1;33m\u001b[0m\u001b[0m\n\u001b[0;32m     38\u001b[0m         \u001b[0mresult\u001b[0m \u001b[1;33m=\u001b[0m \u001b[0moriginal\u001b[0m\u001b[1;33m[\u001b[0m\u001b[1;36m0\u001b[0m\u001b[1;33m:\u001b[0m\u001b[1;36m4\u001b[0m\u001b[1;33m]\u001b[0m \u001b[1;33m+\u001b[0m \u001b[1;34m'/'\u001b[0m \u001b[1;33m+\u001b[0m \u001b[0moriginal\u001b[0m\u001b[1;33m[\u001b[0m\u001b[1;36m4\u001b[0m\u001b[1;33m:\u001b[0m\u001b[1;36m6\u001b[0m\u001b[1;33m]\u001b[0m \u001b[1;33m+\u001b[0m \u001b[1;34m'/'\u001b[0m \u001b[1;33m+\u001b[0m \u001b[0moriginal\u001b[0m\u001b[1;33m[\u001b[0m\u001b[1;36m6\u001b[0m\u001b[1;33m:\u001b[0m\u001b[1;33m]\u001b[0m\u001b[1;33m\u001b[0m\u001b[1;33m\u001b[0m\u001b[0m\n\u001b[1;32m---> 39\u001b[1;33m         \u001b[0mprint\u001b[0m\u001b[1;33m(\u001b[0m\u001b[1;34mf'#{i+1}, original[0:4] + '\u001b[0m\u001b[1;33m/\u001b[0m\u001b[1;34m' + original[4:6] + '\u001b[0m\u001b[1;33m/\u001b[0m\u001b[1;34m' + original[6:]'\u001b[0m\u001b[1;33m)\u001b[0m   \u001b[1;31m# original 사이에 '/' 넣어서 출력\u001b[0m\u001b[1;33m\u001b[0m\u001b[1;33m\u001b[0m\u001b[0m\n\u001b[0m\u001b[0;32m     40\u001b[0m \u001b[1;33m\u001b[0m\u001b[0m\n\u001b[0;32m     41\u001b[0m     \u001b[1;32melif\u001b[0m \u001b[0moriginal\u001b[0m\u001b[1;33m[\u001b[0m\u001b[1;36m4\u001b[0m\u001b[1;33m:\u001b[0m\u001b[1;36m6\u001b[0m\u001b[1;33m]\u001b[0m \u001b[1;32min\u001b[0m \u001b[0mmonth_B_str\u001b[0m \u001b[1;32mand\u001b[0m \u001b[0moriginal\u001b[0m\u001b[1;33m[\u001b[0m\u001b[1;36m6\u001b[0m\u001b[1;33m:\u001b[0m\u001b[1;36m8\u001b[0m\u001b[1;33m]\u001b[0m \u001b[1;32min\u001b[0m \u001b[0mdate_B_str\u001b[0m\u001b[1;33m:\u001b[0m\u001b[1;33m\u001b[0m\u001b[1;33m\u001b[0m\u001b[0m\n",
      "\u001b[1;31mTypeError\u001b[0m: can only concatenate str (not \"int\") to str"
     ]
    }
   ],
   "source": [
    "# 22220228 -> 2222/02/28\n",
    "# 날짜가 정확하다면 뽑고 아니면 -1 반환\n",
    "# 8자리임은 고정\n",
    "\n",
    "# 1,3,5,7,8,10,12 -> 31일까지\n",
    "# 2 -> 28일까지\n",
    "# 4, 6, 9, 11 -> 30일까지\n",
    "\n",
    "# 연도는 0101도 출력되는 것으로 보아 신경쓰지 않아도 됨\n",
    "  \n",
    "    \n",
    "# 3가지 종류의 월을 3종류의 리스트에 담아서 if/elif/else문으로 짜볼까 ?\n",
    "# 반복문이 str으로 도니깐 list가 아닌 str으로 만들자\n",
    "# 두자릿수를 인덱싱해서 비교하자\n",
    "\n",
    "month_A_str = '01', '03', '05', '07', '08', '10', '12'\n",
    "month_B_str = '04', '06', '09', '11'\n",
    "month_C_str = '02'\n",
    "\n",
    "#date_A_str = str(range(1,32))\n",
    "#date_B_str = str(range(1,31))\n",
    "#date_C_str = str(range(1,29))  #str(range)를 사용했는데 '27'이 date_C_str안에 있냐 물어봐도 false가 뜬다... \n",
    "                                #노가다 시작 할 뻔 하다가 range를 list로 가져와서 str화 하니깐 된다 굳!\n",
    "\n",
    "date_A_str = str(list(range(1, 32)))\n",
    "date_B_str = str(list(range(1, 31)))\n",
    "date_C_str = str(list(range(1, 29)))\n",
    "\n",
    "\n",
    "def month(origin_number):\n",
    "    \n",
    "    original = '' # original을 만들어서 인덱싱을 하자\n",
    "    \n",
    "    for i in str(origin_number):# 입력받은 8개 숫자를 문자화 한후에 why? 빈 스트링에 넣으려고 + int는 순회가 안됨\n",
    "        original += i #우선 오리지날 스트링에 함수로 받은 int를 str화 해서 넣는다\n",
    "    \n",
    "    if original[4:6] in month_A_str and original[6:8] in date_A_str:  # original str숫자에 인덱싱으로 두 가지 조건에 충족하는지 묻는다\n",
    "        result = original[0:4] + '/' + original[4:6] + '/' + original[6:]\n",
    "        print(f'#{i+1}, original[0:4] + '/' + original[4:6] + '/' + original[6:]')   # original 사이에 '/' 넣어서 출력\n",
    "    \n",
    "    elif original[4:6] in month_B_str and original[6:8] in date_B_str:\n",
    "        result = original[0:4] + '/' + original[4:6] + '/' + original[6:]\n",
    "        print(f'#{i+1}, original[0:4] + '/' + original[4:6] + '/' + original[6:]')\n",
    "    \n",
    "    elif original[4:6] in month_C_str and original[6:8] in date_C_str:\n",
    "        result = original[0:4] + '/' + original[4:6] + '/' + original[6:]\n",
    "        print(f'#{i+1}, original[0:4] + '/' + original[4:6] + '/' + original[6:]')\n",
    "    \n",
    "    else:    # 위 세개의 조건 중 하나에도 들어가지 못한다면 -1 출력\n",
    "        print(f'#{i+1}')\n",
    "\n",
    "\n",
    "print(month(12330124))\n",
    "print(month(15369901))\n",
    "print(month(11240023))"
   ]
  },
  {
   "cell_type": "code",
   "execution_count": 3,
   "id": "double-birth",
   "metadata": {},
   "outputs": [
    {
     "name": "stdout",
     "output_type": "stream",
     "text": [
      "#1 result\n"
     ]
    }
   ],
   "source": [
    "original = '12345678'\n",
    "\n",
    "result = original[0:4] + '/' + original[4:6] + '/' + original[6:]\n",
    "print(f'#1 result')"
   ]
  },
  {
   "cell_type": "code",
   "execution_count": null,
   "id": "fifteen-stage",
   "metadata": {},
   "outputs": [],
   "source": [
    "test_case = int(input())\n",
    "\n",
    "for i in range(1, test_case+1):\n",
    "\n",
    "    number = input()\n",
    "\n",
    "\n",
    "\n",
    "    month_A_str = '01', '03', '05', '07', '08', '10', '12'\n",
    "    month_B_str = '04', '06', '09', '11'\n",
    "    month_C_str = '02'\n",
    "\n",
    "\n",
    "    #date_A_str = str(list(range(1, 32)))\n",
    "    #date_B_str = str(list(range(1, 31)))\n",
    "    #date_C_str = str(list(range(1, 29)))\n",
    "\n",
    "\n",
    "    date_A_str = '01', '02', '03', '04', '05', '06', '07', '08', '09', '10', '11', '12', '13', '14', '15', '16', '17', '18', '19', '20', '21', '22', '23', '24', '25', '26', '27', '28', '29', '30', '31'\n",
    "    date_B_str = '01', '02', '03', '04', '05', '06', '07', '08', '09', '10', '11', '12', '13', '14', '15', '16', '17', '18', '19', '20', '21', '22', '23', '24', '25', '26', '27', '28', '29', '30' \n",
    "    date_C_str = '01', '02', '03', '04', '05', '06', '07', '08', '09', '10', '11', '12', '13', '14', '15', '16', '17', '18', '19', '20', '21', '22', '23', '24', '25', '26', '27', '28'\n",
    "\n",
    "\n",
    "\n",
    "\n",
    "    original = ''\n",
    "\n",
    "    for j in str(number):\n",
    "        original += j\n",
    "        \n",
    "    \n",
    "    if original[4:6] in month_A_str and original[6:8] in date_A_str:\n",
    "\n",
    "        result = original[0:4] + '/' + original[4:6] + '/' + original[6:]\n",
    "        print(f'#{i}', result)\n",
    "\n",
    "    elif original[4:6] in month_B_str and original[6:8] in date_B_str:\n",
    "        result = original[0:4] + '/' + original[4:6] + '/' + original[6:]\n",
    "        print(f'#{i}', result)\n",
    "\n",
    "    elif original[4:6] in month_C_str and original[6:8] in date_C_str:\n",
    "        result = original[0:4] + '/' + original[4:6] + '/' + original[6:]\n",
    "        print(f'#{i}', result)\n",
    "\n",
    "    else:\n",
    "        print(f'#{i} -1')\n"
   ]
  }
 ],
 "metadata": {
  "kernelspec": {
   "display_name": "Python 3",
   "language": "python",
   "name": "python3"
  },
  "language_info": {
   "codemirror_mode": {
    "name": "ipython",
    "version": 3
   },
   "file_extension": ".py",
   "mimetype": "text/x-python",
   "name": "python",
   "nbconvert_exporter": "python",
   "pygments_lexer": "ipython3",
   "version": "3.8.7"
  },
  "toc": {
   "base_numbering": 1,
   "nav_menu": {},
   "number_sections": true,
   "sideBar": true,
   "skip_h1_title": false,
   "title_cell": "Table of Contents",
   "title_sidebar": "Contents",
   "toc_cell": false,
   "toc_position": {},
   "toc_section_display": true,
   "toc_window_display": false
  }
 },
 "nbformat": 4,
 "nbformat_minor": 5
}
