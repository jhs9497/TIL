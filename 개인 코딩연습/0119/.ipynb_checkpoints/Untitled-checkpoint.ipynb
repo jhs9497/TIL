{
 "cells": [
  {
   "cell_type": "code",
   "execution_count": 18,
   "id": "detailed-warrant",
   "metadata": {},
   "outputs": [
    {
     "name": "stdout",
     "output_type": "stream",
     "text": [
      "dict_keys(['a', 'b'])\n"
     ]
    }
   ],
   "source": [
    "a = {'a': 2, 'b':3}\n",
    "\n",
    "print(a.keys())"
   ]
  },
  {
   "cell_type": "code",
   "execution_count": 20,
   "id": "conventional-cooling",
   "metadata": {
    "scrolled": true
   },
   "outputs": [
    {
     "name": "stdout",
     "output_type": "stream",
     "text": [
      "{2, 3, 4} <class 'set'>\n"
     ]
    }
   ],
   "source": [
    "s1 = set([2,3, 4])\n",
    "print(s1, type(s1))"
   ]
  },
  {
   "cell_type": "code",
   "execution_count": 36,
   "id": "mineral-debut",
   "metadata": {},
   "outputs": [
    {
     "name": "stdout",
     "output_type": "stream",
     "text": [
      "sd\n"
     ]
    }
   ],
   "source": [
    "a = \"sd\"\n",
    "\n",
    "if a:\n",
    "    print(a)"
   ]
  },
  {
   "cell_type": "code",
   "execution_count": 3,
   "id": "massive-boundary",
   "metadata": {
    "scrolled": true
   },
   "outputs": [
    {
     "name": "stdout",
     "output_type": "stream",
     "text": [
      "택시\n"
     ]
    }
   ],
   "source": [
    "money = 2000\n",
    "card = 1\n",
    "\n",
    "if not money > 3000:\n",
    "    print('택시')\n",
    "    \n",
    "else:\n",
    "    print('걸어라')"
   ]
  },
  {
   "cell_type": "code",
   "execution_count": 5,
   "id": "joined-navigator",
   "metadata": {
    "scrolled": true
   },
   "outputs": [
    {
     "name": "stdout",
     "output_type": "stream",
     "text": [
      "나무를 1번 찍었습니다.\n",
      "나무를 2번 찍었습니다.\n",
      "나무를 3번 찍었습니다.\n",
      "나무를 4번 찍었습니다.\n",
      "나무를 5번 찍었습니다.\n",
      "나무를 6번 찍었습니다.\n",
      "나무를 7번 찍었습니다.\n",
      "나무를 8번 찍었습니다.\n",
      "나무를 9번 찍었습니다.\n",
      "나무를 10번 찍었습니다.\n",
      "나무를 11번 찍었습니다.\n",
      "나무를 12번 찍었습니다.\n",
      "나무를 13번 찍었습니다.\n",
      "나무를 14번 찍었습니다.\n",
      "나무를 15번 찍었습니다.\n",
      "나무를 16번 찍었습니다.\n",
      "나무를 17번 찍었습니다.\n",
      "나무를 18번 찍었습니다.\n",
      "나무를 19번 찍었습니다.\n",
      "나무를 20번 찍었습니다.\n",
      "나무 다운!\n"
     ]
    }
   ],
   "source": [
    "count = 0\n",
    "\n",
    "while count < 20 :\n",
    "    count += 1\n",
    "    print(\"나무를 %s번 찍었습니다.\" % count)\n",
    "    \n",
    "    if count == 20:\n",
    "        print(\"나무 다운!\")"
   ]
  },
  {
   "cell_type": "code",
   "execution_count": 14,
   "id": "aggressive-oracle",
   "metadata": {},
   "outputs": [
    {
     "name": "stdout",
     "output_type": "stream",
     "text": [
      "1\n",
      "3\n",
      "5\n",
      "7\n",
      "9\n"
     ]
    }
   ],
   "source": [
    "a = 0\n",
    "\n",
    "while a < 10:\n",
    "    a += 1\n",
    "    if a % 2 == 0:\n",
    "        continue\n",
    "        \n",
    "    print(a)\n",
    "   "
   ]
  },
  {
   "cell_type": "code",
   "execution_count": 18,
   "id": "ethical-shoot",
   "metadata": {},
   "outputs": [
    {
     "name": "stdout",
     "output_type": "stream",
     "text": [
      "5\n"
     ]
    }
   ],
   "source": [
    "a = {'A':1, 'B':2}\n",
    "\n",
    "print(A)"
   ]
  }
 ],
 "metadata": {
  "kernelspec": {
   "display_name": "Python 3",
   "language": "python",
   "name": "python3"
  },
  "language_info": {
   "codemirror_mode": {
    "name": "ipython",
    "version": 3
   },
   "file_extension": ".py",
   "mimetype": "text/x-python",
   "name": "python",
   "nbconvert_exporter": "python",
   "pygments_lexer": "ipython3",
   "version": "3.8.7"
  }
 },
 "nbformat": 4,
 "nbformat_minor": 5
}
