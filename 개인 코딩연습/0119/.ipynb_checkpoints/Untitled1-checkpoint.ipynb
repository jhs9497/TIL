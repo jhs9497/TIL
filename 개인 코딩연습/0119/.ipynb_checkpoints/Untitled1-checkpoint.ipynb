{
 "cells": [
  {
   "cell_type": "code",
   "execution_count": null,
   "id": "protecting-battlefield",
   "metadata": {},
   "outputs": [],
   "source": [
    "print import True id range 등등"
   ]
  },
  {
   "cell_type": "code",
   "execution_count": 10,
   "id": "virtual-anatomy",
   "metadata": {},
   "outputs": [
    {
     "name": "stdout",
     "output_type": "stream",
     "text": [
      "False\n",
      "True\n"
     ]
    }
   ],
   "source": [
    "num1 = 0.1 * 3\n",
    "num2 = 0.3\n",
    "\n",
    "# 잘못된 방법\n",
    "print(num1 == num2)\n",
    "\n",
    "# 옳바른 방법\n",
    "import math\n",
    "\n",
    "print(math.isclose(num1, num2))\n",
    "\n",
    "# 외장함수 math와 math.isclose란 구문을 떠올리자"
   ]
  },
  {
   "cell_type": "code",
   "execution_count": null,
   "id": "timely-sweden",
   "metadata": {},
   "outputs": [],
   "source": [
    "줄바꿈 = \\n\n",
    "탭 = \\t\n",
    "백슬래시 = \\\\"
   ]
  },
  {
   "cell_type": "code",
   "execution_count": 31,
   "id": "damaged-episode",
   "metadata": {
    "scrolled": true
   },
   "outputs": [
    {
     "name": "stdout",
     "output_type": "stream",
     "text": [
      "안녕, 철수야\n",
      "안녕, 철수야\n"
     ]
    }
   ],
   "source": [
    "# 첫번째 방법 .format\n",
    "\n",
    "name = '철수'\n",
    "\n",
    "print(\"안녕, {}야\".format(name))\n",
    "\n",
    "# 두번째 방법 f스트링\n",
    "\n",
    "print(f'안녕, {name}야')\n",
    "\n",
    "# f스트링이 잘 기억이 안났었다."
   ]
  },
  {
   "cell_type": "code",
   "execution_count": 1,
   "id": "superb-stylus",
   "metadata": {},
   "outputs": [
    {
     "ename": "ValueError",
     "evalue": "invalid literal for int() with base 10: '3.5'",
     "output_type": "error",
     "traceback": [
      "\u001b[1;31m---------------------------------------------------------------------------\u001b[0m",
      "\u001b[1;31mValueError\u001b[0m                                Traceback (most recent call last)",
      "\u001b[1;32m<ipython-input-1-74325742b95a>\u001b[0m in \u001b[0;36m<module>\u001b[1;34m\u001b[0m\n\u001b[0;32m      5\u001b[0m \u001b[0mint\u001b[0m\u001b[1;33m(\u001b[0m\u001b[1;36m5\u001b[0m\u001b[1;33m)\u001b[0m\u001b[1;33m\u001b[0m\u001b[1;33m\u001b[0m\u001b[0m\n\u001b[0;32m      6\u001b[0m \u001b[0mbool\u001b[0m\u001b[1;33m(\u001b[0m\u001b[1;34m'50'\u001b[0m\u001b[1;33m)\u001b[0m\u001b[1;33m\u001b[0m\u001b[1;33m\u001b[0m\u001b[0m\n\u001b[1;32m----> 7\u001b[1;33m \u001b[0mint\u001b[0m\u001b[1;33m(\u001b[0m\u001b[1;34m'3.5'\u001b[0m\u001b[1;33m)\u001b[0m\u001b[1;33m\u001b[0m\u001b[1;33m\u001b[0m\u001b[0m\n\u001b[0m",
      "\u001b[1;31mValueError\u001b[0m: invalid literal for int() with base 10: '3.5'"
     ]
    }
   ],
   "source": [
    "# 5번이 답이다 int는 정수만을 취급한다.\n",
    "\n",
    "str(1)\n",
    "int('30')\n",
    "int(5)\n",
    "bool('50')\n",
    "int('3.5')"
   ]
  },
  {
   "cell_type": "code",
   "execution_count": 2,
   "id": "underlying-myrtle",
   "metadata": {},
   "outputs": [
    {
     "name": "stdout",
     "output_type": "stream",
     "text": [
      "*****\n",
      "*****\n",
      "*****\n",
      "*****\n",
      "*****\n",
      "*****\n",
      "*****\n",
      "*****\n",
      "*****\n",
      "\n",
      "*****\\*****\\*****\\*****\\*****\\*****\\*****\\*****\\*****\\\n",
      "*****\t*****\t*****\t*****\t*****\t*****\t*****\t*****\t*****\t\n"
     ]
    }
   ],
   "source": [
    "n = 5\n",
    "m = 9\n",
    "\n",
    "a = n*'*' +\"\\n\"\n",
    "\n",
    "print(a*m)\n",
    "\n",
    "b = n*'*'+\"\\\\\"\n",
    "\n",
    "print(b*m)\n",
    "\n",
    "c = n*'*' +\"\\t\"\n",
    "\n",
    "print(c*m)"
   ]
  },
  {
   "cell_type": "code",
   "execution_count": null,
   "id": "classical-distributor",
   "metadata": {},
   "outputs": [],
   "source": [
    "print('\\'\"파일은 c:\\\\Windows\\\\Users\\\\내문서\\\\Python에 저장이 되었습니다.\" '나는 생각했다.''\\') \n",
    "      \n",
    "      # 헷갈려.."
   ]
  },
  {
   "cell_type": "code",
   "execution_count": 1,
   "id": "herbal-banks",
   "metadata": {
    "scrolled": true
   },
   "outputs": [
    {
     "name": "stdout",
     "output_type": "stream",
     "text": [
      "a=4\n",
      "b=4\n",
      "c=5\n",
      "-32.0\n",
      "NO 근\n"
     ]
    }
   ],
   "source": [
    "a = int(input(\"a=\"))\n",
    "b = int(input(\"b=\"))\n",
    "c = int(input(\"c=\"))\n",
    "\n",
    "D = (b**2 - 4*a*c)*0.5\n",
    "\n",
    "print(D)\n",
    "\n",
    "if D >= 0:\n",
    "    X1 == (-b + (b**2 - 4*a*c)*0.5) / (2*a)\n",
    "    X2 == (-b - (b**2 - 4*a*c)*0.5) / (2*a)\n",
    "    print(X1, X2)\n",
    "    \n",
    "elif D == 0:\n",
    "    X1 =- (-b) / (2*a)\n",
    "    print(X1)\n",
    "    \n",
    "else:\n",
    "    print('NO 근')"
   ]
  },
  {
   "cell_type": "code",
   "execution_count": 12,
   "id": "reasonable-abuse",
   "metadata": {
    "scrolled": false
   },
   "outputs": [
    {
     "name": "stdout",
     "output_type": "stream",
     "text": [
      "10\n",
      "1\n",
      "2\n",
      "3\n",
      "4\n",
      "5\n",
      "6\n",
      "7\n",
      "8\n",
      "9\n",
      "10\n"
     ]
    }
   ],
   "source": [
    "number = int(input())\n",
    "\n",
    "for n in range(1, number+1):\n",
    "    print(n)"
   ]
  },
  {
   "cell_type": "markdown",
   "id": "creative-lithuania",
   "metadata": {},
   "source": [
    "## 가로로 한칸씩 띄워서 출력하기"
   ]
  },
  {
   "cell_type": "code",
   "execution_count": 21,
   "id": "median-inclusion",
   "metadata": {
    "scrolled": true
   },
   "outputs": [
    {
     "name": "stdout",
     "output_type": "stream",
     "text": [
      "10\n",
      "1 2 3 4 5 6 7 8 9 10 "
     ]
    }
   ],
   "source": [
    "number = int(input())\n",
    "\n",
    "for n in range(1, number+1):\n",
    "    print(n, end=\" \")"
   ]
  },
  {
   "cell_type": "markdown",
   "id": "tutorial-origin",
   "metadata": {},
   "source": [
    "## 거꾸로 세로로 출력하기"
   ]
  },
  {
   "cell_type": "code",
   "execution_count": 23,
   "id": "copyrighted-complement",
   "metadata": {},
   "outputs": [
    {
     "name": "stdout",
     "output_type": "stream",
     "text": [
      "5\n",
      "5\n",
      "4\n",
      "3\n",
      "2\n",
      "1\n"
     ]
    }
   ],
   "source": [
    "number = int(input())\n",
    "\n",
    "for n in range(number, 0, -1):\n",
    "    print(n)"
   ]
  },
  {
   "cell_type": "markdown",
   "id": "collected-ticket",
   "metadata": {},
   "source": [
    "## 자연수 number를 입력 받아, number부터 0까지의 수를 가로로 한칸씩 띄어 출력하시오."
   ]
  },
  {
   "cell_type": "code",
   "execution_count": 25,
   "id": "liable-source",
   "metadata": {},
   "outputs": [
    {
     "name": "stdout",
     "output_type": "stream",
     "text": [
      "5\n",
      "5 4 3 2 1 0 "
     ]
    }
   ],
   "source": [
    "number = int(input())\n",
    "\n",
    "for n in range(number, -1, -1):\n",
    "    print(n, end=\" \")"
   ]
  },
  {
   "cell_type": "code",
   "execution_count": null,
   "id": "polish-dubai",
   "metadata": {},
   "outputs": [],
   "source": []
  },
  {
   "cell_type": "code",
   "execution_count": 30,
   "id": "hidden-harvard",
   "metadata": {},
   "outputs": [
    {
     "name": "stdout",
     "output_type": "stream",
     "text": [
      "10\n",
      "55\n"
     ]
    }
   ],
   "source": [
    "number = int(input())\n",
    "\n",
    "total = 0\n",
    "count = 0\n",
    "\n",
    "for n in range(1, number+1):\n",
    "    total = total + n\n",
    "    count = count +1\n",
    "    if count == number:\n",
    "        print(total)"
   ]
  }
 ],
 "metadata": {
  "kernelspec": {
   "display_name": "Python 3",
   "language": "python",
   "name": "python3"
  },
  "language_info": {
   "codemirror_mode": {
    "name": "ipython",
    "version": 3
   },
   "file_extension": ".py",
   "mimetype": "text/x-python",
   "name": "python",
   "nbconvert_exporter": "python",
   "pygments_lexer": "ipython3",
   "version": "3.8.7"
  }
 },
 "nbformat": 4,
 "nbformat_minor": 5
}
