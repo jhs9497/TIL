{
 "cells": [
  {
   "cell_type": "markdown",
   "id": "timely-parade",
   "metadata": {},
   "source": [
    "## 1. mutable vs immutable"
   ]
  },
  {
   "cell_type": "code",
   "execution_count": null,
   "id": "clear-enhancement",
   "metadata": {},
   "outputs": [],
   "source": [
    "mutable = list, dic, set\n",
    "\n",
    "immutable = tuple, range, string"
   ]
  },
  {
   "cell_type": "markdown",
   "id": "automated-juvenile",
   "metadata": {},
   "source": [
    "## 2. 홀수만 담기"
   ]
  },
  {
   "cell_type": "code",
   "execution_count": 1,
   "id": "alone-description",
   "metadata": {
    "scrolled": true
   },
   "outputs": [
    {
     "name": "stdout",
     "output_type": "stream",
     "text": [
      "1\n",
      "3\n",
      "5\n",
      "7\n",
      "9\n",
      "11\n",
      "13\n",
      "15\n",
      "17\n",
      "19\n",
      "21\n",
      "23\n",
      "25\n",
      "27\n",
      "29\n",
      "31\n",
      "33\n",
      "35\n",
      "37\n",
      "39\n",
      "41\n",
      "43\n",
      "45\n",
      "47\n",
      "49\n"
     ]
    }
   ],
   "source": [
    "for num in range(1, 51, 2):\n",
    "    print(num)"
   ]
  },
  {
   "cell_type": "markdown",
   "id": "familiar-binding",
   "metadata": {},
   "source": [
    "## 반 학생들의 정보를 이용하여 key는 이름, value는 나이인 dictionary를 만드시오."
   ]
  },
  {
   "cell_type": "code",
   "execution_count": 4,
   "id": "conditional-jonathan",
   "metadata": {},
   "outputs": [
    {
     "name": "stdout",
     "output_type": "stream",
     "text": [
      "{'김도연': 27, '류지우': 26, '이여진': 26, '차미주': 24, '이동윤': 25}\n"
     ]
    }
   ],
   "source": [
    "my_dict = {\n",
    "\"김도연\" : 27,\n",
    "\"류지우\" : 26, \n",
    "\"이여진\" : 26, \n",
    "\"차미주\" : 24, \n",
    "\"이동윤\" : 25,\n",
    "}\n",
    "\n",
    "print(my_dict)\n"
   ]
  },
  {
   "cell_type": "markdown",
   "id": "generous-variation",
   "metadata": {},
   "source": [
    "## 두 개의 정수 n과 m이 주어졌을 때, 가로의 길이가 n, 세로의 길이가 m인 직사각형 형태를 별(*) 문자를 이용하여 출력하시오. 단, 반복문을 사용하여 작성하시오"
   ]
  },
  {
   "cell_type": "code",
   "execution_count": 14,
   "id": "sustainable-index",
   "metadata": {},
   "outputs": [
    {
     "name": "stdout",
     "output_type": "stream",
     "text": [
      "*****\n",
      "*****\n",
      "*****\n",
      "*****\n",
      "*****\n",
      "*****\n",
      "*****\n",
      "*****\n",
      "*****\n"
     ]
    }
   ],
   "source": [
    "n = 5\n",
    "m = 9\n",
    "\n",
    "count = 0\n",
    "\n",
    "while count < 9:\n",
    "    count = count +1\n",
    "    print('*'*n)\n",
    "        "
   ]
  },
  {
   "cell_type": "markdown",
   "id": "faced-keeping",
   "metadata": {},
   "source": [
    "## 주어진 코드의 조건문을 조건 표현식으로 바꾸어 작성하시오."
   ]
  },
  {
   "cell_type": "code",
   "execution_count": 18,
   "id": "female-healing",
   "metadata": {},
   "outputs": [
    {
     "name": "stdout",
     "output_type": "stream",
     "text": [
      "입실 가능\n"
     ]
    }
   ],
   "source": [
    "temp = 36.5\n",
    "            \n",
    "print('입실 불가') if temp >= 37.5 else print('입실 가능') "
   ]
  },
  {
   "cell_type": "markdown",
   "id": "legendary-playing",
   "metadata": {},
   "source": [
    "## 6. 평균 구하기\n",
    "주어진 list에 담긴 숫자들의 평균값을 출력하시오"
   ]
  },
  {
   "cell_type": "code",
   "execution_count": 22,
   "id": "imported-whole",
   "metadata": {},
   "outputs": [
    {
     "name": "stdout",
     "output_type": "stream",
     "text": [
      "87.75\n"
     ]
    }
   ],
   "source": [
    "scores = [80, 89, 99, 83]\n",
    "\n",
    "total = 0\n",
    "count = 0\n",
    "\n",
    "for i in scores:\n",
    "    total += i\n",
    "    count += 1\n",
    "    if count == len(scores):\n",
    "        print(total / count)\n",
    "    "
   ]
  },
  {
   "cell_type": "markdown",
   "id": "secondary-consensus",
   "metadata": {},
   "source": [
    "## 7. 간단한 N의 약수 \n",
    "입력으로 1개의 정수 N이 주어진다. 정수 N의 약수를 오름차순으로 출력하는 프로그램"
   ]
  },
  {
   "cell_type": "code",
   "execution_count": 8,
   "id": "technological-reflection",
   "metadata": {
    "scrolled": true
   },
   "outputs": [
    {
     "name": "stdout",
     "output_type": "stream",
     "text": [
      "10\n",
      "1\n",
      "2\n",
      "5\n",
      "10\n"
     ]
    }
   ],
   "source": [
    "N = int(input())\n",
    "\n",
    "\n",
    "\n",
    "\n",
    "for i in range(1, N+1):\n",
    "    if N % i == 0:\n",
    "        print(i)\n",
    "    \n",
    "    "
   ]
  },
  {
   "cell_type": "markdown",
   "id": "weird-china",
   "metadata": {},
   "source": [
    "## 8. 중간값 찾기 (SWEA #2063 변형)\n",
    "중간값은 통계 집단의 수치를 크기 순으로 배열 했을 때 전체의 중앙에 위치하는 수치를\n",
    "뜻한다. 리스트 numbers에 입력된 숫자에서 중간값을 출력하라."
   ]
  },
  {
   "cell_type": "code",
   "execution_count": 45,
   "id": "generic-angle",
   "metadata": {
    "scrolled": false
   },
   "outputs": [
    {
     "name": "stdout",
     "output_type": "stream",
     "text": [
      "64\n"
     ]
    }
   ],
   "source": [
    "numbers = [85, 72, 38, 80, 69, 65, 68, 96, 22,49,67,51,61,63,87,66,24,80,83,71,60,64,52,90,60,49,31,23,99,94,11,25,24]\n",
    "\n",
    "my_list = sorted(numbers)\n",
    "\n",
    "count = 0\n",
    "\n",
    "for i in my_list:\n",
    "    count += 1\n",
    "    if count >= len(my_list) / 2 :\n",
    "        print(i)\n",
    "        break"
   ]
  },
  {
   "cell_type": "code",
   "execution_count": 46,
   "id": "athletic-clause",
   "metadata": {},
   "outputs": [
    {
     "name": "stdout",
     "output_type": "stream",
     "text": [
      "64\n"
     ]
    }
   ],
   "source": [
    "numbers = [\n",
    "    85, 72, 38, 80, 69, 65, 68, 96, 22, 49, 67,\n",
    "    51, 61, 63, 87, 66, 24, 80, 83, 71, 60, 64, \n",
    "    52, 90, 60, 49, 31, 23, 99, 94, 11, 25, 24\n",
    "]\n",
    "\n",
    "numbers = sorted(numbers)\n",
    "\n",
    "a = len(numbers)\n",
    "print(numbers[a // 2])"
   ]
  },
  {
   "cell_type": "markdown",
   "id": "compound-optimization",
   "metadata": {},
   "source": [
    "## 3. 계단 만들기\n",
    "자연수 number를 입력 받아, 아래와 같이 높이가 number인 내려가는 계단을 출력하시오"
   ]
  },
  {
   "cell_type": "code",
   "execution_count": 40,
   "id": "accurate-acting",
   "metadata": {},
   "outputs": [
    {
     "name": "stdout",
     "output_type": "stream",
     "text": [
      "4\n",
      "1 2 3 4 "
     ]
    }
   ],
   "source": [
    "number = int(input())\n",
    "\n",
    "st = '1'\n",
    "\n",
    "for num in range(1, number+1):\n",
    "    print(num, end=\" \")\n"
   ]
  },
  {
   "cell_type": "code",
   "execution_count": 42,
   "id": "expensive-values",
   "metadata": {},
   "outputs": [
    {
     "name": "stdout",
     "output_type": "stream",
     "text": [
      "5\n",
      "1 \n",
      "1 2 \n",
      "1 2 3 \n",
      "1 2 3 4 \n",
      "1 2 3 4 5 \n"
     ]
    }
   ],
   "source": [
    "number = int(input())\n",
    "\n",
    "st = ''\n",
    "for i in  range(1, number+1):\n",
    "    st += str(i) + ' '\n",
    "    print(st)"
   ]
  }
 ],
 "metadata": {
  "kernelspec": {
   "display_name": "Python 3",
   "language": "python",
   "name": "python3"
  },
  "language_info": {
   "codemirror_mode": {
    "name": "ipython",
    "version": 3
   },
   "file_extension": ".py",
   "mimetype": "text/x-python",
   "name": "python",
   "nbconvert_exporter": "python",
   "pygments_lexer": "ipython3",
   "version": "3.8.7"
  }
 },
 "nbformat": 4,
 "nbformat_minor": 5
}
