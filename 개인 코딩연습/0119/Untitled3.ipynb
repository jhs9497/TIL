{
 "cells": [
  {
   "cell_type": "markdown",
   "id": "korean-deficit",
   "metadata": {},
   "source": [
    "## 2. 정중앙 문자\n",
    "문자열을 전달 받아 해당 문자열의 정중앙 문자를 반환하는 get_middle_char 함수를\n",
    "작성하시오. 단, 문자열의 길이가 짝수일 경우에는 정중앙 문자 2개를 반환한다."
   ]
  },
  {
   "cell_type": "code",
   "execution_count": 1,
   "id": "african-chapel",
   "metadata": {},
   "outputs": [
    {
     "data": {
      "text/plain": [
       "'s'"
      ]
     },
     "execution_count": 1,
     "metadata": {},
     "output_type": "execute_result"
    }
   ],
   "source": [
    "def get_middle_char(args):\n",
    "    count = 0\n",
    "    for i in args:\n",
    "        count += 1\n",
    "        if count >= len(args) / 2:\n",
    "            return i\n",
    "        \n",
    "    \n",
    "get_middle_char('sasdfy')"
   ]
  },
  {
   "cell_type": "code",
   "execution_count": 2,
   "id": "official-penguin",
   "metadata": {
    "scrolled": true
   },
   "outputs": [
    {
     "data": {
      "text/plain": [
       "5"
      ]
     },
     "execution_count": 2,
     "metadata": {},
     "output_type": "execute_result"
    }
   ],
   "source": [
    "arg = 'ssafy'\n",
    "\n",
    "len(arg)"
   ]
  },
  {
   "cell_type": "markdown",
   "id": "cardiac-racing",
   "metadata": {},
   "source": [
    "## 가변 인자 리스트\n",
    "가변 인자 리스트를 사용하여, 갯수가 정해지지 않은 여러 정수들을 전달 받아 해당 정\n",
    "수들의 평균 값을 반환하는 my_avg 함수를 작성하시오"
   ]
  },
  {
   "cell_type": "code",
   "execution_count": 11,
   "id": "corrected-chance",
   "metadata": {},
   "outputs": [
    {
     "data": {
      "text/plain": [
       "54.333333333333336"
      ]
     },
     "execution_count": 11,
     "metadata": {},
     "output_type": "execute_result"
    }
   ],
   "source": [
    "def my_avg(*args):\n",
    "    total = 0\n",
    "    count = 0\n",
    "    for i in args:\n",
    "        total += i\n",
    "        count += 1\n",
    "        if count == len(args):\n",
    "            result = total / count\n",
    "            return result\n",
    "        \n",
    "my_avg(44, 54, 65)"
   ]
  },
  {
   "cell_type": "code",
   "execution_count": 13,
   "id": "romance-freight",
   "metadata": {},
   "outputs": [
    {
     "data": {
      "text/plain": [
       "54.333333333333336"
      ]
     },
     "execution_count": 13,
     "metadata": {},
     "output_type": "execute_result"
    }
   ],
   "source": [
    "def my_avg(*x):\n",
    "    sum_ = 0\n",
    "    for i in x:\n",
    "\n",
    "        sum_ += i\n",
    "    avg = sum_ / len(x)\n",
    "\n",
    "    return avg\n",
    "        \n",
    "my_avg(44, 54, 65)"
   ]
  },
  {
   "cell_type": "code",
   "execution_count": 30,
   "id": "annual-yesterday",
   "metadata": {
    "scrolled": true
   },
   "outputs": [
    {
     "data": {
      "text/plain": [
       "15"
      ]
     },
     "execution_count": 30,
     "metadata": {},
     "output_type": "execute_result"
    }
   ],
   "source": [
    "def list_sum(arg):\n",
    "    total = 0\n",
    "    for i in arg:\n",
    "        total += i\n",
    "        result = total\n",
    "    return result\n",
    "        \n",
    "    \n",
    "\n",
    "    \n",
    "    \n",
    "list_sum([1, 2, 3, 4, 5])"
   ]
  },
  {
   "cell_type": "code",
   "execution_count": 32,
   "id": "corresponding-rendering",
   "metadata": {},
   "outputs": [
    {
     "data": {
      "text/plain": [
       "16"
      ]
     },
     "execution_count": 32,
     "metadata": {},
     "output_type": "execute_result"
    }
   ],
   "source": [
    "def dict_list_sum(x):\n",
    "    total = 0\n",
    "    for i in x:\n",
    "        total += i.get('age')\n",
    "        result = total\n",
    "    return result\n",
    "\n",
    "\n",
    "\n",
    "\n",
    "dict_list_sum([{'name': 'kim', 'age': 12},\n",
    "{'name': 'lee', 'age': 4}])\n",
    "    "
   ]
  },
  {
   "cell_type": "code",
   "execution_count": 45,
   "id": "alpine-cooperative",
   "metadata": {},
   "outputs": [
    {
     "name": "stdout",
     "output_type": "stream",
     "text": [
      "1\n",
      "2\n",
      "3\n",
      "4\n",
      "5\n",
      "6\n",
      "7\n",
      "8\n",
      "9\n",
      "10\n"
     ]
    }
   ],
   "source": [
    "def all_list_sum(x):\n",
    "    total = 0\n",
    "    for i in x:\n",
    "        for A in i:\n",
    "            total += A\n",
    "            result = total\n",
    "    return result\n",
    "\n",
    "all_list_sum([[1], [2, 3], [4, 5, 6], [7, 8, 9, 10]])"
   ]
  },
  {
   "cell_type": "code",
   "execution_count": null,
   "id": "according-cinema",
   "metadata": {},
   "outputs": [],
   "source": []
  }
 ],
 "metadata": {
  "kernelspec": {
   "display_name": "Python 3",
   "language": "python",
   "name": "python3"
  },
  "language_info": {
   "codemirror_mode": {
    "name": "ipython",
    "version": 3
   },
   "file_extension": ".py",
   "mimetype": "text/x-python",
   "name": "python",
   "nbconvert_exporter": "python",
   "pygments_lexer": "ipython3",
   "version": "3.8.7"
  }
 },
 "nbformat": 4,
 "nbformat_minor": 5
}
