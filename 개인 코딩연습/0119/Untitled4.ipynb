{
 "cells": [
  {
   "cell_type": "code",
   "execution_count": 30,
   "id": "south-audio",
   "metadata": {},
   "outputs": [
    {
     "name": "stdout",
     "output_type": "stream",
     "text": [
      "54.333333333333336\n"
     ]
    }
   ],
   "source": [
    "def my_avg(*args):\n",
    "    total = 0\n",
    "    count = 0\n",
    "    for i in args:\n",
    "        total += i\n",
    "        count += 1\n",
    "        if count == len(args):\n",
    "            result = total / count\n",
    "            print(result)\n",
    "        \n",
    "my_avg(44, 54, 65)"
   ]
  },
  {
   "cell_type": "code",
   "execution_count": null,
   "id": "integrated-equipment",
   "metadata": {},
   "outputs": [],
   "source": []
  }
 ],
 "metadata": {
  "kernelspec": {
   "display_name": "Python 3",
   "language": "python",
   "name": "python3"
  },
  "language_info": {
   "codemirror_mode": {
    "name": "ipython",
    "version": 3
   },
   "file_extension": ".py",
   "mimetype": "text/x-python",
   "name": "python",
   "nbconvert_exporter": "python",
   "pygments_lexer": "ipython3",
   "version": "3.8.7"
  }
 },
 "nbformat": 4,
 "nbformat_minor": 5
}
