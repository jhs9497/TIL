{
 "cells": [
  {
   "cell_type": "markdown",
   "metadata": {},
   "source": [
    "# Practice 1\n",
    "\n",
    "> 복잡한 자료구조의 (2차원 리스트) 반복문"
   ]
  },
  {
   "cell_type": "markdown",
   "metadata": {},
   "source": [
    "## 복잡한 리스트의 합\n",
    "\n",
    "> 2차원 리스트를 반복하는 방법을 알아봅시다. \n",
    "\n",
    "\n",
    "* 주어진 아래의 리스트를 반복하여 숫자의 합을 반환하시오.\n",
    "\n",
    "---\n",
    "**예시 입력**\n",
    "\n",
    "```python\n",
    "numbers = [\n",
    "    [1, 4],\n",
    "    [10, 5],\n",
    "    [20, 30]    \n",
    "]\n",
    "\n",
    "```\n",
    "\n",
    "**예시 출력**\n",
    "```python\n",
    "sum_list([[1, 4], [10, 5], [20, 30]]) # 70\n",
    "```"
   ]
  },
  {
   "cell_type": "markdown",
   "metadata": {},
   "source": [
    "### for 문을 활용하여 풀이하기\n",
    "\n",
    "```python\n",
    "for element in list:\n",
    "```"
   ]
  },
  {
   "cell_type": "code",
   "execution_count": null,
   "metadata": {},
   "outputs": [],
   "source": [
    "# 아래에 코드를 작성하세요.\n",
    "\n",
    "A_list = []\n",
    "\n",
    "def sum_list(numbers):\n",
    "    for x in numbers:\n",
    "        A_list.append(x)\n",
    "        B_list = []\n",
    "    for i in A_list:\n",
    "        B_list += i\n",
    "        total = 0\n",
    "    for y in B_list:\n",
    "        total += y\n",
    "    return total\n",
    "    \n",
    "        \n",
    "    "
   ]
  },
  {
   "cell_type": "code",
   "execution_count": null,
   "metadata": {},
   "outputs": [],
   "source": [
    "print(sum_list([[1, 4], [10, 5], [20, 30]]))"
   ]
  },
  {
   "cell_type": "code",
   "execution_count": 5,
   "metadata": {},
   "outputs": [],
   "source": [
    "def sum_list(numbers):\n",
    "    total = 0\n",
    "    \n",
    "    for number in numbers:\n",
    "        print(number) # [1, 4], [10, 5], [20, 30]\n",
    "        for number_in_list in number:\n",
    "            total += number_in_list\n",
    "            \n",
    "    return total"
   ]
  },
  {
   "cell_type": "code",
   "execution_count": 6,
   "metadata": {},
   "outputs": [
    {
     "name": "stdout",
     "output_type": "stream",
     "text": [
      "[1, 4]\n",
      "[10, 5]\n",
      "[20, 30]\n",
      "70\n"
     ]
    }
   ],
   "source": [
    "print(sum_list([[1, 4], [10, 5], [20, 30]]))"
   ]
  },
  {
   "cell_type": "markdown",
   "metadata": {},
   "source": [
    "### Index로 접근하여 풀이하기\n",
    "\n",
    "```python\n",
    "for element in range(len(list)):\n",
    "```"
   ]
  },
  {
   "cell_type": "code",
   "execution_count": 7,
   "metadata": {},
   "outputs": [],
   "source": [
    "# 아래에 코드를 작성하세요.\n",
    "def sum_list_index(numbers):\n",
    "    total = 0\n",
    "    for index in range(len(numbers)):\n",
    "        X = numbers[index]\n",
    "        for i in X:\n",
    "            total += i\n",
    "    return total\n",
    "            \n",
    "        "
   ]
  },
  {
   "cell_type": "code",
   "execution_count": 8,
   "metadata": {
    "scrolled": true
   },
   "outputs": [
    {
     "name": "stdout",
     "output_type": "stream",
     "text": [
      "70\n"
     ]
    }
   ],
   "source": [
    "print(sum_list_index([[1, 4], [10, 5], [20, 30]]))"
   ]
  },
  {
   "cell_type": "code",
   "execution_count": null,
   "metadata": {},
   "outputs": [],
   "source": [
    "A = [[1, 4], [10, 5], [20, 30]]\n",
    "range(len(A))"
   ]
  },
  {
   "cell_type": "markdown",
   "metadata": {},
   "source": [
    "### while 문을 활용하여 풀이하기\n",
    "\n",
    "```python\n",
    "while ____:\n",
    "```"
   ]
  },
  {
   "cell_type": "code",
   "execution_count": 15,
   "metadata": {},
   "outputs": [],
   "source": [
    "## 아래에 코드를 작성하세요.\n",
    "def sum_list_while(numbers):\n",
    "    total = 0\n",
    "    i = 0\n",
    "    while i < len(numbers):\n",
    "        # 하나씩 안쪽에 있는 리스트를 꺼내보자\n",
    "        # [1, 4], [10, 5], [20, 30]\n",
    "        number_list = numbers[i] # i : 0, 1, 2\n",
    "        \n",
    "        j = 0\n",
    "        while j < len(number_list) :\n",
    "            number = number_list[j]\n",
    "            total += number\n",
    "            j += 1\n",
    "        \n",
    "        i += 1\n",
    "    return total\n",
    "        "
   ]
  },
  {
   "cell_type": "code",
   "execution_count": 16,
   "metadata": {},
   "outputs": [
    {
     "name": "stdout",
     "output_type": "stream",
     "text": [
      "70\n"
     ]
    }
   ],
   "source": [
    "print(sum_list_while([[1, 4], [10, 5], [20, 30]]))"
   ]
  },
  {
   "cell_type": "markdown",
   "metadata": {},
   "source": [
    "## 시험 점수\n",
    "\n",
    "> 2차원 배열\n",
    "\n",
    "\n",
    "* A반 학생들의 점수는 아래와 같고, students 리스트에 저장되어 있다.\n",
    "\n",
    "    * A학생(국어 100점, 수학 80점, 영어 100점)\n",
    "    * B학생(국어 90점, 수학 90점, 영어 60점)\n",
    "    * C학생(국어 80점, 수학 80점, 영어 80점)\n",
    "\n",
    "```python\n",
    "students = [\n",
    " [100, 80, 100],\n",
    " [90, 90, 60],\n",
    " [80, 80, 80]\n",
    "]\n",
    "```"
   ]
  },
  {
   "cell_type": "markdown",
   "metadata": {},
   "source": [
    "### 학생별 출력\n",
    "\n",
    "* 아래의 리스트를 반복하여 **학생별 총합**을 순서대로 `출력`하시오.\n",
    "\n",
    "* `sum` 함수 사용 금지\n",
    "\n",
    "---\n",
    "**예시 입력**\n",
    "\n",
    "```python\n",
    "students = [\n",
    " [100, 80, 100],\n",
    " [90, 90, 60],\n",
    " [80, 80, 80]\n",
    "]\n",
    "```\n",
    "\n",
    "**예시 출력**\n",
    "```\n",
    "280\n",
    "240\n",
    "240\n",
    "```"
   ]
  },
  {
   "cell_type": "code",
   "execution_count": 17,
   "metadata": {},
   "outputs": [],
   "source": [
    "students = [\n",
    " [100, 80, 100],\n",
    " [90, 90, 60],\n",
    " [80, 80, 80]\n",
    "]"
   ]
  },
  {
   "cell_type": "markdown",
   "metadata": {},
   "source": [
    "### 교수님 정답"
   ]
  },
  {
   "cell_type": "code",
   "execution_count": 18,
   "metadata": {},
   "outputs": [
    {
     "name": "stdout",
     "output_type": "stream",
     "text": [
      "280\n",
      "240\n",
      "240\n"
     ]
    }
   ],
   "source": [
    "for student in students:\n",
    "    print(sum(student))"
   ]
  },
  {
   "cell_type": "markdown",
   "metadata": {},
   "source": [
    "### 교수님 정답 - 인덱스 버전"
   ]
  },
  {
   "cell_type": "code",
   "execution_count": null,
   "metadata": {},
   "outputs": [],
   "source": [
    "# 학생별 총합 == 가장 바깥 리스트 안에 있는 각 리스트의 총합\n",
    "# 2차원 배열을 마치 행렬처럼 봤을 때 각 요소는 (y, x)로 표현 가능!\n",
    "\n",
    "# 각 학생의 모든 점수를 더한다고 하면...\n",
    "# 첫번째 시행 : (0,0) + (0,1) + (0,2)\n",
    "# 두번째 시행 : (1,0) + (1,1) + (1,2)\n",
    "# 세번째 시행 : (2,0) + (2,1) + (2,2)\n",
    "\n",
    "# 각 시행에서 y 값은 우선 고정시켜두고, x값만 변하도록 구성하면 될듯.\n",
    "# 구구단\n",
    "\n",
    "for y in range(len(students)):\n",
    "    \n"
   ]
  },
  {
   "cell_type": "code",
   "execution_count": null,
   "metadata": {},
   "outputs": [],
   "source": [
    "A_total = 0\n",
    "B_total = 0\n",
    "C_total = 0\n",
    "\n",
    "for score in students:\n",
    "    if score in students[0]:\n",
    "        A_total += score\n",
    "    print(A_total)\n",
    "    if score in students[1]:\n",
    "        B_total += score\n",
    "    print(B_total)\n",
    "    else :\n",
    "        C_total += sccore\n",
    "    print(C_total)\n",
    "        "
   ]
  },
  {
   "cell_type": "code",
   "execution_count": null,
   "metadata": {
    "scrolled": false
   },
   "outputs": [],
   "source": [
    "# 아래에 풀이를 작성하세요. 함수 정의는 필요없습니다.\n",
    "A_total = 0\n",
    "B_total = 0\n",
    "C_total = 0\n",
    "\n",
    "for A in students[0]:\n",
    "    A_total += A\n",
    "    \n",
    "for B in students[1]:\n",
    "    B_total += B\n",
    "\n",
    "for C in students[2]:\n",
    "    C_total += C\n",
    "    \n",
    "\n",
    "    \n",
    "print(A_total,\"\\n\", B_total,\"\\n\", C_total)"
   ]
  },
  {
   "cell_type": "code",
   "execution_count": null,
   "metadata": {},
   "outputs": [],
   "source": [
    "\n",
    "total_A = 0\n",
    "total_B = 0\n",
    "total_C = 0\n",
    "\n",
    "\n",
    "for x in students:\n",
    "    if x in students[0]:\n",
    "        total_A += x\n",
    "    elif x in students[1]:\n",
    "        total_B += x\n",
    "    else: \n",
    "        total_C += x\n",
    "        \n",
    "print(total_A)\n",
    "print(total_B)\n",
    "print(total_C)\n",
    "    \n",
    "        "
   ]
  },
  {
   "cell_type": "markdown",
   "metadata": {},
   "source": [
    "### 과목별 출력\n",
    "\n",
    "* 아래의 리스트를 반복하여 **과목별 총합**을 순서대로 `출력`하시오.\n",
    "* `sum` 함수 사용 금지\n",
    "\n",
    "---\n",
    "**예시 입력**\n",
    "\n",
    "```python\n",
    "students = [\n",
    " [100, 80, 100],\n",
    " [90, 90, 60],\n",
    " [80, 80, 80]\n",
    "]\n",
    "```\n",
    "\n",
    "**예시 출력**\n",
    "```\n",
    "270\n",
    "250\n",
    "240\n",
    "```"
   ]
  },
  {
   "cell_type": "code",
   "execution_count": null,
   "metadata": {},
   "outputs": [],
   "source": [
    "students = [\n",
    " [100, 80, 100],\n",
    " [90, 90, 60],\n",
    " [80, 80, 80]\n",
    "]"
   ]
  },
  {
   "cell_type": "code",
   "execution_count": 30,
   "metadata": {},
   "outputs": [
    {
     "name": "stdout",
     "output_type": "stream",
     "text": [
      "280\n",
      "240\n",
      "240\n"
     ]
    }
   ],
   "source": [
    "for i in students:\n",
    "    total = 0\n",
    "    for j in i:\n",
    "        total += j\n",
    "    print(total)"
   ]
  },
  {
   "cell_type": "code",
   "execution_count": 19,
   "metadata": {},
   "outputs": [
    {
     "name": "stdout",
     "output_type": "stream",
     "text": [
      "270 250 240\n"
     ]
    }
   ],
   "source": [
    "# 아래에 풀이를 작성하세요. 함수 정의는 필요없습니다.\n",
    "\n",
    "A_total = 0\n",
    "B_total = 0\n",
    "C_total = 0\n",
    "for score in students:\n",
    "    A_total += score[0]\n",
    "    B_total += score[1]\n",
    "    C_total += score[2]\n",
    "    \n",
    "    \n",
    "\n",
    "    \n",
    "print(A_total, B_total, C_total)\n"
   ]
  },
  {
   "cell_type": "code",
   "execution_count": 20,
   "metadata": {},
   "outputs": [
    {
     "name": "stdout",
     "output_type": "stream",
     "text": [
      "270\n",
      "250\n",
      "240\n"
     ]
    }
   ],
   "source": [
    "# 바깥 리스트의 길이 len(students)\n",
    "# 안쪽 리스트의 길이 len (students[n])\n",
    "\n",
    "# 2차원 배열의 각 요소의 위치는 (y, x)로 표현 가능.\n",
    "\n",
    "# before : (0, 0), (0, 1), (0, 2) ... y값을 고정하고 x값이 바뀌었음\n",
    "#    now : (0, 0), (1, 0), (2, 0) ... x값을 고정하고 y값이 바뀌었음\n",
    "for x in range(len(students[0])):\n",
    "    # x : 0, 1, 2\n",
    "    total = 0\n",
    "    for y in range(len(students)):\n",
    "        total += students[y][x]\n",
    "    print(total)"
   ]
  }
 ],
 "metadata": {
  "kernelspec": {
   "display_name": "Python 3",
   "language": "python",
   "name": "python3"
  },
  "language_info": {
   "codemirror_mode": {
    "name": "ipython",
    "version": 3
   },
   "file_extension": ".py",
   "mimetype": "text/x-python",
   "name": "python",
   "nbconvert_exporter": "python",
   "pygments_lexer": "ipython3",
   "version": "3.8.7"
  },
  "toc": {
   "base_numbering": 1,
   "nav_menu": {},
   "number_sections": true,
   "sideBar": true,
   "skip_h1_title": false,
   "title_cell": "Table of Contents",
   "title_sidebar": "Contents",
   "toc_cell": false,
   "toc_position": {},
   "toc_section_display": true,
   "toc_window_display": false
  }
 },
 "nbformat": 4,
 "nbformat_minor": 4
}
