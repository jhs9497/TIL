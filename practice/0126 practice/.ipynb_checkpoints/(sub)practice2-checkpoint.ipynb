{
 "cells": [
  {
   "cell_type": "markdown",
   "metadata": {},
   "source": [
    "# Practice 2\n",
    "\n",
    "> 자료 구조 "
   ]
  },
  {
   "cell_type": "markdown",
   "metadata": {},
   "source": [
    "## 모든 위치\n",
    "\n",
    "> 주어진 문자열(text)에서 제시된 알파벳(alphabet)의 등장 위치를 리스트로 반환하시오.\n",
    "> 해당 알파벳이 등장하지 않으면, -1을 반환하시오.\n",
    "\n",
    "---\n",
    "\n",
    "예시)\n",
    "\n",
    "```python\n",
    "print(my_find('apple', 'p')) # [1, 2]\n",
    "print(my_find('a', 'p'))     # -1\n",
    "```\n"
   ]
  },
  {
   "cell_type": "markdown",
   "metadata": {},
   "source": [
    "## 교수님 풀이"
   ]
  },
  {
   "cell_type": "code",
   "execution_count": null,
   "metadata": {},
   "outputs": [],
   "source": [
    "def my_find(text, alphabet):\n",
    "    \n",
    "    if alphaber not in text:\n",
    "        return -1\n",
    "    \n",
    "    result = []\n",
    "    for idx in range(len(text)):\n",
    "        if text[idx] == alphabet:\n",
    "            result.append(idx)\n",
    "    return result"
   ]
  },
  {
   "cell_type": "code",
   "execution_count": 155,
   "metadata": {},
   "outputs": [
    {
     "name": "stdout",
     "output_type": "stream",
     "text": [
      "[1, 2]\n",
      "-1\n"
     ]
    }
   ],
   "source": [
    "print(my_find('apple', 'p'))\n",
    "print(my_find('a', 'p'))"
   ]
  },
  {
   "cell_type": "markdown",
   "metadata": {},
   "source": [
    "## 내 풀이"
   ]
  },
  {
   "cell_type": "code",
   "execution_count": 58,
   "metadata": {},
   "outputs": [],
   "source": [
    "\n",
    "\n",
    "def my_find(text, alphabet):\n",
    "    New_list = []\n",
    "    for word in text:\n",
    "        New_list.append(word)\n",
    "    if alphabet in New_list:\n",
    "        result = []\n",
    "        for i in range(0, len(New_list)):\n",
    "                if New_list[i] == alphabet:\n",
    "                    result.append(i)\n",
    "        return result\n",
    "    return -1\n",
    "    "
   ]
  },
  {
   "cell_type": "code",
   "execution_count": 59,
   "metadata": {},
   "outputs": [
    {
     "name": "stdout",
     "output_type": "stream",
     "text": [
      "[1, 2]\n",
      "-1\n"
     ]
    }
   ],
   "source": [
    "# 해당 코드를 통해 올바른 결과가 나오는지 확인하시오.\n",
    "print(my_find('apple', 'p'))\n",
    "print(my_find('a', 'p'))"
   ]
  },
  {
   "cell_type": "code",
   "execution_count": null,
   "metadata": {},
   "outputs": [],
   "source": []
  },
  {
   "cell_type": "markdown",
   "metadata": {},
   "source": [
    "## 출석 체크\n",
    "\n",
    "> 주어진 학생 n과 출석한 학생명부 students 문자열이 있다. 결석한 학생들로 구성된 문자열을 반환하시오.\n",
    ">\n",
    "> n이 7일 때, 1 2 3 4 5 6 7의 출석 번호가 부여되고,\n",
    ">\n",
    "> '1 3 5'는 출석한 학생 명부이다. \n",
    ">\n",
    "> 즉, 결석한 학생 명부 '2 4 6 7'을 return 해야 한다.\n",
    "\n",
    "---\n",
    "\n",
    "예시)\n",
    "\n",
    "```python\n",
    "print(check(7, '1 3 5')) # 2 4 6 7\n",
    "```\n"
   ]
  },
  {
   "cell_type": "code",
   "execution_count": 170,
   "metadata": {},
   "outputs": [],
   "source": [
    "def check(n, students):\n",
    "    total_member = []\n",
    "    for number in range(1, n+1):\n",
    "        a = str(number)\n",
    "        total_member.append(a)\n",
    "    good_member = []\n",
    "    for i in students:\n",
    "        good_member.append(i)\n",
    "    print(good_member)\n",
    "    \n",
    "    for total in total_member:\n",
    "        for good in good_member:\n",
    "             if total in good:\n",
    "                    print(total)\n",
    "                \n",
    "\n",
    "                \n",
    "            \n",
    "        \n",
    "                \n",
    "    "
   ]
  },
  {
   "cell_type": "code",
   "execution_count": 169,
   "metadata": {
    "ExecuteTime": {
     "end_time": "2020-07-22T07:58:30.841852Z",
     "start_time": "2020-07-22T07:58:30.838924Z"
    },
    "scrolled": true
   },
   "outputs": [
    {
     "name": "stdout",
     "output_type": "stream",
     "text": [
      "['1', ' ', '3', ' ', '5']\n",
      "1\n",
      "3\n",
      "5\n",
      "None\n"
     ]
    }
   ],
   "source": [
    "# 해당 코드를 통해 올바른 결과가 나오는지 확인하시오.\n",
    "print(check(7, '1 3 5')) # 2 4 6 7"
   ]
  },
  {
   "cell_type": "markdown",
   "metadata": {},
   "source": [
    "## 지우님 풀이"
   ]
  },
  {
   "cell_type": "code",
   "execution_count": 157,
   "metadata": {},
   "outputs": [],
   "source": [
    "def check(n, students):\n",
    "    result = ''\n",
    "    for i in range(1, n+1):\n",
    "        if str(i) in students:\n",
    "            pass\n",
    "        else:\n",
    "            result += str(i) + ' '\n",
    "    return result\n"
   ]
  },
  {
   "cell_type": "code",
   "execution_count": 158,
   "metadata": {},
   "outputs": [
    {
     "name": "stdout",
     "output_type": "stream",
     "text": [
      "2 4 6 7 \n"
     ]
    }
   ],
   "source": [
    "print(check(7, '1 3 5')) # 2 4 6 7"
   ]
  },
  {
   "cell_type": "markdown",
   "metadata": {},
   "source": [
    "## 교수님 풀이"
   ]
  },
  {
   "cell_type": "code",
   "execution_count": 160,
   "metadata": {},
   "outputs": [],
   "source": [
    "def check(n, students):\n",
    "    # '1 3 5' => [1, 3, 5]\n",
    "    \n",
    "    # 1) '1 3 5' => ['1', '3', '5'] == split()\n",
    "    # 2) ['1', '3', '5'] => [1, 3, 5] == map()\n",
    "    \n",
    "    \n",
    "    # 출석부 : 1, 2, 3, 4, 5, 6, 7\n",
    "    # 1) 출석부에서 한 명씩 부른다. => 반복문.\n",
    "    # 2) 부른 사람이 대답하지 않는다. => 결석 리스트에 추가.\n",
    "    # 3) 리스트에 담긴 값을 \"문자열\"로 바꿔서 출력하면 끝.\n",
    "    \n",
    "    \n",
    "    students = list(map(int, students.split()))\n",
    "    \n",
    "    result = []\n",
    "    \n",
    "    for number in range(1, n+1):\n",
    "        if number not in students:\n",
    "            result.append(number)\n",
    "            \n",
    "    # [2, 4, 6, 7] => '2, 4, 6, 7'\n",
    "    #1) [2, 4, 6, 7] => ['2', '4', '6,', '7'] == map()\n",
    "    #2) ['2', '4', '6,', '7'] => '2 4 6 7' == join()\n",
    "    \n",
    "    \n",
    "    result = list(map(str, result))\n",
    "    result = ' '.join(result)\n",
    "    return result\n",
    "\n"
   ]
  },
  {
   "cell_type": "code",
   "execution_count": 161,
   "metadata": {},
   "outputs": [
    {
     "name": "stdout",
     "output_type": "stream",
     "text": [
      "2 4 6 7\n"
     ]
    }
   ],
   "source": [
    "print(check(7, '1 3 5')) # 2 4 6 7"
   ]
  }
 ],
 "metadata": {
  "kernelspec": {
   "display_name": "Python 3",
   "language": "python",
   "name": "python3"
  },
  "language_info": {
   "codemirror_mode": {
    "name": "ipython",
    "version": 3
   },
   "file_extension": ".py",
   "mimetype": "text/x-python",
   "name": "python",
   "nbconvert_exporter": "python",
   "pygments_lexer": "ipython3",
   "version": "3.8.7"
  },
  "toc": {
   "base_numbering": 1,
   "nav_menu": {},
   "number_sections": true,
   "sideBar": true,
   "skip_h1_title": false,
   "title_cell": "Table of Contents",
   "title_sidebar": "Contents",
   "toc_cell": false,
   "toc_position": {},
   "toc_section_display": true,
   "toc_window_display": false
  }
 },
 "nbformat": 4,
 "nbformat_minor": 4
}
