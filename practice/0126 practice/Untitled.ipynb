{
 "cells": [
  {
   "cell_type": "markdown",
   "id": "hired-withdrawal",
   "metadata": {},
   "source": [
    "## 1. Built-in 함수와 메서드\n",
    "sorted()와 .sort()의 차이점을 코드의 실행 결과를 활용하여 설명하시오"
   ]
  },
  {
   "cell_type": "code",
   "execution_count": 22,
   "id": "declared-movement",
   "metadata": {},
   "outputs": [
    {
     "name": "stdout",
     "output_type": "stream",
     "text": [
      "[1, 4, 16, 7, 15, 9]\n",
      "[1, 4, 7, 9, 15, 16]\n"
     ]
    }
   ],
   "source": [
    "# 1. sorted()\n",
    "\n",
    "A = [1, 4, 16, 7, 15, 9]\n",
    "\n",
    "B = sorted(A)\n",
    "\n",
    "print(A)\n",
    "print(B)"
   ]
  },
  {
   "cell_type": "code",
   "execution_count": 40,
   "id": "infectious-music",
   "metadata": {},
   "outputs": [
    {
     "name": "stdout",
     "output_type": "stream",
     "text": [
      "[1, 4, 7, 9, 15, 16]\n",
      "None\n"
     ]
    }
   ],
   "source": [
    "# 2. .sort()\n",
    "\n",
    "A = [1, 4, 16, 7, 15, 9]\n",
    "\n",
    "B = A.sort()\n",
    "\n",
    "print(A)\n",
    "print(B)"
   ]
  },
  {
   "cell_type": "markdown",
   "id": "quantitative-federation",
   "metadata": {},
   "source": [
    "### sorted()는 원본을 바꾸진 않지만 .sort() 는 원본 자체를 바꿉니다."
   ]
  },
  {
   "cell_type": "markdown",
   "id": "expensive-carpet",
   "metadata": {},
   "source": [
    "## 2. .extend()와 .append()\n",
    ".extend()와 .append()의 차이점을 코드의 실행 결과를 활용하여 설명하시오."
   ]
  },
  {
   "cell_type": "code",
   "execution_count": 43,
   "id": "elegant-stage",
   "metadata": {},
   "outputs": [
    {
     "name": "stdout",
     "output_type": "stream",
     "text": [
      "[1, 6, 3, 8, 2, 'apple']\n"
     ]
    }
   ],
   "source": [
    "# 1. .append()\n",
    "\n",
    "A = [1 , 6, 3, 8]\n",
    "\n",
    "A.append(2)\n",
    "\n",
    "A.append('apple')\n",
    "\n",
    "print(A)"
   ]
  },
  {
   "cell_type": "code",
   "execution_count": 45,
   "id": "personal-flavor",
   "metadata": {},
   "outputs": [
    {
     "name": "stdout",
     "output_type": "stream",
     "text": [
      "[1, 6, 3, 8, 'a', 'p', 'p', 'l', 'e']\n"
     ]
    }
   ],
   "source": [
    "# 2. .extend()\n",
    "\n",
    "A = [1 , 6, 3, 8]\n",
    "\n",
    "# A.extend(2) -> extend는 숫자 못넣음\n",
    "\n",
    "A.extend('apple')\n",
    "\n",
    "print(A)"
   ]
  },
  {
   "cell_type": "markdown",
   "id": "cooked-riverside",
   "metadata": {},
   "source": [
    "### append는 내용 그대로를 리스트에 추가하지만 extend는 숫자를 못넣고, 각 개별요소를 하나씩 넣습니다."
   ]
  },
  {
   "cell_type": "markdown",
   "id": "continuous-anatomy",
   "metadata": {},
   "source": [
    "## 3. 복사가 잘 된 건가?\n",
    "아래의 코드를 실행 하였을 때, 변수 a와 b에 담긴 list의 요소가 같은지 혹은 다른지\n",
    "여부를 판단하고 그 이유를 작성하시오."
   ]
  },
  {
   "cell_type": "code",
   "execution_count": 47,
   "id": "historical-metabolism",
   "metadata": {},
   "outputs": [
    {
     "name": "stdout",
     "output_type": "stream",
     "text": [
      "[1, 2, 5, 4, 5] 2552764427328\n",
      "[1, 2, 5, 4, 5] 2552764427328\n"
     ]
    }
   ],
   "source": [
    "a = [1, 2, 3, 4, 5]\n",
    "b = a\n",
    "\n",
    "a[2] =5\n",
    "\n",
    "print(a, id(a))\n",
    "print(b, id(b))"
   ]
  },
  {
   "cell_type": "code",
   "execution_count": null,
   "id": "stunning-network",
   "metadata": {},
   "outputs": [],
   "source": [
    "# list의 주소를 통해 값을 공유하고 있는 것이기 때문에 요소가 같다고 볼 순 없다."
   ]
  },
  {
   "cell_type": "code",
   "execution_count": 49,
   "id": "korean-accreditation",
   "metadata": {
    "scrolled": true
   },
   "outputs": [
    {
     "name": "stdout",
     "output_type": "stream",
     "text": [
      "[1, 2, 5, 4, 5] 2552764342592\n",
      "[1, 2, 3, 4, 5] 2552764435200\n"
     ]
    }
   ],
   "source": [
    "a = [1, 2, 3, 4, 5]\n",
    "b = a[:]\n",
    "\n",
    "a[2] = 5\n",
    "\n",
    "print(a, id(a))\n",
    "print(b, id(b))"
   ]
  },
  {
   "cell_type": "code",
   "execution_count": null,
   "id": "atmospheric-mozambique",
   "metadata": {},
   "outputs": [],
   "source": [
    "# 위와 같이 복사해야 id값이 아닌 요소를 복사한 것이다."
   ]
  },
  {
   "cell_type": "markdown",
   "id": "activated-coverage",
   "metadata": {},
   "source": [
    "## 1. 무엇이 중복일까\n",
    "문자열을 전달 받아 해당 문자열에서 중복해서 나타난 문자들을 담은 list를 반환하는\n",
    "duplicated_letters 함수를 작성하시오.\n"
   ]
  },
  {
   "cell_type": "code",
   "execution_count": 93,
   "id": "expanded-helicopter",
   "metadata": {},
   "outputs": [],
   "source": [
    "def duplicated_letters(x):\n",
    "    \n",
    "            "
   ]
  },
  {
   "cell_type": "code",
   "execution_count": 94,
   "id": "criminal-proxy",
   "metadata": {
    "scrolled": true
   },
   "outputs": [
    {
     "ename": "TypeError",
     "evalue": "unsupported operand type(s) for +: 'int' and 'str'",
     "output_type": "error",
     "traceback": [
      "\u001b[1;31m---------------------------------------------------------------------------\u001b[0m",
      "\u001b[1;31mTypeError\u001b[0m                                 Traceback (most recent call last)",
      "\u001b[1;32m<ipython-input-94-6a5adaf95704>\u001b[0m in \u001b[0;36m<module>\u001b[1;34m\u001b[0m\n\u001b[1;32m----> 1\u001b[1;33m \u001b[0mduplicated_letters\u001b[0m\u001b[1;33m(\u001b[0m\u001b[1;34m'apple'\u001b[0m\u001b[1;33m)\u001b[0m\u001b[1;33m\u001b[0m\u001b[1;33m\u001b[0m\u001b[0m\n\u001b[0m\u001b[0;32m      2\u001b[0m \u001b[0mduplicated_letters\u001b[0m\u001b[1;33m(\u001b[0m\u001b[1;34m'banana'\u001b[0m\u001b[1;33m)\u001b[0m\u001b[1;33m\u001b[0m\u001b[1;33m\u001b[0m\u001b[0m\n",
      "\u001b[1;32m<ipython-input-93-2591bfe3ec07>\u001b[0m in \u001b[0;36mduplicated_letters\u001b[1;34m(x)\u001b[0m\n\u001b[0;32m      3\u001b[0m     \u001b[0mB_list\u001b[0m \u001b[1;33m=\u001b[0m \u001b[1;33m[\u001b[0m\u001b[1;33m]\u001b[0m\u001b[1;33m\u001b[0m\u001b[1;33m\u001b[0m\u001b[0m\n\u001b[0;32m      4\u001b[0m     \u001b[1;32mfor\u001b[0m \u001b[0mword\u001b[0m \u001b[1;32min\u001b[0m \u001b[0mx\u001b[0m\u001b[1;33m:\u001b[0m\u001b[1;33m\u001b[0m\u001b[1;33m\u001b[0m\u001b[0m\n\u001b[1;32m----> 5\u001b[1;33m         \u001b[0mprint\u001b[0m\u001b[1;33m(\u001b[0m\u001b[0msum\u001b[0m\u001b[1;33m(\u001b[0m\u001b[0mword\u001b[0m\u001b[1;33m)\u001b[0m\u001b[1;33m)\u001b[0m\u001b[1;33m\u001b[0m\u001b[1;33m\u001b[0m\u001b[0m\n\u001b[0m\u001b[0;32m      6\u001b[0m \u001b[1;33m\u001b[0m\u001b[0m\n",
      "\u001b[1;31mTypeError\u001b[0m: unsupported operand type(s) for +: 'int' and 'str'"
     ]
    }
   ],
   "source": [
    "duplicated_letters('apple')\n",
    "duplicated_letters('banana')"
   ]
  },
  {
   "cell_type": "code",
   "execution_count": null,
   "id": "comparable-going",
   "metadata": {},
   "outputs": [],
   "source": [
    "A"
   ]
  }
 ],
 "metadata": {
  "kernelspec": {
   "display_name": "Python 3",
   "language": "python",
   "name": "python3"
  },
  "language_info": {
   "codemirror_mode": {
    "name": "ipython",
    "version": 3
   },
   "file_extension": ".py",
   "mimetype": "text/x-python",
   "name": "python",
   "nbconvert_exporter": "python",
   "pygments_lexer": "ipython3",
   "version": "3.8.7"
  },
  "toc": {
   "base_numbering": 1,
   "nav_menu": {},
   "number_sections": true,
   "sideBar": true,
   "skip_h1_title": false,
   "title_cell": "Table of Contents",
   "title_sidebar": "Contents",
   "toc_cell": false,
   "toc_position": {},
   "toc_section_display": true,
   "toc_window_display": false
  }
 },
 "nbformat": 4,
 "nbformat_minor": 5
}
