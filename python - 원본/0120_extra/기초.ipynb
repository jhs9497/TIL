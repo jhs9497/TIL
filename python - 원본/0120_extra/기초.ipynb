{
 "cells": [
  {
   "cell_type": "code",
   "execution_count": null,
   "id": "cooperative-growing",
   "metadata": {},
   "outputs": [],
   "source": [
    "# 초록 수정모드\n",
    "# 파랑 명령어모드\n",
    "\n",
    "# 단축키 : h!!"
   ]
  },
  {
   "cell_type": "code",
   "execution_count": 1,
   "id": "endless-orange",
   "metadata": {},
   "outputs": [
    {
     "name": "stdout",
     "output_type": "stream",
     "text": [
      "홍길동\n",
      "홍길동\n"
     ]
    }
   ],
   "source": [
    "# 입력\n",
    "name = input()\n",
    "print(name)"
   ]
  },
  {
   "cell_type": "code",
   "execution_count": 3,
   "id": "appointed-chick",
   "metadata": {},
   "outputs": [
    {
     "name": "stdout",
     "output_type": "stream",
     "text": [
      "5\n",
      "5 <class 'str'>\n"
     ]
    }
   ],
   "source": [
    "# 입력은 string 타입으로 받는다.\n",
    "number = input()\n",
    "print(number, type(number))"
   ]
  },
  {
   "cell_type": "code",
   "execution_count": 5,
   "id": "freelance-amsterdam",
   "metadata": {
    "scrolled": true
   },
   "outputs": [
    {
     "name": "stdout",
     "output_type": "stream",
     "text": [
      "5\n",
      "5 <class 'int'>\n"
     ]
    }
   ],
   "source": [
    "# 숫자로 활용하고 싶으면...\n",
    "number = int(input())\n",
    "print(number, type(number))\n",
    "# number = input()\n",
    "# number = int(number)\n",
    "# print(number, type(number))"
   ]
  },
  {
   "cell_type": "markdown",
   "id": "broken-organic",
   "metadata": {},
   "source": [
    "## 조건, 반복문\n",
    "\n",
    "> 1~20까지의 숫자 중에 홀수의 갯수 출력!"
   ]
  },
  {
   "cell_type": "code",
   "execution_count": 10,
   "id": "thrown-pipeline",
   "metadata": {
    "scrolled": true
   },
   "outputs": [
    {
     "name": "stdout",
     "output_type": "stream",
     "text": [
      "10\n"
     ]
    }
   ],
   "source": [
    "# 변수 초기화\n",
    "## 대상\n",
    "numbers = range(1, 21)\n",
    "## 바를정\n",
    "count = 0\n",
    "\n",
    "# 숫자들을 뿌려놓고..(반복)\n",
    "for number in numbers:\n",
    "    # 홀수라면,\n",
    "    if number % 2 == 1:\n",
    "        # 하나씩 바를 정 기입\n",
    "        count = count + 1\n",
    "        # count += 1\n",
    "print(count)"
   ]
  },
  {
   "cell_type": "code",
   "execution_count": 18,
   "id": "intended-buyer",
   "metadata": {},
   "outputs": [
    {
     "name": "stdout",
     "output_type": "stream",
     "text": [
      "10\n"
     ]
    }
   ],
   "source": [
    "# 변수 초기화\n",
    "## 대상\n",
    "numbers = range(1, 21)\n",
    "## 바를정\n",
    "count = 0\n",
    "\n",
    "for number in numbers:\n",
    "    # 2로 나눈 나머지 0, 1\n",
    "    # 짝수면, 0 => 0은 boolean => False\n",
    "    # 홀수면, 1 => 1은 boolean => True\n",
    "    if number % 2:\n",
    "        count = count + 1\n",
    "        # count += 1\n",
    "print(count)"
   ]
  }
 ],
 "metadata": {
  "kernelspec": {
   "display_name": "Python 3",
   "language": "python",
   "name": "python3"
  },
  "language_info": {
   "codemirror_mode": {
    "name": "ipython",
    "version": 3
   },
   "file_extension": ".py",
   "mimetype": "text/x-python",
   "name": "python",
   "nbconvert_exporter": "python",
   "pygments_lexer": "ipython3",
   "version": "3.8.6"
  },
  "toc": {
   "base_numbering": 1,
   "nav_menu": {},
   "number_sections": true,
   "sideBar": true,
   "skip_h1_title": false,
   "title_cell": "Table of Contents",
   "title_sidebar": "Contents",
   "toc_cell": false,
   "toc_position": {},
   "toc_section_display": true,
   "toc_window_display": false
  }
 },
 "nbformat": 4,
 "nbformat_minor": 5
}
