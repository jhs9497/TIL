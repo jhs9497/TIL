{
 "cells": [
  {
   "cell_type": "markdown",
   "id": "other-croatia",
   "metadata": {},
   "source": [
    "## 1번"
   ]
  },
  {
   "cell_type": "code",
   "execution_count": null,
   "id": "olive-reasoning",
   "metadata": {
    "scrolled": true
   },
   "outputs": [],
   "source": [
    "# 내 풀이\n",
    "\n",
    "A = '+'\n",
    "\n",
    "\n",
    "numbers = [1, 7, 13, 19, 25]\n",
    "result =''\n",
    "\n",
    "\n",
    "for i in range(1, 26):\n",
    "        if i == \n",
    "            result += '#'\n",
    "        else:\n",
    "            result += '+'\n",
    "            \n",
    "answer = ''\n",
    "count = 0\n",
    "\n",
    "for i in result:\n",
    "    answer += i\n",
    "    count += 1\n",
    "    if count == 5:\n",
    "        print(answer)\n",
    "        count = 0\n",
    "        answer = ''\n",
    "            "
   ]
  },
  {
   "cell_type": "code",
   "execution_count": null,
   "id": "minus-canada",
   "metadata": {},
   "outputs": [],
   "source": [
    "# 용재님과 합작풀이\n",
    "\n",
    "number = -1\n",
    "for re in range(0,5):\n",
    "    number += 1\n",
    "    result = ''\n",
    "    for idx in range(0,5):\n",
    "\n",
    "        if idx == number :\n",
    "            result +='#'\n",
    "        else:\n",
    "            result += '+'\n",
    "    print(result)"
   ]
  },
  {
   "cell_type": "markdown",
   "id": "dimensional-boards",
   "metadata": {},
   "source": [
    "## 2번"
   ]
  },
  {
   "cell_type": "code",
   "execution_count": null,
   "id": "governmental-texas",
   "metadata": {},
   "outputs": [],
   "source": [
    "number = int(input())\n",
    "\n",
    "result = 0\n",
    "for i in range(1, number+1):\n",
    "    result += i\n",
    "    \n",
    "print(result)\n"
   ]
  },
  {
   "cell_type": "markdown",
   "id": "nearby-wrong",
   "metadata": {},
   "source": [
    "## 3번"
   ]
  },
  {
   "cell_type": "code",
   "execution_count": null,
   "id": "supreme-producer",
   "metadata": {
    "scrolled": true
   },
   "outputs": [],
   "source": [
    "number = list(map(int, input().split()))\n",
    "\n",
    "a = number[0]\n",
    "b = number[1]\n",
    "\n",
    "print(a+b)\n",
    "print(a-b)\n",
    "print(a*b)\n",
    "print(a//b)"
   ]
  },
  {
   "cell_type": "markdown",
   "id": "quarterly-station",
   "metadata": {},
   "source": [
    "## 4번"
   ]
  },
  {
   "cell_type": "code",
   "execution_count": null,
   "id": "cellular-tokyo",
   "metadata": {
    "scrolled": true
   },
   "outputs": [],
   "source": [
    "number = int(input())\n",
    "\n",
    "answer = ''\n",
    "\n",
    "for i in range(1, number+1):\n",
    "    if number % i == 0:\n",
    "        answer += str(i)\n",
    "        answer+=' '\n",
    "\n",
    "print(answer)\n",
    "    \n",
    "\n",
    "\n"
   ]
  },
  {
   "cell_type": "markdown",
   "id": "hearing-thunder",
   "metadata": {},
   "source": [
    "## 5번"
   ]
  },
  {
   "cell_type": "code",
   "execution_count": null,
   "id": "juvenile-pacific",
   "metadata": {
    "scrolled": true
   },
   "outputs": [],
   "source": [
    "number = list(map(int, input().split()))\n",
    "\n",
    "\n",
    "if number[0] == 1 and number[1] ==3:\n",
    "    print('A')\n",
    "    \n",
    "if number[0] == 1 and number[1] ==2:\n",
    "    print('B')\n",
    "    \n",
    "if number[0] == 2 and number[1] ==1:\n",
    "    print('A')\n",
    "\n",
    "if number[0] == 2 and number[1] ==3:\n",
    "    print('B')\n",
    "    \n",
    "if number[0] == 3 and number[1] ==1:\n",
    "    print('B')\n",
    "    \n",
    "if number[0] == 3 and number[1] ==2:\n",
    "    print('A')"
   ]
  },
  {
   "cell_type": "markdown",
   "id": "numerous-picnic",
   "metadata": {},
   "source": [
    "## 6번"
   ]
  },
  {
   "cell_type": "code",
   "execution_count": null,
   "id": "sought-tyler",
   "metadata": {},
   "outputs": [],
   "source": [
    "number = int(input())\n",
    "\n",
    "answer = ''\n",
    "for i in range(0, number+1):\n",
    "    answer += str(2**i)\n",
    "    answer += ' '\n",
    "    \n",
    "print(answer)"
   ]
  },
  {
   "cell_type": "markdown",
   "id": "major-mirror",
   "metadata": {},
   "source": [
    "## 7번"
   ]
  },
  {
   "cell_type": "code",
   "execution_count": null,
   "id": "precious-bench",
   "metadata": {
    "scrolled": true
   },
   "outputs": [],
   "source": [
    "number = int(input())\n",
    "answer = ''\n",
    "for i in range(number, -1, -1):\n",
    "    answer += str(i)\n",
    "    answer += ' '\n",
    "    \n",
    "    \n",
    "print(answer)"
   ]
  },
  {
   "cell_type": "markdown",
   "id": "fewer-buying",
   "metadata": {},
   "source": [
    "## d2 지수문제"
   ]
  },
  {
   "cell_type": "code",
   "execution_count": null,
   "id": "remarkable-recovery",
   "metadata": {
    "scrolled": true
   },
   "outputs": [
    {
     "name": "stdout",
     "output_type": "stream",
     "text": [
      "10\n",
      "6791400\n",
      "# 1 3 2 2 3 1\n",
      "1646400\n",
      "# 2 6 1 2 3 0\n",
      "1425600\n",
      "# 3 6 4 2 0 1\n",
      "8575\n",
      "# 4 0 0 2 3 0\n",
      "185625\n",
      "# 5 0 3 4 0 1\n",
      "648\n",
      "# 6 3 4 0 0 0\n",
      "1185408\n",
      "# 7 7 3 0 3 0\n"
     ]
    }
   ],
   "source": [
    "test_case = int(input())\n",
    "for i in range(test_case):\n",
    "    N = int(input())\n",
    "    \n",
    "    a = 0\n",
    "    b = 0\n",
    "    c = 0\n",
    "    d = 0\n",
    "    e = 0\n",
    "\n",
    "    while N % 2 ==0:\n",
    "        N = N / 2\n",
    "        a += 1\n",
    "    \n",
    "    while N % 3 ==0:\n",
    "        N = N / 3\n",
    "        b += 1  \n",
    "\n",
    "    while N % 5 ==0:\n",
    "        N = N / 5\n",
    "        c += 1\n",
    "\n",
    "    while N % 7 ==0:\n",
    "        N = N / 7\n",
    "        d += 1\n",
    "\n",
    "\n",
    "    while N % 11 ==0:\n",
    "        N = N / 11\n",
    "        e += 1\n",
    "    \n",
    "    print(f'#{i+1} {a} {b} {c} {d} {e}')"
   ]
  }
 ],
 "metadata": {
  "kernelspec": {
   "display_name": "Python 3",
   "language": "python",
   "name": "python3"
  },
  "toc": {
   "base_numbering": 1,
   "nav_menu": {},
   "number_sections": true,
   "sideBar": true,
   "skip_h1_title": false,
   "title_cell": "Table of Contents",
   "title_sidebar": "Contents",
   "toc_cell": false,
   "toc_position": {},
   "toc_section_display": true,
   "toc_window_display": false
  }
 },
 "nbformat": 4,
 "nbformat_minor": 5
}
