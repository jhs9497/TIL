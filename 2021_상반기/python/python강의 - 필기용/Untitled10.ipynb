{
 "cells": [
  {
   "cell_type": "code",
   "execution_count": 5,
   "id": "interim-blank",
   "metadata": {
    "code_folding": [],
    "scrolled": false
   },
   "outputs": [
    {
     "name": "stdout",
     "output_type": "stream",
     "text": [
      "1\n",
      "6 3\n",
      "29 21 26 9 5 8\n",
      "29 21 26 9 5 8\n",
      "29 21 26 9 5 8\n",
      "29 21 26 9 5 8\n",
      "29 21 26 9 5 8\n",
      "29 21 26 9 5 8\n",
      "#6 228\n"
     ]
    }
   ],
   "source": [
    "# 이건 되는데 \n",
    "\n",
    "test_case = int(input())\n",
    "\n",
    "N, M = map(int ,input().split())\n",
    "\n",
    "\n",
    "N_list = []  # N의 배수 -1 을 담은 리스트\n",
    "\n",
    "for x in range(1, 10):\n",
    "    X = N*x - 1\n",
    "    N_list.append(X)\n",
    "\n",
    "Key_number = (N**2-1) - (M-1) - N*(M-1)  # 기준이 되는 i의 활동 범위\n",
    "\n",
    "original_list = []\n",
    "\n",
    "for a in range(N):\n",
    "    \n",
    "    \n",
    "    number= list(map(int, input().split()))\n",
    "    original_list += number\n",
    "\n",
    "\n",
    "    potential_list = []  # 후보가 되는 파리채 점수 리스트\n",
    "\n",
    "for i in range(Key_number):  # 0~ 18까지 돌면서 5의배수 -1 에서는 continue를 해줘야함\n",
    "\n",
    "    if i in N_list:\n",
    "        continue    \n",
    "\n",
    "    else:\n",
    "        total = 0\n",
    "        for j in range(0, M):\n",
    "            for z in range(0, M):\n",
    "                total += original_list[i + (j*N) + z]\n",
    "        potential_list.append(total)\n",
    "\n",
    "answer = max(potential_list)\n",
    "\n",
    "print(f'#{a+1} {answer}')\n"
   ]
  },
  {
   "cell_type": "code",
   "execution_count": null,
   "id": "dressed-substance",
   "metadata": {
    "scrolled": true
   },
   "outputs": [],
   "source": [
    "# 왜 안되냐고 ㅡㅡ\n",
    "\n",
    "test_case = int(input())\n",
    "\n",
    "N, M = map(int ,input().split())\n",
    "\n",
    "\n",
    "N_list = []  # N의 배수 -1 을 담은 리스트\n",
    "\n",
    "for x in range(1, 10):\n",
    "    X = N*x - 1\n",
    "    N_list.append(X)\n",
    "\n",
    "Key_number = (N**2-1) - (M-1) - N*(M-1)  # 기준이 되는 i의 활동 범위\n",
    "\n",
    "original_list = []\n",
    "\n",
    "for a in range(N):\n",
    "    \n",
    "    \n",
    "    number= list(map(int, input().split()))\n",
    "    original_list += number\n",
    "\n",
    "\n",
    "    potential_list = []  # 후보가 되는 파리채 점수 리스트\n",
    "\n",
    "    for i in range(Key_number):  # 0~ 18까지 돌면서 5의배수 -1 에서는 continue를 해줘야함\n",
    "\n",
    "        if i in N_list:\n",
    "            continue    \n",
    "\n",
    "        else:\n",
    "            total = 0\n",
    "            for j in range(0, M):\n",
    "                for z in range(0, M):\n",
    "                    total += original_list[i + (j*N) + z]\n",
    "            potential_list.append(total)\n",
    "\n",
    "    answer = max(potential_list)\n",
    "\n",
    "    print(f'#{a+1} {answer}')"
   ]
  },
  {
   "cell_type": "code",
   "execution_count": 14,
   "id": "single-black",
   "metadata": {},
   "outputs": [
    {
     "name": "stdout",
     "output_type": "stream",
     "text": [
      "1\n",
      "6 3\n",
      "29 21 26 9 5 8\n",
      "29 21 26 9 5 8\n",
      "29 21 26 9 5 8\n",
      "29 21 26 9 5 8\n",
      "29 21 26 9 5 8\n",
      "29 21 26 9 5 8\n",
      "[29, 21, 26, 9, 5, 8, 29, 21, 26, 9, 5, 8, 29, 21, 26, 9, 5, 8, 29, 21, 26, 9, 5, 8, 29, 21, 26, 9, 5, 8, 29, 21, 26, 9, 5, 8]\n",
      "9\n"
     ]
    }
   ],
   "source": [
    "\n",
    "# 왜 안되냐고 ㅡㅡ\n",
    "\n",
    "test_case = int(input())\n",
    "\n",
    "N, M = map(int ,input().split())\n",
    "\n",
    "\n",
    "N_list = []  # N의 배수 -1 을 담은 리스트\n",
    "\n",
    "for x in range(1, 10):\n",
    "    X = N*x - 1\n",
    "    N_list.append(X)\n",
    "\n",
    "Key_number = (N**2-1) - (M-1) - N*(M-1)  # 기준이 되는 i의 활동 범위\n",
    "\n",
    "original_list = []\n",
    "\n",
    "for a in range(N):\n",
    "    \n",
    "    \n",
    "    number= list(map(int, input().split()))\n",
    "    original_list += number\n",
    "print(original_list)\n",
    "print(original_list[3])"
   ]
  },
  {
   "cell_type": "code",
   "execution_count": null,
   "id": "funky-facility",
   "metadata": {},
   "outputs": [],
   "source": [
    "1\n",
    "6 3\n",
    "29 21 26 9 5 8\n",
    "21 19 8 0 21 19\n",
    "9 24 2 11 4 24\n",
    "19 29 1 0 21 19\n",
    "10 29 6 18 4 3\n",
    "29 11 15 3 3 29"
   ]
  },
  {
   "cell_type": "code",
   "execution_count": null,
   "id": "atomic-wages",
   "metadata": {},
   "outputs": [],
   "source": [
    "1\n",
    "5 2\n",
    "1 3 3 6 7\n",
    "8 13 9 12 8\n",
    "4 16 11 12 6\n",
    "2 4 1 23 2\n",
    "9 13 4 7 3\n",
    "[8, 12, 16, 20, 16, 20, 24, 28, 26, 20, 24, 28, 22, 20, 23, 21]\n",
    "28"
   ]
  },
  {
   "cell_type": "code",
   "execution_count": null,
   "id": "bottom-registrar",
   "metadata": {},
   "outputs": [],
   "source": [
    "\n",
    "\n",
    "original_list = []\n",
    "\n",
    "N = 5\n",
    "M = 2\n",
    "\n",
    "potential_list = []\n",
    "\n",
    "\n",
    "total = 0\n",
    "        for j in range(0, M):\n",
    "            for z in range(0, M):\n",
    "                total += original_list[i + (j*N) + z]\n",
    "        potential_list.append(total)\n",
    "        \n",
    "print(potential_list)"
   ]
  },
  {
   "cell_type": "code",
   "execution_count": null,
   "id": "average-settle",
   "metadata": {},
   "outputs": [],
   "source": [
    "test_case = int(input())\n",
    "\n",
    "N, M = map(int ,input().split())\n",
    "\n",
    "first_list = []\n",
    "\n",
    "for i in range(N):\n",
    "    \n",
    "    number= list(map(int, input().split()))\n",
    "    first_list += number\n",
    "    \n",
    "    \n",
    "print(first_list)"
   ]
  },
  {
   "cell_type": "code",
   "execution_count": null,
   "id": "false-rebound",
   "metadata": {},
   "outputs": [],
   "source": [
    "test_case = int(input())\n",
    "\n",
    "N, M = map(int ,input().split())\n",
    "\n",
    "original_list = []\n",
    "\n",
    "for i in range(N):\n",
    "    \n",
    "    number= list(map(int, input().split()))\n",
    "    original_list += number\n",
    "print(original_list)"
   ]
  },
  {
   "cell_type": "code",
   "execution_count": null,
   "id": "premium-adobe",
   "metadata": {},
   "outputs": [],
   "source": [
    "N = 6\n",
    "M = \n",
    "Key_number = N**2 - (M-1) - N*(M-1)\n",
    "print(Key_number)"
   ]
  },
  {
   "cell_type": "code",
   "execution_count": null,
   "id": "finite-combat",
   "metadata": {},
   "outputs": [],
   "source": [
    "test_case = int(input())\n",
    "\n",
    "N, M = map(int ,input().split())\n",
    "\n",
    "original_list = []\n",
    "\n",
    "for a in range(N):\n",
    "    \n"
   ]
  }
 ],
 "metadata": {
  "kernelspec": {
   "display_name": "Python 3",
   "language": "python",
   "name": "python3"
  },
  "language_info": {
   "codemirror_mode": {
    "name": "ipython",
    "version": 3
   },
   "file_extension": ".py",
   "mimetype": "text/x-python",
   "name": "python",
   "nbconvert_exporter": "python",
   "pygments_lexer": "ipython3",
   "version": "3.8.7"
  },
  "toc": {
   "base_numbering": 1,
   "nav_menu": {},
   "number_sections": true,
   "sideBar": true,
   "skip_h1_title": false,
   "title_cell": "Table of Contents",
   "title_sidebar": "Contents",
   "toc_cell": false,
   "toc_position": {},
   "toc_section_display": true,
   "toc_window_display": false
  }
 },
 "nbformat": 4,
 "nbformat_minor": 5
}
