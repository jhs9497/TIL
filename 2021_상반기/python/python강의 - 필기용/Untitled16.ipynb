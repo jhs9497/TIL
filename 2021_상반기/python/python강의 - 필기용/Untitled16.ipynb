{
 "cells": [
  {
   "cell_type": "code",
   "execution_count": 6,
   "id": "signal-setting",
   "metadata": {},
   "outputs": [
    {
     "name": "stdout",
     "output_type": "stream",
     "text": [
      "1\n",
      "1 2 2 4 4 5 7 7 2\n",
      "8\n"
     ]
    }
   ],
   "source": [
    "N = int(input())\n",
    "arr = list(map(int, input().split()))\n",
    "Max_count = 0\n",
    "for i in range(len(arr)-1):\n",
    "    count_up = 1\n",
    "    count_down = 1\n",
    "    for j in range(i, len(arr)-1):\n",
    "        if arr[j] <= arr[j+1]:\n",
    "            count_up += 1\n",
    "        else:\n",
    "            count_up = 1\n",
    "\n",
    "        if arr[j] >= arr[j+1]:\n",
    "            count_down += 1\n",
    "        else:\n",
    "            count_down = 1\n",
    "\n",
    "        if Max_count < count_up:\n",
    "            Max_count = count_up\n",
    "\n",
    "        if Max_count < count_down:\n",
    "            Max_count = count_down\n",
    "        \n",
    "print(Max_count)"
   ]
  }
 ],
 "metadata": {
  "kernelspec": {
   "display_name": "Python 3",
   "language": "python",
   "name": "python3"
  },
  "language_info": {
   "codemirror_mode": {
    "name": "ipython",
    "version": 3
   },
   "file_extension": ".py",
   "mimetype": "text/x-python",
   "name": "python",
   "nbconvert_exporter": "python",
   "pygments_lexer": "ipython3",
   "version": "3.8.7"
  },
  "toc": {
   "base_numbering": 1,
   "nav_menu": {},
   "number_sections": true,
   "sideBar": true,
   "skip_h1_title": false,
   "title_cell": "Table of Contents",
   "title_sidebar": "Contents",
   "toc_cell": false,
   "toc_position": {},
   "toc_section_display": true,
   "toc_window_display": false
  }
 },
 "nbformat": 4,
 "nbformat_minor": 5
}
