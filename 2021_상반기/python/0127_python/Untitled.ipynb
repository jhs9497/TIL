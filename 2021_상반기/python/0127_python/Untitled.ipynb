{
 "cells": [
  {
   "cell_type": "code",
   "execution_count": 11,
   "id": "premier-popularity",
   "metadata": {},
   "outputs": [
    {
     "name": "stdout",
     "output_type": "stream",
     "text": [
      "1\n",
      "4\n",
      "1 1 0 1 \n"
     ]
    }
   ],
   "source": [
    "N = int(input())\n",
    "\n",
    "count = 0\n",
    "answer = []\n",
    "for i in range(1,N+1):\n",
    "    A = 0\n",
    "    j = N-i\n",
    "    n = N\n",
    "    B = [n, i, j] \n",
    "    while j >= 0:\n",
    "        j = i-j\n",
    "        i = n-i \n",
    "        n = i+j\n",
    "        A += 1\n",
    "        B += [j]\n",
    "    \n",
    "    if count < A:\n",
    "        count = A\n",
    "        answer = B\n",
    "\n",
    "answer_ = ''\n",
    "for a in range(len(answer)-1):\n",
    "    answer_ += str(answer[a]) + ' '\n",
    "\n",
    "print(count+2)\n",
    "print(answer_)"
   ]
  }
 ],
 "metadata": {
  "kernelspec": {
   "display_name": "Python 3",
   "language": "python",
   "name": "python3"
  },
  "language_info": {
   "codemirror_mode": {
    "name": "ipython",
    "version": 3
   },
   "file_extension": ".py",
   "mimetype": "text/x-python",
   "name": "python",
   "nbconvert_exporter": "python",
   "pygments_lexer": "ipython3",
   "version": "3.8.7"
  },
  "toc": {
   "base_numbering": 1,
   "nav_menu": {},
   "number_sections": true,
   "sideBar": true,
   "skip_h1_title": false,
   "title_cell": "Table of Contents",
   "title_sidebar": "Contents",
   "toc_cell": false,
   "toc_position": {},
   "toc_section_display": true,
   "toc_window_display": false
  }
 },
 "nbformat": 4,
 "nbformat_minor": 5
}
