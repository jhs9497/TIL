{
 "cells": [
  {
   "cell_type": "markdown",
   "metadata": {},
   "source": [
    "### 과일 개수 골라내기\n",
    "> 내 장바구니에 과일이 몇 개인지, 과일이 아닌 것은 몇 개인지 출력하세요.\n",
    "장바구니에 담긴 과일과, 과일 판별 리스트는 다음과 같습니다. \n",
    "\n",
    "예시 )\n",
    "```python\n",
    "basket_items = {'apples': 4, 'oranges': 19, 'kites': 3, 'sandwitches': 8}\n",
    "fruits = ['apples', 'oranges', 'pears', 'peaches', 'grapes', 'bananas']\n",
    "\n",
    "# 출력 예시)\n",
    "# 과일은 23개이고, 11개는 과일이 아닙니다.\n",
    "```"
   ]
  },
  {
   "cell_type": "code",
   "execution_count": 67,
   "metadata": {
    "scrolled": true
   },
   "outputs": [
    {
     "name": "stdout",
     "output_type": "stream",
     "text": [
      "과일은 23개이고, 11개는 과일이 아닙니다.\n"
     ]
    }
   ],
   "source": [
    "basket_items = {'apples': 4, 'oranges': 19, 'kites': 3, 'sandwitches': 8}\n",
    "fruits = ['apples', 'oranges', 'pears', 'peaches', 'grapes', 'bananas']\n",
    "\n",
    "# 아래에 코드를 작성하시오.\n",
    "\n",
    "\n",
    "# 과일의 개수와 과일이 아닌 것의 개수를 따로 카운팅하자\n",
    "F_count = 0\n",
    "X_count = 0\n",
    "\n",
    "# basket_items의 딕셔너리를 돌면서 key값이 도출되게 한다.\n",
    "for items in basket_items:\n",
    "    # 도출된 key값이 fruits 딕셔너리에 있는지 확인하며 있으면 F_count에 없으면 X_count에 숫자가 올라가게 만든다.\n",
    "    if items in fruits:\n",
    "        F_count += basket_items[items]\n",
    "    else:\n",
    "        X_count += basket_items[items]\n",
    "# 함수설정이 아닌 출력하라고 했으므로 F스트링을 이용하여 출력문을 완성한다.        \n",
    "print(f'과일은 {F_count}개이고, {X_count}개는 과일이 아닙니다.')"
   ]
  },
  {
   "cell_type": "markdown",
   "metadata": {},
   "source": [
    "### 교수님 코드"
   ]
  },
  {
   "cell_type": "code",
   "execution_count": 70,
   "metadata": {},
   "outputs": [
    {
     "name": "stdout",
     "output_type": "stream",
     "text": [
      "과일은 23개이고, 11개는 과일이 아닙니다.\n"
     ]
    }
   ],
   "source": [
    "#.items()를 이용해서 key, val 한번에 활용 가능\n",
    "\n",
    "basket_items = {'apples': 4, 'oranges': 19, 'kites': 3, 'sandwitches': 8}\n",
    "fruits = ['apples', 'oranges', 'pears', 'peaches', 'grapes', 'bananas']\n",
    "\n",
    "F_count = 0\n",
    "X_count = 0\n",
    "\n",
    "for key, val in basket_items.items():\n",
    "    if key in fruits:\n",
    "        F_count += val\n",
    "    else:\n",
    "        X_count += val\n",
    "        \n",
    "print(f'과일은 {F_count}개이고, {X_count}개는 과일이 아닙니다.')\n",
    "    "
   ]
  },
  {
   "cell_type": "markdown",
   "metadata": {},
   "source": [
    "### 문자열 탐색\n",
    "> 문자열 요소로만 이루어진 리스트를 넣었을 때, 문자열 길이가 2 이상이고 주어진 문자열의 첫번째와 마지막 문자가 같은 문자열의 수를 세는 함수 `start_end`를 작성하세요.\n",
    "\n",
    "예시 )\n",
    "```python\n",
    "start_end(['level', 'asdwe', 's', 'abceda', 'gsdwrtfg']) # => 3\n",
    "```"
   ]
  },
  {
   "cell_type": "code",
   "execution_count": 116,
   "metadata": {},
   "outputs": [],
   "source": [
    "# 아래에 코드를 작성하시오.\n",
    "def start_end(strings):\n",
    "    # 우선 최종 count를 리턴할 count 상자를 만들자\n",
    "    count = 0\n",
    "    # x리스트를 돌면서 단어들을 하나씩 도출한다.\n",
    "    for word in strings:\n",
    "        # 우선 문자열의 길이가 2 이상이어야 하므로\n",
    "        # 만약 도출된 단어의 길이가 2보다 길다면 if문을 하나 더 진행한다.\n",
    "        if len(word) >= 2:\n",
    "            # 인덱싱을 이용해서 첫글자와 마지막글자를 비교해서 같다면 count에 1씩 추가한다.\n",
    "            if word[0] == word[-1]:\n",
    "                count += 1\n",
    "    # for문, if문이 다 끝나고 맨위에 count 상자를 리턴하게끔 줄맞춤을 한다.            \n",
    "    return count\n",
    "    \n"
   ]
  },
  {
   "cell_type": "code",
   "execution_count": 117,
   "metadata": {},
   "outputs": [
    {
     "data": {
      "text/plain": [
       "3"
      ]
     },
     "execution_count": 117,
     "metadata": {},
     "output_type": "execute_result"
    }
   ],
   "source": [
    "start_end(['level', 'asdwe', 's', 'abceda', 'gsdwrtfg'])"
   ]
  },
  {
   "cell_type": "markdown",
   "metadata": {},
   "source": [
    "### 교수님 코드"
   ]
  },
  {
   "cell_type": "code",
   "execution_count": 115,
   "metadata": {},
   "outputs": [],
   "source": [
    "def start_end(strings):\n",
    "    count = 0\n",
    "    for word in strings:\n",
    "        if len(word) >= 2 and word[0] == word[-1]:\n",
    "            count += 1\n",
    "    return count"
   ]
  },
  {
   "cell_type": "code",
   "execution_count": 118,
   "metadata": {},
   "outputs": [
    {
     "data": {
      "text/plain": [
       "4"
      ]
     },
     "execution_count": 118,
     "metadata": {},
     "output_type": "execute_result"
    }
   ],
   "source": [
    "start_end(['level', 'asdwe', 's', 'abceda', 'gsdwrtfg', 'asdfasdfa'])"
   ]
  },
  {
   "cell_type": "code",
   "execution_count": 51,
   "metadata": {},
   "outputs": [
    {
     "name": "stdout",
     "output_type": "stream",
     "text": [
      "l\n"
     ]
    }
   ],
   "source": [
    "a  = 'level'\n",
    "\n",
    "print(a[0])"
   ]
  },
  {
   "cell_type": "markdown",
   "metadata": {},
   "source": [
    "### 개인정보보호\n",
    "> 사용자의 핸드폰번호를 입력 받고, 개인정보 보호를 위하여 뒷자리 4자리를 제외한 모든 번호를 *로 변경하는 함수 `privacy`를 작성하시오.\n",
    "- 핸드폰 번호는 010으로 시작해야하고, 11자리여야 한다.\n",
    "- 핸드폰 번호를 입력하지 않았다면 \"핸드폰 번호를 입력하세요.\"를 반환한다.\n",
    "\n",
    "예시 )\n",
    "```python\n",
    "privacy('01012341234') # => `*******1234`\n",
    "```"
   ]
  },
  {
   "cell_type": "code",
   "execution_count": 101,
   "metadata": {},
   "outputs": [],
   "source": [
    "# 아래에 코드를 작성하시오.\n",
    "\n",
    "def privacy(phone_number):\n",
    "    if phone_number[0:3] == '010' and len(phone_number) == 11:\n",
    "        pass\n",
    "\n",
    "    # 새로운 스트링 상자를 만들자\n",
    "\n",
    "    # for문이 돌아갈 때 마다 count +=1 을 이용해 번호를 카운팅해보자\n",
    "\n",
    "        privacy_number = ''\n",
    "        count = 0    \n",
    "        for number in phone_number:\n",
    "            count += 1\n",
    "        # 앞에서 7자리까지만 별표시하면 되므로 count가 1~7일 때 별표를 privacy_number 스트링에 넣으면 된다.\n",
    "            if count < 8:\n",
    "                privacy_number += '*'\n",
    "        # 나머지 경우에는 number를 차례로 추가하자 \n",
    "        # 처음에 추가하는 number에도 ''를 넣었다가 에러가 났다.\n",
    "        # privacy_number가 스트링 상자라서 번호가 더해지지 않고 추가해도 된다.\n",
    "            else:\n",
    "            \n",
    "                privacy_number += number\n",
    "    # for문, if문이 다 끝나고 맨위에 privacy_number 스트링상자를 리턴하게끔 줄맞춤을 한다.\n",
    "        return privacy_number\n",
    "\n",
    "    else:\n",
    "        print(\"핸드폰 번호를 입력하세요\")"
   ]
  },
  {
   "cell_type": "code",
   "execution_count": 102,
   "metadata": {},
   "outputs": [
    {
     "name": "stdout",
     "output_type": "stream",
     "text": [
      "핸드폰 번호를 입력하세요\n"
     ]
    }
   ],
   "source": [
    "privacy('01112341234')"
   ]
  },
  {
   "cell_type": "code",
   "execution_count": 98,
   "metadata": {
    "scrolled": true
   },
   "outputs": [
    {
     "data": {
      "text/plain": [
       "'*******1234'"
      ]
     },
     "execution_count": 98,
     "metadata": {},
     "output_type": "execute_result"
    }
   ],
   "source": [
    "privacy('01012341234')"
   ]
  },
  {
   "cell_type": "markdown",
   "metadata": {},
   "source": [
    "### 교수님 코드"
   ]
  },
  {
   "cell_type": "code",
   "execution_count": 111,
   "metadata": {},
   "outputs": [],
   "source": [
    "def privacy(phone):\n",
    "    result = ''\n",
    "    if phone[0:3] == '010' and len(phone) == 11 and phone.isdigit():\n",
    "        pass\n",
    "        \n",
    "        for i in range(len(phone)):\n",
    "            if i < 7:\n",
    "                result += '*'\n",
    "            else:\n",
    "                result += phone[i]\n",
    "            \n",
    "    else:\n",
    "        result = '핸드폰 번호를 입력해주세요'\n",
    "    return result"
   ]
  },
  {
   "cell_type": "code",
   "execution_count": 105,
   "metadata": {},
   "outputs": [
    {
     "data": {
      "text/plain": [
       "'핸드폰 번호를 입력해주세요'"
      ]
     },
     "execution_count": 105,
     "metadata": {},
     "output_type": "execute_result"
    }
   ],
   "source": [
    "privacy('01112341234')"
   ]
  },
  {
   "cell_type": "code",
   "execution_count": 106,
   "metadata": {},
   "outputs": [
    {
     "data": {
      "text/plain": [
       "'*******1234'"
      ]
     },
     "execution_count": 106,
     "metadata": {},
     "output_type": "execute_result"
    }
   ],
   "source": [
    "privacy('01012341234')"
   ]
  },
  {
   "cell_type": "code",
   "execution_count": 107,
   "metadata": {},
   "outputs": [
    {
     "data": {
      "text/plain": [
       "'핸드폰 번호를 입력해주세요'"
      ]
     },
     "execution_count": 107,
     "metadata": {},
     "output_type": "execute_result"
    }
   ],
   "source": [
    "privacy('010123234')"
   ]
  },
  {
   "cell_type": "code",
   "execution_count": 112,
   "metadata": {},
   "outputs": [
    {
     "data": {
      "text/plain": [
       "'핸드폰 번호를 입력해주세요'"
      ]
     },
     "execution_count": 112,
     "metadata": {},
     "output_type": "execute_result"
    }
   ],
   "source": [
    "privacy('010aaaa1234')"
   ]
  }
 ],
 "metadata": {
  "kernelspec": {
   "display_name": "Python 3",
   "language": "python",
   "name": "python3"
  },
  "language_info": {
   "codemirror_mode": {
    "name": "ipython",
    "version": 3
   },
   "file_extension": ".py",
   "mimetype": "text/x-python",
   "name": "python",
   "nbconvert_exporter": "python",
   "pygments_lexer": "ipython3",
   "version": "3.8.7"
  },
  "toc": {
   "base_numbering": 1,
   "nav_menu": {},
   "number_sections": true,
   "sideBar": true,
   "skip_h1_title": false,
   "title_cell": "Table of Contents",
   "title_sidebar": "Contents",
   "toc_cell": false,
   "toc_position": {},
   "toc_section_display": true,
   "toc_window_display": false
  }
 },
 "nbformat": 4,
 "nbformat_minor": 2
}
